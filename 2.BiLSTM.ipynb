{
  "nbformat": 4,
  "nbformat_minor": 0,
  "metadata": {
    "colab": {
      "name": "CNN + BiLSTM + BiLSTM.ipynb",
      "provenance": []
    },
    "kernelspec": {
      "name": "python3",
      "display_name": "Python 3"
    },
    "language_info": {
      "name": "python"
    }
  },
  "cells": [
    {
      "cell_type": "markdown",
      "metadata": {
        "id": "uJmTpj9FJ-5V"
      },
      "source": [
        "# Prep"
      ]
    },
    {
      "cell_type": "code",
      "metadata": {
        "colab": {
          "base_uri": "https://localhost:8080/"
        },
        "id": "lW8wMm83TsZG",
        "outputId": "5fcd3b5a-63d4-46fa-859c-5fc38ea48375"
      },
      "source": [
        "from google.colab import drive\n",
        "drive.mount('/content/drive')"
      ],
      "execution_count": null,
      "outputs": [
        {
          "output_type": "stream",
          "text": [
            "Mounted at /content/drive\n"
          ],
          "name": "stdout"
        }
      ]
    },
    {
      "cell_type": "code",
      "metadata": {
        "colab": {
          "base_uri": "https://localhost:8080/"
        },
        "id": "O1uApi_hOyxX",
        "outputId": "7e6e3cb4-378f-4d91-e1e4-114d2163a9a4"
      },
      "source": [
        "%tensorflow_version 2.x\n",
        "import tensorflow as tf\n",
        "print(\"Tensorflow version \" + tf.__version__)\n",
        "\n",
        "try:\n",
        "  tpu = tf.distribute.cluster_resolver.TPUClusterResolver()  # TPU detection\n",
        "  print('Running on TPU ', tpu.cluster_spec().as_dict()['worker'])\n",
        "except ValueError:\n",
        "  raise BaseException('ERROR: Not connected to a TPU runtime; please see the previous cell in this notebook for instructions!')\n",
        "\n",
        "tf.config.experimental_connect_to_cluster(tpu)\n",
        "tf.tpu.experimental.initialize_tpu_system(tpu)\n",
        "tpu_strategy = tf.distribute.experimental.TPUStrategy(tpu)"
      ],
      "execution_count": null,
      "outputs": [
        {
          "output_type": "stream",
          "text": [
            "Tensorflow version 2.4.1\n",
            "Running on TPU  ['10.46.65.74:8470']\n",
            "INFO:tensorflow:Initializing the TPU system: grpc://10.46.65.74:8470\n"
          ],
          "name": "stdout"
        },
        {
          "output_type": "stream",
          "text": [
            "INFO:tensorflow:Initializing the TPU system: grpc://10.46.65.74:8470\n"
          ],
          "name": "stderr"
        },
        {
          "output_type": "stream",
          "text": [
            "INFO:tensorflow:Clearing out eager caches\n"
          ],
          "name": "stdout"
        },
        {
          "output_type": "stream",
          "text": [
            "INFO:tensorflow:Clearing out eager caches\n"
          ],
          "name": "stderr"
        },
        {
          "output_type": "stream",
          "text": [
            "INFO:tensorflow:Finished initializing TPU system.\n"
          ],
          "name": "stdout"
        },
        {
          "output_type": "stream",
          "text": [
            "INFO:tensorflow:Finished initializing TPU system.\n",
            "WARNING:absl:`tf.distribute.experimental.TPUStrategy` is deprecated, please use  the non experimental symbol `tf.distribute.TPUStrategy` instead.\n"
          ],
          "name": "stderr"
        },
        {
          "output_type": "stream",
          "text": [
            "INFO:tensorflow:Found TPU system:\n"
          ],
          "name": "stdout"
        },
        {
          "output_type": "stream",
          "text": [
            "INFO:tensorflow:Found TPU system:\n"
          ],
          "name": "stderr"
        },
        {
          "output_type": "stream",
          "text": [
            "INFO:tensorflow:*** Num TPU Cores: 8\n"
          ],
          "name": "stdout"
        },
        {
          "output_type": "stream",
          "text": [
            "INFO:tensorflow:*** Num TPU Cores: 8\n"
          ],
          "name": "stderr"
        },
        {
          "output_type": "stream",
          "text": [
            "INFO:tensorflow:*** Num TPU Workers: 1\n"
          ],
          "name": "stdout"
        },
        {
          "output_type": "stream",
          "text": [
            "INFO:tensorflow:*** Num TPU Workers: 1\n"
          ],
          "name": "stderr"
        },
        {
          "output_type": "stream",
          "text": [
            "INFO:tensorflow:*** Num TPU Cores Per Worker: 8\n"
          ],
          "name": "stdout"
        },
        {
          "output_type": "stream",
          "text": [
            "INFO:tensorflow:*** Num TPU Cores Per Worker: 8\n"
          ],
          "name": "stderr"
        },
        {
          "output_type": "stream",
          "text": [
            "INFO:tensorflow:*** Available Device: _DeviceAttributes(/job:localhost/replica:0/task:0/device:CPU:0, CPU, 0, 0)\n"
          ],
          "name": "stdout"
        },
        {
          "output_type": "stream",
          "text": [
            "INFO:tensorflow:*** Available Device: _DeviceAttributes(/job:localhost/replica:0/task:0/device:CPU:0, CPU, 0, 0)\n"
          ],
          "name": "stderr"
        },
        {
          "output_type": "stream",
          "text": [
            "INFO:tensorflow:*** Available Device: _DeviceAttributes(/job:worker/replica:0/task:0/device:CPU:0, CPU, 0, 0)\n"
          ],
          "name": "stdout"
        },
        {
          "output_type": "stream",
          "text": [
            "INFO:tensorflow:*** Available Device: _DeviceAttributes(/job:worker/replica:0/task:0/device:CPU:0, CPU, 0, 0)\n"
          ],
          "name": "stderr"
        },
        {
          "output_type": "stream",
          "text": [
            "INFO:tensorflow:*** Available Device: _DeviceAttributes(/job:worker/replica:0/task:0/device:TPU:0, TPU, 0, 0)\n"
          ],
          "name": "stdout"
        },
        {
          "output_type": "stream",
          "text": [
            "INFO:tensorflow:*** Available Device: _DeviceAttributes(/job:worker/replica:0/task:0/device:TPU:0, TPU, 0, 0)\n"
          ],
          "name": "stderr"
        },
        {
          "output_type": "stream",
          "text": [
            "INFO:tensorflow:*** Available Device: _DeviceAttributes(/job:worker/replica:0/task:0/device:TPU:1, TPU, 0, 0)\n"
          ],
          "name": "stdout"
        },
        {
          "output_type": "stream",
          "text": [
            "INFO:tensorflow:*** Available Device: _DeviceAttributes(/job:worker/replica:0/task:0/device:TPU:1, TPU, 0, 0)\n"
          ],
          "name": "stderr"
        },
        {
          "output_type": "stream",
          "text": [
            "INFO:tensorflow:*** Available Device: _DeviceAttributes(/job:worker/replica:0/task:0/device:TPU:2, TPU, 0, 0)\n"
          ],
          "name": "stdout"
        },
        {
          "output_type": "stream",
          "text": [
            "INFO:tensorflow:*** Available Device: _DeviceAttributes(/job:worker/replica:0/task:0/device:TPU:2, TPU, 0, 0)\n"
          ],
          "name": "stderr"
        },
        {
          "output_type": "stream",
          "text": [
            "INFO:tensorflow:*** Available Device: _DeviceAttributes(/job:worker/replica:0/task:0/device:TPU:3, TPU, 0, 0)\n"
          ],
          "name": "stdout"
        },
        {
          "output_type": "stream",
          "text": [
            "INFO:tensorflow:*** Available Device: _DeviceAttributes(/job:worker/replica:0/task:0/device:TPU:3, TPU, 0, 0)\n"
          ],
          "name": "stderr"
        },
        {
          "output_type": "stream",
          "text": [
            "INFO:tensorflow:*** Available Device: _DeviceAttributes(/job:worker/replica:0/task:0/device:TPU:4, TPU, 0, 0)\n"
          ],
          "name": "stdout"
        },
        {
          "output_type": "stream",
          "text": [
            "INFO:tensorflow:*** Available Device: _DeviceAttributes(/job:worker/replica:0/task:0/device:TPU:4, TPU, 0, 0)\n"
          ],
          "name": "stderr"
        },
        {
          "output_type": "stream",
          "text": [
            "INFO:tensorflow:*** Available Device: _DeviceAttributes(/job:worker/replica:0/task:0/device:TPU:5, TPU, 0, 0)\n"
          ],
          "name": "stdout"
        },
        {
          "output_type": "stream",
          "text": [
            "INFO:tensorflow:*** Available Device: _DeviceAttributes(/job:worker/replica:0/task:0/device:TPU:5, TPU, 0, 0)\n"
          ],
          "name": "stderr"
        },
        {
          "output_type": "stream",
          "text": [
            "INFO:tensorflow:*** Available Device: _DeviceAttributes(/job:worker/replica:0/task:0/device:TPU:6, TPU, 0, 0)\n"
          ],
          "name": "stdout"
        },
        {
          "output_type": "stream",
          "text": [
            "INFO:tensorflow:*** Available Device: _DeviceAttributes(/job:worker/replica:0/task:0/device:TPU:6, TPU, 0, 0)\n"
          ],
          "name": "stderr"
        },
        {
          "output_type": "stream",
          "text": [
            "INFO:tensorflow:*** Available Device: _DeviceAttributes(/job:worker/replica:0/task:0/device:TPU:7, TPU, 0, 0)\n"
          ],
          "name": "stdout"
        },
        {
          "output_type": "stream",
          "text": [
            "INFO:tensorflow:*** Available Device: _DeviceAttributes(/job:worker/replica:0/task:0/device:TPU:7, TPU, 0, 0)\n"
          ],
          "name": "stderr"
        },
        {
          "output_type": "stream",
          "text": [
            "INFO:tensorflow:*** Available Device: _DeviceAttributes(/job:worker/replica:0/task:0/device:TPU_SYSTEM:0, TPU_SYSTEM, 0, 0)\n"
          ],
          "name": "stdout"
        },
        {
          "output_type": "stream",
          "text": [
            "INFO:tensorflow:*** Available Device: _DeviceAttributes(/job:worker/replica:0/task:0/device:TPU_SYSTEM:0, TPU_SYSTEM, 0, 0)\n"
          ],
          "name": "stderr"
        },
        {
          "output_type": "stream",
          "text": [
            "INFO:tensorflow:*** Available Device: _DeviceAttributes(/job:worker/replica:0/task:0/device:XLA_CPU:0, XLA_CPU, 0, 0)\n"
          ],
          "name": "stdout"
        },
        {
          "output_type": "stream",
          "text": [
            "INFO:tensorflow:*** Available Device: _DeviceAttributes(/job:worker/replica:0/task:0/device:XLA_CPU:0, XLA_CPU, 0, 0)\n"
          ],
          "name": "stderr"
        }
      ]
    },
    {
      "cell_type": "code",
      "metadata": {
        "id": "jvygDaIBzNuY"
      },
      "source": [
        "import json\n",
        "import numpy as np\n",
        "import os\n",
        "import functools,operator\n",
        "import random\n",
        "import matplotlib.pyplot as plt\n",
        "\n",
        "# tensorflow\n",
        "import tensorflow as tf\n",
        "from tensorflow.keras.preprocessing import image\n",
        "from tensorflow.keras.layers.experimental.preprocessing import TextVectorization\n",
        "from tensorflow.keras.preprocessing.sequence import pad_sequences\n",
        "from tensorflow.keras.utils import to_categorical\n",
        "\n",
        "from tensorflow.keras.models import Sequential\n",
        "from tensorflow.keras.layers import (LSTM, Embedding, \n",
        "    TimeDistributed, Dense, RepeatVector, \n",
        "    Activation, Flatten, Reshape, concatenate,  \n",
        "    Dropout, BatchNormalization, Bidirectional, Masking)\n",
        "from tensorflow.keras.optimizers import Adam, RMSprop\n",
        "from tensorflow.keras import Input, layers\n",
        "from tensorflow.keras import optimizers\n",
        "\n",
        "from tensorflow.keras.models import Model, load_model\n",
        "\n",
        "from tensorflow.keras.layers import add\n",
        "from keras.utils.vis_utils import plot_model\n",
        "from tensorflow.keras.callbacks import EarlyStopping\n",
        "from tensorflow.keras.layers import AdditiveAttention, Attention\n",
        "from tensorflow.keras.layers import Concatenate\n",
        "from tensorflow.keras.layers import GRU\n",
        "from keras.regularizers import l2\n",
        "\n"
      ],
      "execution_count": null,
      "outputs": []
    },
    {
      "cell_type": "code",
      "metadata": {
        "id": "Sx3G6yvC0DKy"
      },
      "source": [
        "with open(\"/content/drive/MyDrive/Colab Notebooks/CS5242/datafile/training_annotation.json\") as file:\n",
        "    training_annotation = json.load(file)\n",
        "\n",
        "with open(\"/content/drive/MyDrive/Colab Notebooks/CS5242/datafile/object1_object2.json\") as file:\n",
        "    object1_object2 = json.load(file)\n",
        "    \n",
        "with open(\"/content/drive/MyDrive/Colab Notebooks/CS5242/datafile/relationship.json\") as file:\n",
        "    relationship = json.load(file)"
      ],
      "execution_count": null,
      "outputs": []
    },
    {
      "cell_type": "code",
      "metadata": {
        "id": "jn-bt0J30Hc7"
      },
      "source": [
        "def get_relationship(val):\n",
        "    for key, value in relationship.items():\n",
        "        if val == value:\n",
        "            return key\n",
        "    return \"relationship key doesn't exist\"\n",
        "\n",
        "def get_object(val):\n",
        "    for key, value in object1_object2.items():\n",
        "        if val == value:\n",
        "            return key\n",
        "    return \"object key doesn't exist\""
      ],
      "execution_count": null,
      "outputs": []
    },
    {
      "cell_type": "code",
      "metadata": {
        "id": "2u5xLy2woiaK"
      },
      "source": [
        "def save_descriptions(training_annotation, filename):\n",
        "  lines = list()\n",
        "  for key in training_annotation.keys():\n",
        "    item = training_annotation[key]\n",
        "    object1 = get_object(item[0])\n",
        "    relationship = get_relationship(item[1])\n",
        "    object2 = get_object(item[2])\n",
        "    lines.append(key + ' ' + object1 + ' ' + relationship + ' ' + object2)\n",
        "\n",
        "  data = '\\n'.join(lines)\n",
        "  file = open(filename, 'w')\n",
        "  file.write(data)\n",
        "  file.close()"
      ],
      "execution_count": null,
      "outputs": []
    },
    {
      "cell_type": "code",
      "metadata": {
        "id": "EVTGJzgSomyO"
      },
      "source": [
        "filename = '/content/drive/MyDrive/Colab Notebooks/CS5242/datafile/train/descriptions.txt'\n",
        "save_descriptions(training_annotation, filename)"
      ],
      "execution_count": null,
      "outputs": []
    },
    {
      "cell_type": "code",
      "metadata": {
        "id": "CC5DYiSCqyRW"
      },
      "source": [
        "file = open(filename, 'r')\n",
        "text = file.read()\n",
        "\n",
        "# process line by line\n",
        "descriptions = {}\n",
        "for line in text.split('\\n'):\n",
        "  tokens = line.split()\n",
        "  image_id, image_desc = tokens[0], tokens[1:]\n",
        "  desc = '<BOS> ' + ' '.join(image_desc) + ' <EOS>'\n",
        "  descriptions[image_id] = desc\n"
      ],
      "execution_count": null,
      "outputs": []
    },
    {
      "cell_type": "code",
      "metadata": {
        "id": "JzrJwy128nF6"
      },
      "source": [
        "# tokenize description\n",
        "\n",
        "output_length = 5\n",
        "\n",
        "vectorizer = TextVectorization(standardize = None, output_sequence_length=output_length)\n",
        "text_ds = tf.data.Dataset.from_tensor_slices([descriptions[i] for i in descriptions])\n",
        "vectorizer.adapt(text_ds)\n",
        "for i in descriptions:\n",
        "  descriptions[i] = vectorizer([[descriptions[i]]])"
      ],
      "execution_count": null,
      "outputs": []
    },
    {
      "cell_type": "code",
      "metadata": {
        "id": "qyroQ3HW8nF7"
      },
      "source": [
        "voc = vectorizer.get_vocabulary()\n",
        "word_index = dict(zip(voc, range(len(voc))))\n",
        "index_word = dict(zip(range(len(voc)), voc))"
      ],
      "execution_count": null,
      "outputs": []
    },
    {
      "cell_type": "code",
      "metadata": {
        "id": "ij01-nJU8nF7"
      },
      "source": [
        "np.random.seed(5242)\n",
        "\n",
        "# Train test split\n",
        "train_split = 0.85\n",
        "\n",
        "descriptions_random = descriptions.copy()\n",
        "descriptions_random = list(descriptions.items())\n",
        "random.shuffle(descriptions_random)\n",
        "training_list = descriptions_random[:int(len(descriptions) * train_split)]\n",
        "validation_list = descriptions_random[int(len(descriptions) * train_split):]\n",
        "\n",
        "training_dict = dict(training_list)\n",
        "validation_dict = dict(validation_list)"
      ],
      "execution_count": null,
      "outputs": []
    },
    {
      "cell_type": "code",
      "metadata": {
        "id": "DhAQPuJf8nF7"
      },
      "source": [
        "def load_dataset(video_features_path, num_decoder_tokens, training_dict, output_length):\n",
        "  encoder_input_data = []\n",
        "  decoder_input_data = []\n",
        "  decoder_target_data = []\n",
        "\n",
        "  for idx in training_dict:\n",
        "    video_features = np.load(video_features_path + idx + '.npy')\n",
        "    encoder_input_data.append(video_features)\n",
        "    y = to_categorical(training_dict[idx][0], num_decoder_tokens)\n",
        "    decoder_input_data.append(y)\n",
        "    decoder_target_data.append(y)\n",
        "\n",
        "    encoder_input = np.array(encoder_input_data)\n",
        "    decoder_input = np.array(decoder_input_data)\n",
        "    decoder_target = np.array(decoder_target_data)\n",
        "\n",
        "  return [encoder_input, decoder_input], decoder_target"
      ],
      "execution_count": null,
      "outputs": []
    },
    {
      "cell_type": "code",
      "metadata": {
        "id": "9tkrfy1B8nF8"
      },
      "source": [
        "# declare variables\n",
        "\n",
        "\"\"\"\n",
        "time_steps_encoder is the number of frames per video we will be using for training\n",
        "num_encoder_tokens is the number of features from each frame\n",
        "latent_dim is the number of hidden features for lstm\n",
        "time_steps_decoder is the maximum length of each sentence\n",
        "num_decoder_tokens is the final number of tokens in the softmax layer\n",
        "\"\"\"\n",
        "\n",
        "epochs = 1000\n",
        "batch_size = 32\n",
        "time_steps_encoder = 30\n",
        "num_encoder_tokens = 2048\n",
        "latent_dim = 512\n",
        "time_steps_decoder = output_length\n",
        "num_decoder_tokens = len(voc)\n",
        "\n",
        "video_features_path = '/content/drive/MyDrive/Colab Notebooks/CS5242/datafile/train/features/'\n"
      ],
      "execution_count": null,
      "outputs": []
    },
    {
      "cell_type": "code",
      "metadata": {
        "id": "jJAmSKaP8nF8"
      },
      "source": [
        "X_train, y_train = load_dataset(video_features_path=video_features_path, num_decoder_tokens=num_decoder_tokens, training_dict=training_dict, output_length=output_length)\n",
        "X_val, y_val = load_dataset(video_features_path=video_features_path, num_decoder_tokens=num_decoder_tokens, training_dict=validation_dict, output_length=output_length)"
      ],
      "execution_count": null,
      "outputs": []
    },
    {
      "cell_type": "code",
      "metadata": {
        "colab": {
          "base_uri": "https://localhost:8080/"
        },
        "id": "Th3haPMi8nF8",
        "outputId": "d7e4d38e-5543-435c-aba3-a97dd153208b"
      },
      "source": [
        "print(\"encoder_input shape:\", X_train[0].shape)\n",
        "print(\"decoder_input shape:\", X_train[1].shape)\n",
        "print(\"decoder_target shape:\", y_train.shape)"
      ],
      "execution_count": null,
      "outputs": [
        {
          "output_type": "stream",
          "text": [
            "encoder_input shape: (379, 30, 2048)\n",
            "decoder_input shape: (379, 5, 121)\n",
            "decoder_target shape: (379, 5, 121)\n"
          ],
          "name": "stdout"
        }
      ]
    },
    {
      "cell_type": "code",
      "metadata": {
        "colab": {
          "base_uri": "https://localhost:8080/",
          "height": 914
        },
        "id": "EjUuNhsA8nF9",
        "outputId": "57b2bf5a-aec4-4865-e59e-10f98b6044a1"
      },
      "source": [
        "# set up encoder\n",
        "encoder_inputs = Input(shape=(time_steps_encoder, num_encoder_tokens), name='encoder_inputs')\n",
        "encoder = Bidirectional(LSTM(latent_dim, return_state=True, return_sequences=True,  dropout=0.5, recurrent_dropout=0.5, name='encoder_lstm'))\n",
        "_, state_h1, state_c1, state_h2, state_c2 = encoder(encoder_inputs)\n",
        "encoder_states = [state_h1, state_c1, state_h2, state_c2]\n",
        "\n",
        "# set up decoder\n",
        "decoder_inputs = Input(shape=(time_steps_decoder, num_decoder_tokens), name = 'decoder_inputs')\n",
        "decoder_lstm = Bidirectional(LSTM(latent_dim, return_sequences=True, return_state=True, dropout=0.5, recurrent_dropout=0.5, name='decoder_lstm'))\n",
        "decoder_outputs, h1, c1, h2, c2 = decoder_lstm(decoder_inputs, initial_state=encoder_states)\n",
        "decoder_dense = Dense(num_decoder_tokens, activation='softmax', name='decoder_relu')\n",
        "decoder_outputs = Dropout(0.5)(decoder_outputs)\n",
        "decoder_outputs = decoder_dense(decoder_outputs)\n",
        "\n",
        "# model\n",
        "model = Model([encoder_inputs, decoder_inputs], decoder_outputs)\n",
        "model.summary()\n",
        "plot_model(model, to_file='model_train.png', show_shapes=True, show_layer_names=True)"
      ],
      "execution_count": null,
      "outputs": [
        {
          "output_type": "stream",
          "text": [
            "Model: \"model_12\"\n",
            "__________________________________________________________________________________________________\n",
            "Layer (type)                    Output Shape         Param #     Connected to                     \n",
            "==================================================================================================\n",
            "encoder_inputs (InputLayer)     [(None, 30, 2048)]   0                                            \n",
            "__________________________________________________________________________________________________\n",
            "decoder_inputs (InputLayer)     [(None, 5, 121)]     0                                            \n",
            "__________________________________________________________________________________________________\n",
            "bidirectional_6 (Bidirectional) [(None, 30, 1024), ( 10489856    encoder_inputs[0][0]             \n",
            "__________________________________________________________________________________________________\n",
            "bidirectional_7 (Bidirectional) [(None, 5, 1024), (N 2596864     decoder_inputs[0][0]             \n",
            "                                                                 bidirectional_6[0][1]            \n",
            "                                                                 bidirectional_6[0][2]            \n",
            "                                                                 bidirectional_6[0][3]            \n",
            "                                                                 bidirectional_6[0][4]            \n",
            "__________________________________________________________________________________________________\n",
            "dropout_2 (Dropout)             (None, 5, 1024)      0           bidirectional_7[0][0]            \n",
            "__________________________________________________________________________________________________\n",
            "decoder_relu (Dense)            (None, 5, 121)       124025      dropout_2[0][0]                  \n",
            "==================================================================================================\n",
            "Total params: 13,210,745\n",
            "Trainable params: 13,210,745\n",
            "Non-trainable params: 0\n",
            "__________________________________________________________________________________________________\n"
          ],
          "name": "stdout"
        },
        {
          "output_type": "execute_result",
          "data": {
            "image/png": "[encoded data removed]",
            "text/plain": [
              "<IPython.core.display.Image object>"
            ]
          },
          "metadata": {
            "tags": []
          },
          "execution_count": 51
        }
      ]
    },
    {
      "cell_type": "code",
      "metadata": {
        "colab": {
          "base_uri": "https://localhost:8080/"
        },
        "id": "s1D_XiNI8nF9",
        "outputId": "dc6953f7-4150-4b3a-ed6a-1c14c85b4a9e"
      },
      "source": [
        "# Early Stopping\n",
        "earlystopping = EarlyStopping(monitor='val_loss', patience=10, verbose=1, mode='min')\n",
        "\n",
        "# Run training\n",
        "opt = tf.keras.optimizers.Adam(lr=0.0003)\n",
        "x = tf.keras.callbacks.ReduceLROnPlateau(monitor='val_loss', factor=0.1, patience=2, verbose=0, mode=\"auto\")\n",
        "model.compile(metrics=['accuracy'], optimizer=opt, loss='categorical_crossentropy')\n",
        "\n",
        "try:\n",
        "  model.fit(x = X_train, y = y_train, batch_size = batch_size, validation_data = (X_val, y_val), validation_steps=(len(validation_dict)//batch_size), epochs=epochs, callbacks=[x, earlystopping])\n",
        "except KeyboardInterrupt:\n",
        "    print(\"\\nW: interrupt received, stopping\")\n",
        "finally:\n",
        "    pass"
      ],
      "execution_count": null,
      "outputs": [
        {
          "output_type": "stream",
          "text": [
            "Epoch 1/1000\n",
            "12/12 [==============================] - 62s 4s/step - loss: 3.8047 - accuracy: 0.3042 - val_loss: 2.6632 - val_accuracy: 0.4000\n",
            "Epoch 2/1000\n",
            "12/12 [==============================] - 46s 4s/step - loss: 2.6550 - accuracy: 0.4057 - val_loss: 2.2973 - val_accuracy: 0.4625\n",
            "Epoch 3/1000\n",
            "12/12 [==============================] - 45s 4s/step - loss: 2.2893 - accuracy: 0.4649 - val_loss: 1.9758 - val_accuracy: 0.5500\n",
            "Epoch 4/1000\n",
            "12/12 [==============================] - 45s 4s/step - loss: 1.9150 - accuracy: 0.5957 - val_loss: 1.7786 - val_accuracy: 0.6469\n",
            "Epoch 5/1000\n",
            "12/12 [==============================] - 46s 4s/step - loss: 1.7156 - accuracy: 0.6399 - val_loss: 1.6248 - val_accuracy: 0.6844\n",
            "Epoch 6/1000\n",
            "12/12 [==============================] - 45s 4s/step - loss: 1.5038 - accuracy: 0.6681 - val_loss: 1.5356 - val_accuracy: 0.6875\n",
            "Epoch 7/1000\n",
            "12/12 [==============================] - 45s 4s/step - loss: 1.3470 - accuracy: 0.6985 - val_loss: 1.4661 - val_accuracy: 0.6906\n",
            "Epoch 8/1000\n",
            "12/12 [==============================] - 45s 4s/step - loss: 1.1774 - accuracy: 0.7207 - val_loss: 1.4222 - val_accuracy: 0.7000\n",
            "Epoch 9/1000\n",
            "12/12 [==============================] - 45s 4s/step - loss: 1.0784 - accuracy: 0.7392 - val_loss: 1.3763 - val_accuracy: 0.7156\n",
            "Epoch 10/1000\n",
            "12/12 [==============================] - 47s 4s/step - loss: 0.9769 - accuracy: 0.7469 - val_loss: 1.3041 - val_accuracy: 0.7312\n",
            "Epoch 11/1000\n",
            "12/12 [==============================] - 46s 4s/step - loss: 0.8890 - accuracy: 0.7702 - val_loss: 1.3200 - val_accuracy: 0.7063\n",
            "Epoch 12/1000\n",
            "12/12 [==============================] - 46s 4s/step - loss: 0.7800 - accuracy: 0.7951 - val_loss: 1.2786 - val_accuracy: 0.7406\n",
            "Epoch 13/1000\n",
            "12/12 [==============================] - 45s 4s/step - loss: 0.6824 - accuracy: 0.8122 - val_loss: 1.2494 - val_accuracy: 0.7219\n",
            "Epoch 14/1000\n",
            "12/12 [==============================] - 50s 4s/step - loss: 0.6315 - accuracy: 0.8158 - val_loss: 1.2267 - val_accuracy: 0.7281\n",
            "Epoch 15/1000\n",
            "12/12 [==============================] - 46s 4s/step - loss: 0.5551 - accuracy: 0.8489 - val_loss: 1.2292 - val_accuracy: 0.7375\n",
            "Epoch 16/1000\n",
            "12/12 [==============================] - 46s 4s/step - loss: 0.4825 - accuracy: 0.8542 - val_loss: 1.2121 - val_accuracy: 0.7375\n",
            "Epoch 17/1000\n",
            "12/12 [==============================] - 46s 4s/step - loss: 0.4071 - accuracy: 0.8962 - val_loss: 1.1951 - val_accuracy: 0.7406\n",
            "Epoch 18/1000\n",
            "12/12 [==============================] - 47s 4s/step - loss: 0.3774 - accuracy: 0.8967 - val_loss: 1.1780 - val_accuracy: 0.7437\n",
            "Epoch 19/1000\n",
            "12/12 [==============================] - 45s 4s/step - loss: 0.3039 - accuracy: 0.9313 - val_loss: 1.1547 - val_accuracy: 0.7500\n",
            "Epoch 20/1000\n",
            "12/12 [==============================] - 46s 4s/step - loss: 0.2893 - accuracy: 0.9339 - val_loss: 1.1796 - val_accuracy: 0.7437\n",
            "Epoch 21/1000\n",
            "12/12 [==============================] - 46s 4s/step - loss: 0.2414 - accuracy: 0.9578 - val_loss: 1.1874 - val_accuracy: 0.7437\n",
            "Epoch 22/1000\n",
            "12/12 [==============================] - 46s 4s/step - loss: 0.2071 - accuracy: 0.9542 - val_loss: 1.1632 - val_accuracy: 0.7500\n",
            "Epoch 23/1000\n",
            "12/12 [==============================] - 46s 4s/step - loss: 0.1990 - accuracy: 0.9632 - val_loss: 1.1544 - val_accuracy: 0.7563\n",
            "Epoch 24/1000\n",
            "12/12 [==============================] - 46s 4s/step - loss: 0.1560 - accuracy: 0.9786 - val_loss: 1.1683 - val_accuracy: 0.7531\n",
            "Epoch 25/1000\n",
            "12/12 [==============================] - 47s 4s/step - loss: 0.1529 - accuracy: 0.9747 - val_loss: 1.1724 - val_accuracy: 0.7563\n",
            "Epoch 26/1000\n",
            "12/12 [==============================] - 46s 4s/step - loss: 0.1595 - accuracy: 0.9757 - val_loss: 1.1726 - val_accuracy: 0.7563\n",
            "Epoch 27/1000\n",
            "12/12 [==============================] - 45s 4s/step - loss: 0.1617 - accuracy: 0.9750 - val_loss: 1.1722 - val_accuracy: 0.7563\n",
            "Epoch 28/1000\n",
            "12/12 [==============================] - 45s 4s/step - loss: 0.1475 - accuracy: 0.9776 - val_loss: 1.1721 - val_accuracy: 0.7563\n",
            "Epoch 29/1000\n",
            "12/12 [==============================] - 45s 4s/step - loss: 0.1546 - accuracy: 0.9769 - val_loss: 1.1721 - val_accuracy: 0.7563\n",
            "Epoch 30/1000\n",
            "12/12 [==============================] - 45s 4s/step - loss: 0.1572 - accuracy: 0.9690 - val_loss: 1.1721 - val_accuracy: 0.7563\n",
            "Epoch 31/1000\n",
            "12/12 [==============================] - 46s 4s/step - loss: 0.1527 - accuracy: 0.9814 - val_loss: 1.1720 - val_accuracy: 0.7563\n",
            "Epoch 32/1000\n",
            "12/12 [==============================] - 45s 4s/step - loss: 0.1608 - accuracy: 0.9749 - val_loss: 1.1720 - val_accuracy: 0.7563\n",
            "Epoch 33/1000\n",
            "12/12 [==============================] - 45s 4s/step - loss: 0.1356 - accuracy: 0.9862 - val_loss: 1.1720 - val_accuracy: 0.7563\n",
            "Epoch 00033: early stopping\n"
          ],
          "name": "stdout"
        }
      ]
    },
    {
      "cell_type": "code",
      "metadata": {
        "colab": {
          "base_uri": "https://localhost:8080/",
          "height": 266
        },
        "id": "aSEdc3HM8nF-",
        "outputId": "9105140d-fb6b-4509-bcfa-3b1783e7ae00"
      },
      "source": [
        "plt.plot(model.history.history['loss'])\n",
        "plt.plot(model.history.history['val_loss'])\n",
        "plt.legend(['train', 'test'], loc='upper right')\n",
        "plt.savefig('loss.png')\n",
        "plt.show()"
      ],
      "execution_count": null,
      "outputs": [
        {
          "output_type": "display_data",
          "data": {
            "image/png": "[encoded data removed]",
            "text/plain": [
              "<Figure size 432x288 with 1 Axes>"
            ]
          },
          "metadata": {
            "tags": []
          }
        }
      ]
    },
    {
      "cell_type": "code",
      "metadata": {
        "colab": {
          "base_uri": "https://localhost:8080/",
          "height": 265
        },
        "id": "tKtzedLH8nF_",
        "outputId": "9f2c86f2-bbdd-4249-aefa-49e6d37098e6"
      },
      "source": [
        "plt.plot(model.history.history['accuracy'])\n",
        "plt.plot(model.history.history['val_accuracy'])\n",
        "plt.legend(['train', 'test'], loc='upper right')\n",
        "plt.savefig('accuracy.png')\n",
        "plt.show()"
      ],
      "execution_count": null,
      "outputs": [
        {
          "output_type": "display_data",
          "data": {
            "image/png": "[encoded data removed]",
            "text/plain": [
              "<Figure size 432x288 with 1 Axes>"
            ]
          },
          "metadata": {
            "tags": []
          }
        }
      ]
    },
    {
      "cell_type": "code",
      "metadata": {
        "id": "qUIw78qK8nF_"
      },
      "source": [
        "save_model_path = '/content/drive/MyDrive/Colab Notebooks/CS5242/datafile/train/model_ax'\n",
        "if not os.path.exists(save_model_path):\n",
        "    os.makedirs(save_model_path)\n",
        "\n",
        "encoder_model_name = 'encoder_model_method14.h5'\n",
        "decoder_model_name = 'decoder_model_weights_method14.h5'\n",
        "\n",
        "# Saving encoder as in training\n",
        "encoder_model = Model(encoder_inputs, encoder_states)\n",
        "\n",
        "# Saving decoder states and dense layer \n",
        "decoder_state_input_h1 = Input(shape=(latent_dim,))\n",
        "decoder_state_input_c1 = Input(shape=(latent_dim,))\n",
        "decoder_state_input_h2 = Input(shape=(latent_dim,))\n",
        "decoder_state_input_c2 = Input(shape=(latent_dim,))\n",
        "\n",
        "decoder_states_inputs = [decoder_state_input_h1, decoder_state_input_c1, decoder_state_input_h2, decoder_state_input_c2]\n",
        "decoder_outputs, state_h1, state_c1, state_h2, state_c2 = decoder_lstm(decoder_inputs, initial_state = decoder_states_inputs)\n",
        "decoder_states = [state_h1, state_c1, state_h2, state_c2]\n",
        "decoder_outputs = decoder_dense(decoder_outputs)\n",
        "decoder_model = Model(\n",
        "    [decoder_inputs] + decoder_states_inputs,\n",
        "    [decoder_outputs] + decoder_states)\n",
        "\n",
        "encoder_model.save(os.path.join(save_model_path, encoder_model_name))\n",
        "decoder_model.save_weights(os.path.join(save_model_path, decoder_model_name))"
      ],
      "execution_count": null,
      "outputs": []
    },
    {
      "cell_type": "markdown",
      "metadata": {
        "id": "RNLhdaBg8nF_"
      },
      "source": [
        "### Inference"
      ]
    },
    {
      "cell_type": "code",
      "metadata": {
        "id": "EMv_fkcu8nF_"
      },
      "source": [
        "# declare variables\n",
        "\n",
        "\"\"\"\n",
        "time_steps_encoder is the number of frames per video we will be using for training\n",
        "num_encoder_tokens is the number of features from each frame\n",
        "latent_dim is the number of hidden features for lstm\n",
        "time_steps_decoder is the maximum length of each sentence\n",
        "num_decoder_tokens is the final number of tokens in the softmax layer\n",
        "\"\"\"\n",
        "epochs = 1000\n",
        "batch_size = 32\n",
        "time_steps_encoder = 30\n",
        "num_encoder_tokens = 2048\n",
        "latent_dim = 512\n",
        "time_steps_decoder = output_length\n",
        "num_decoder_tokens = len(voc)\n",
        "save_model_path = '/content/drive/MyDrive/Colab Notebooks/CS5242/datafile/train/model_ax'\n",
        "encoder_model_name = 'encoder_model_method14.h5'\n",
        "decoder_model_name = 'decoder_model_weights_method14.h5'"
      ],
      "execution_count": null,
      "outputs": []
    },
    {
      "cell_type": "code",
      "metadata": {
        "colab": {
          "base_uri": "https://localhost:8080/"
        },
        "id": "7us2KMhA8nF_",
        "outputId": "78d3e721-61d8-4c34-e94d-e253eb448727"
      },
      "source": [
        "# inference encoder model\n",
        "inf_encoder_model = load_model(os.path.join(save_model_path, encoder_model_name))\n",
        "\n",
        "# inference decoder model\n",
        "decoder_inputs = Input(shape=(None, num_decoder_tokens))\n",
        "\n",
        "decoder_state_input_h1 = Input(shape=(latent_dim,))\n",
        "decoder_state_input_c1 = Input(shape=(latent_dim,))\n",
        "decoder_state_input_h2 = Input(shape=(latent_dim,))\n",
        "decoder_state_input_c2 = Input(shape=(latent_dim,))\n",
        "decoder_states_inputs = [decoder_state_input_h1, decoder_state_input_c1, decoder_state_input_h2, decoder_state_input_c2]\n",
        "\n",
        "decoder_lstm = Bidirectional(LSTM(latent_dim, return_sequences=True, return_state=True))\n",
        "decoder_dense = Dense(num_decoder_tokens, activation='softmax')\n",
        "\n",
        "decoder_outputs, state_h1, state_c1, state_h2, state_c2 = decoder_lstm(decoder_inputs, initial_state=decoder_states_inputs)\n",
        "decoder_states = [state_h1, state_c1, state_h2, state_c2]\n",
        "decoder_outputs = decoder_dense(decoder_outputs)\n",
        "\n",
        "inf_decoder_model = Model([decoder_inputs] + decoder_states_inputs, [decoder_outputs] + decoder_states)\n",
        "inf_decoder_model.load_weights(os.path.join(save_model_path, decoder_model_name))"
      ],
      "execution_count": null,
      "outputs": [
        {
          "output_type": "stream",
          "text": [
            "WARNING:tensorflow:No training configuration found in the save file, so the model was *not* compiled. Compile it manually.\n"
          ],
          "name": "stdout"
        },
        {
          "output_type": "stream",
          "text": [
            "WARNING:tensorflow:No training configuration found in the save file, so the model was *not* compiled. Compile it manually.\n"
          ],
          "name": "stderr"
        }
      ]
    },
    {
      "cell_type": "code",
      "metadata": {
        "colab": {
          "base_uri": "https://localhost:8080/",
          "height": 201
        },
        "id": "MC3PjACn8nGA",
        "outputId": "2a3729de-d9e4-4551-b60a-ef2667f14436"
      },
      "source": [
        "plot_model(inf_encoder_model, to_file='model_inference_decoder.png', show_shapes=True, show_layer_names=True)"
      ],
      "execution_count": null,
      "outputs": [
        {
          "output_type": "execute_result",
          "data": {
            "image/png": "[encoded data removed]",
            "text/plain": [
              "<IPython.core.display.Image object>"
            ]
          },
          "metadata": {
            "tags": []
          },
          "execution_count": 125
        }
      ]
    },
    {
      "cell_type": "code",
      "metadata": {
        "colab": {
          "base_uri": "https://localhost:8080/",
          "height": 225
        },
        "id": "91tSfwyc8nGA",
        "outputId": "3a2a1c3f-ab26-4d3e-a2cf-70e5d8526998"
      },
      "source": [
        "plot_model(inf_decoder_model, to_file='model_inference_decoder.png', show_shapes=True, show_layer_names=True)"
      ],
      "execution_count": null,
      "outputs": [
        {
          "output_type": "execute_result",
          "data": {
            "image/png": "[encoded data removed]",
            "text/plain": [
              "<IPython.core.display.Image object>"
            ]
          },
          "metadata": {
            "tags": []
          },
          "execution_count": 126
        }
      ]
    },
    {
      "cell_type": "markdown",
      "metadata": {
        "id": "VK-0-EOK8nGA"
      },
      "source": [
        "### Exhaustive Search"
      ]
    },
    {
      "cell_type": "code",
      "metadata": {
        "id": "PQgCWQOs8nGA"
      },
      "source": [
        "def exhaustive_search(video_features):\n",
        "  node = 50\n",
        "  all_candidates = []\n",
        "\n",
        "  # initialise prediction with <BOS>\n",
        "  states_value = inf_encoder_model.predict(video_features)\n",
        "  target_seq = np.zeros((1, 1, num_decoder_tokens))\n",
        "  target_seq[0, 0, word_index['<BOS>']] = 1\n",
        "  output_tokens, h1, c1, h2, c2 = inf_decoder_model.predict([target_seq] + states_value)\n",
        "  output_tokens = output_tokens.reshape((num_decoder_tokens))\n",
        "  sampled_token_index = output_tokens.argsort()[-node:][::-1]\n",
        "  states_value = [h1, c1, h2, c2]\n",
        "\n",
        "  # predict for every node\n",
        "  for i in sampled_token_index:\n",
        "    if (index_word[i] == '<BOS>') or (index_word[i] == '<EOS>') or (index_word[i] not in object1_object2.keys()):\n",
        "      continue\n",
        "    \n",
        "    else:\n",
        "      path = []\n",
        "      score = 0.0\n",
        "\n",
        "      sampled_char = index_word[i]\n",
        "      prob = output_tokens[i]\n",
        "      score = score - np.log(prob)\n",
        "      path.append(sampled_char)\n",
        "\n",
        "      target_seq_2 = np.zeros((1, 1, num_decoder_tokens))\n",
        "      target_seq_2[0, 0, i] = 1\n",
        "      output_tokens_2, h1_2, c1_2, h2_2, c2_2 = inf_decoder_model.predict([target_seq_2] + states_value)\n",
        "      output_tokens_2 = output_tokens_2.reshape((num_decoder_tokens))\n",
        "      sampled_token_index_2 = output_tokens_2.argsort()[-node:][::-1]\n",
        "      states_value_2 = [h1_2, c1_2, h2_2, c2_2]\n",
        "\n",
        "      for i in sampled_token_index_2:\n",
        "        if (index_word[i] == '<BOS>') or (index_word[i] == '<EOS>') or (index_word[i] not in relationship.keys()):\n",
        "          continue\n",
        "        \n",
        "        else:\n",
        "          path_2 = path.copy()\n",
        "          score_2 = score.copy()\n",
        "\n",
        "          sampled_char_2 = index_word[i]\n",
        "          prob_2 = output_tokens_2[i]\n",
        "          score_2 = score - np.log(prob_2)\n",
        "          path_2.append(sampled_char_2)\n",
        "\n",
        "          target_seq_3 = np.zeros((1, 1, num_decoder_tokens))\n",
        "          target_seq_3[0, 0, i] = 1\n",
        "          output_tokens_3, h1_3, c1_3, h2_3, c2_3 = inf_decoder_model.predict([target_seq_3] + states_value_2)\n",
        "          output_tokens_3 = output_tokens_3.reshape((num_decoder_tokens))\n",
        "          sampled_token_index_3 = output_tokens_3.argsort()[-node:][::-1]\n",
        "          states_value_3 = [h1_3, c1_3, h2_3, c2_3]\n",
        "\n",
        "          for i in sampled_token_index_3:\n",
        "            if (index_word[i] == '<BOS>') or (index_word[i] == '<EOS>') or (index_word[i] not in object1_object2.keys()):\n",
        "              continue\n",
        "            \n",
        "            else:\n",
        "              path_3 = path_2.copy()\n",
        "              score_3 = score_2.copy()\n",
        "\n",
        "              sampled_char_3 = index_word[i]\n",
        "              prob_3 = output_tokens_3[i]\n",
        "              score_3 = score_2 - np.log(prob_3)\n",
        "              path_3.append(sampled_char_3)\n",
        "              \n",
        "              candidate = [path_3, score_3]\n",
        "              all_candidates.append(candidate)\n",
        "\n",
        "  ordered = sorted(all_candidates, key=lambda tup:tup[1])\n",
        "  return ordered"
      ],
      "execution_count": null,
      "outputs": []
    },
    {
      "cell_type": "code",
      "metadata": {
        "id": "qb1raawX8nGA"
      },
      "source": [
        "def get_top5_preds(ordered):\n",
        "\n",
        "  top = 5\n",
        "\n",
        "  preds = [lst[0] for lst in ordered]\n",
        "  obj1 = [lst[0] for lst in preds]\n",
        "  rel = [lst[1] for lst in preds]\n",
        "  obj2 = [lst[2] for lst in preds]\n",
        "\n",
        "  obj1_top5 = []\n",
        "  rel_top5 = []\n",
        "  obj2_top5 = []\n",
        "\n",
        "  for i in obj1:\n",
        "    if i not in obj1_top5:\n",
        "      obj1_top5.append(i)\n",
        "    if len(obj1_top5) == top:\n",
        "      break\n",
        "\n",
        "  for i in rel:\n",
        "    if i not in rel_top5:\n",
        "      rel_top5.append(i)\n",
        "    if len(rel_top5) == top:\n",
        "      break\n",
        "\n",
        "  for i in obj2:\n",
        "    if i not in obj2_top5:\n",
        "      obj2_top5.append(i)\n",
        "    if len(obj2_top5) == top:\n",
        "      break\n",
        "\n",
        "  dic_words = {'object1': ' '.join(obj1_top5), 'relationship':' '.join(rel_top5), 'object2:':' '.join(obj2_top5)}\n",
        "\n",
        "  obj1_top5_idx = [str(object1_object2[word]) for word in obj1_top5]\n",
        "  rel_top5_idx = [str(relationship[word]) for word in rel_top5]\n",
        "  obj2_top5_idx = [str(object1_object2[word]) for word in obj2_top5]\n",
        "\n",
        "  dic_idx = {'object1': ' '.join(obj1_top5_idx), 'relationship':' '.join(rel_top5_idx), 'object2':' '.join(obj2_top5_idx)}\n",
        "  \n",
        "  # for validation set format for comparison\n",
        "  val_format = []\n",
        "  val_format.append(object1_object2[obj1_top5[0]])\n",
        "  val_format.append(relationship[rel_top5[0]])\n",
        "  val_format.append(object1_object2[obj2_top5[0]])\n",
        "\n",
        "  return dic_words, dic_idx, val_format"
      ],
      "execution_count": null,
      "outputs": []
    },
    {
      "cell_type": "code",
      "metadata": {
        "colab": {
          "base_uri": "https://localhost:8080/"
        },
        "id": "pzngrH8q8nGB",
        "outputId": "72521b95-287f-49ba-d4e1-52cc63108def"
      },
      "source": [
        "# test set prediction\n",
        "\n",
        "import pandas as pd\n",
        "\n",
        "test_features = os.listdir('/content/drive/MyDrive/Colab Notebooks/CS5242/datafile/test/features')\n",
        "\n",
        "df_pred = pd.DataFrame(columns = ['object1', 'relationship', 'object2'])\n",
        "df_pred.index.names = ['ID']\n",
        "\n",
        "count = 0\n",
        "\n",
        "for i in test_features:\n",
        "  video = i[:-4]\n",
        "  video_features = np.load('/content/drive/MyDrive/Colab Notebooks/CS5242/datafile/test/features/' + video + '.npy')\n",
        "  video_features = video_features.reshape(-1, video_features.shape[0], video_features.shape[1])\n",
        "\n",
        "  ordered = exhaustive_search(video_features)\n",
        "  words, idx, val_format = get_top5_preds(ordered)\n",
        "\n",
        "  df_pred.loc[video] = idx\n",
        "\n",
        "  count += 1\n",
        "  print(\"{}/{} Video: {}\".format(count, len(test_features), video))\n",
        "  print(\"{}\\n\".format(idx))"
      ],
      "execution_count": null,
      "outputs": [
        {
          "output_type": "stream",
          "text": [
            "1/119 Video: 000000\n",
            "{'object1': '29 9 12 1 30', 'relationship': '8 28 79 17 75', 'object2': '29 4 9 17 0'}\n",
            "\n",
            "2/119 Video: 000001\n",
            "{'object1': '29 15 1 9 12', 'relationship': '8 17 47 28 79', 'object2': '29 4 0 9 24'}\n",
            "\n",
            "3/119 Video: 000002\n",
            "{'object1': '33 30 11 15 1', 'relationship': '24 48 46 30 22', 'object2': '30 5 2 23 8'}\n",
            "\n",
            "4/119 Video: 000003\n",
            "{'object1': '30 29 1 33 11', 'relationship': '24 46 66 63 29', 'object2': '30 2 5 1 21'}\n",
            "\n",
            "5/119 Video: 000004\n",
            "{'object1': '30 29 33 1 11', 'relationship': '24 46 66 29 63', 'object2': '30 2 5 21 1'}\n",
            "\n",
            "6/119 Video: 000005\n",
            "{'object1': '30 29 33 1 11', 'relationship': '24 46 66 63 29', 'object2': '2 30 5 21 23'}\n",
            "\n",
            "7/119 Video: 000006\n",
            "{'object1': '29 33 30 11 12', 'relationship': '18 65 2 79 30', 'object2': '29 30 33 21 28'}\n",
            "\n",
            "8/119 Video: 000007\n",
            "{'object1': '33 15 30 29 11', 'relationship': '40 53 13 78 66', 'object2': '30 28 33 10 15'}\n",
            "\n",
            "9/119 Video: 000008\n",
            "{'object1': '29 15 32 0 11', 'relationship': '3 55 8 75 15', 'object2': '32 17 0 29 18'}\n",
            "\n",
            "10/119 Video: 000009\n",
            "{'object1': '13 15 29 11 33', 'relationship': '39 74 15 65 68', 'object2': '13 24 29 0 15'}\n",
            "\n",
            "11/119 Video: 000010\n",
            "{'object1': '15 33 11 16 25', 'relationship': '74 64 50 2 63', 'object2': '16 25 18 15 32'}\n",
            "\n",
            "12/119 Video: 000011\n",
            "{'object1': '29 15 32 33 30', 'relationship': '15 75 2 50 70', 'object2': '32 30 29 16 15'}\n",
            "\n",
            "13/119 Video: 000012\n",
            "{'object1': '29 33 30 15 11', 'relationship': '46 29 24 20 66', 'object2': '30 2 29 32 12'}\n",
            "\n",
            "14/119 Video: 000013\n",
            "{'object1': '30 33 29 15 12', 'relationship': '24 46 50 20 66', 'object2': '2 30 4 15 18'}\n",
            "\n",
            "15/119 Video: 000014\n",
            "{'object1': '29 33 30 11 12', 'relationship': '24 29 46 20 50', 'object2': '30 2 29 12 18'}\n",
            "\n",
            "16/119 Video: 000015\n",
            "{'object1': '13 15 11 29 33', 'relationship': '39 74 55 38 15', 'object2': '13 0 31 21 24'}\n",
            "\n",
            "17/119 Video: 000016\n",
            "{'object1': '20 33 30 12 15', 'relationship': '68 17 3 38 42', 'object2': '20 30 4 22'}\n",
            "\n",
            "18/119 Video: 000017\n",
            "{'object1': '20 33 30 15 12', 'relationship': '17 38 42 68 3', 'object2': '20 30 18'}\n",
            "\n",
            "19/119 Video: 000018\n",
            "{'object1': '33 29 24 30 15', 'relationship': '17 35 16 40 64', 'object2': '24 0 30 29 18'}\n",
            "\n",
            "20/119 Video: 000019\n",
            "{'object1': '29 15 11 24 33', 'relationship': '17 70 3 79 35', 'object2': '29 24 0 4 30'}\n",
            "\n",
            "21/119 Video: 000020\n",
            "{'object1': '1 12 11 29 33', 'relationship': '47 35 65 75 63', 'object2': '3 1 32 12 25'}\n",
            "\n",
            "22/119 Video: 000021\n",
            "{'object1': '30 33 29 15 11', 'relationship': '46 50 24 29 66', 'object2': '2 30 20 1 27'}\n",
            "\n",
            "23/119 Video: 000022\n",
            "{'object1': '30 33 29 11 15', 'relationship': '24 46 29 50 20', 'object2': '2 30 5 32 18'}\n",
            "\n",
            "24/119 Video: 000023\n",
            "{'object1': '30 29 33 1 11', 'relationship': '24 46 29 50 66', 'object2': '2 30 5 21 28'}\n",
            "\n",
            "25/119 Video: 000024\n",
            "{'object1': '30 29 33 11 15', 'relationship': '46 24 29 50 80', 'object2': '30 2 5 28 17'}\n",
            "\n",
            "26/119 Video: 000025\n",
            "{'object1': '33 29 30 11 15', 'relationship': '24 29 46 80 74', 'object2': '2 30 29 17 0'}\n",
            "\n",
            "27/119 Video: 000026\n",
            "{'object1': '1 8 30 29 33', 'relationship': '63 47 38 35 24', 'object2': '8 30 1 18 0'}\n",
            "\n",
            "28/119 Video: 000027\n",
            "{'object1': '29 33 0 15 30', 'relationship': '38 64 3 28 8', 'object2': '0 29 4 31 24'}\n",
            "\n",
            "29/119 Video: 000028\n",
            "{'object1': '34 33 11 1 15', 'relationship': '70 79 65 9 63', 'object2': '34 22 24 3 4'}\n",
            "\n",
            "30/119 Video: 000029\n",
            "{'object1': '9 30 15 33 29', 'relationship': '16 66 35 46 79', 'object2': '9 30 4 24 29'}\n",
            "\n",
            "31/119 Video: 000030\n",
            "{'object1': '9 30 15 29 33', 'relationship': '66 16 46 35 47', 'object2': '9 30 4 0 24'}\n",
            "\n",
            "32/119 Video: 000031\n",
            "{'object1': '9 30 15 29 33', 'relationship': '16 66 35 46 79', 'object2': '9 30 4 24 3'}\n",
            "\n",
            "33/119 Video: 000032\n",
            "{'object1': '9 30 15 29 33', 'relationship': '66 16 35 46 47', 'object2': '9 30 4 24 0'}\n",
            "\n",
            "34/119 Video: 000033\n",
            "{'object1': '9 30 15 33 29', 'relationship': '66 16 35 46 8', 'object2': '9 30 4 0 3'}\n",
            "\n",
            "35/119 Video: 000034\n",
            "{'object1': '14 29 33 15 24', 'relationship': '63 79 65 17 42', 'object2': '14 21 24 29 30'}\n",
            "\n",
            "36/119 Video: 000035\n",
            "{'object1': '29 14 33 1 30', 'relationship': '79 65 63 17 66', 'object2': '14 24 21 3 1'}\n",
            "\n",
            "37/119 Video: 000036\n",
            "{'object1': '29 14 33 15 24', 'relationship': '63 79 65 17 38', 'object2': '14 24 21 29 30'}\n",
            "\n",
            "38/119 Video: 000037\n",
            "{'object1': '30 33 29 11 1', 'relationship': '24 46 66 29 20', 'object2': '30 5 2 28 23'}\n",
            "\n",
            "39/119 Video: 000038\n",
            "{'object1': '30 33 29 11 5', 'relationship': '24 46 66 29 20', 'object2': '30 5 2 28 23'}\n",
            "\n",
            "40/119 Video: 000039\n",
            "{'object1': '15 11 33 29 0', 'relationship': '37 47 70 35 48', 'object2': '15 24 8 7 11'}\n",
            "\n",
            "41/119 Video: 000040\n",
            "{'object1': '34 33 1 15 11', 'relationship': '9 70 65 47 79', 'object2': '34 22 3 28'}\n",
            "\n",
            "42/119 Video: 000041\n",
            "{'object1': '13 15 11 29 33', 'relationship': '39 15 55 74 75', 'object2': '13 0 15 17 31'}\n",
            "\n",
            "43/119 Video: 000042\n",
            "{'object1': '1 29 15 33 11', 'relationship': '63 17 32 4 8', 'object2': '1 24 29 25 15'}\n",
            "\n",
            "44/119 Video: 000043\n",
            "{'object1': '15 11 33 13 30', 'relationship': '48 15 55 39 63', 'object2': '15 11 0'}\n",
            "\n",
            "45/119 Video: 000044\n",
            "{'object1': '30 33 29 11 15', 'relationship': '46 24 66 30 79', 'object2': '5 30 2 28 12'}\n",
            "\n",
            "46/119 Video: 000045\n",
            "{'object1': '30 5 33 29 11', 'relationship': '24 46 66 59 13', 'object2': '5 30 2 28 4'}\n",
            "\n",
            "47/119 Video: 000046\n",
            "{'object1': '30 1 29 33 15', 'relationship': '24 46 40 50 66', 'object2': '30 5 2 24 1'}\n",
            "\n",
            "48/119 Video: 000047\n",
            "{'object1': '29 30 33 12 11', 'relationship': '35 75 2 79 42', 'object2': '29 30 0 32 12'}\n",
            "\n",
            "49/119 Video: 000048\n",
            "{'object1': '29 30 33 12 11', 'relationship': '65 75 35 8 2', 'object2': '29 30 0 12 32'}\n",
            "\n",
            "50/119 Video: 000049\n",
            "{'object1': '29 33 30 12 11', 'relationship': '65 75 42 2 55', 'object2': '29 30 32 12 0'}\n",
            "\n",
            "51/119 Video: 000050\n",
            "{'object1': '29 33 30 15 12', 'relationship': '10 34 2 75 27', 'object2': '29 30 18 4 24'}\n",
            "\n",
            "52/119 Video: 000051\n",
            "{'object1': '29 30 33 15 11', 'relationship': '2 10 34 74 27', 'object2': '30 29 4 0 18'}\n",
            "\n",
            "53/119 Video: 000052\n",
            "{'object1': '29 30 33 11 15', 'relationship': '10 34 2 42 75', 'object2': '30 29 4 24'}\n",
            "\n",
            "54/119 Video: 000053\n",
            "{'object1': '7 33 15 11 24', 'relationship': '25 0 30 46 58', 'object2': '7 24 4 10 15'}\n",
            "\n",
            "55/119 Video: 000054\n",
            "{'object1': '15 33 29 7 11', 'relationship': '0 25 63 35 40', 'object2': '7 24 15 29 33'}\n",
            "\n",
            "56/119 Video: 000055\n",
            "{'object1': '34 1 33 11 15', 'relationship': '70 9 47 65 79', 'object2': '34 3 22 4 1'}\n",
            "\n",
            "57/119 Video: 000056\n",
            "{'object1': '30 1 33 29 2', 'relationship': '24 66 46 63 29', 'object2': '2 30 5 21 23'}\n",
            "\n",
            "58/119 Video: 000057\n",
            "{'object1': '30 29 1 33 15', 'relationship': '24 66 46 63 29', 'object2': '30 2 5 21 4'}\n",
            "\n",
            "59/119 Video: 000058\n",
            "{'object1': '29 1 33 30 11', 'relationship': '24 46 66 29 63', 'object2': '2 30 5 29 1'}\n",
            "\n",
            "60/119 Video: 000059\n",
            "{'object1': '33 30 11 15 12', 'relationship': '66 24 22 17 13', 'object2': '24 30 23 9 12'}\n",
            "\n",
            "61/119 Video: 000060\n",
            "{'object1': '30 33 29 15 1', 'relationship': '46 24 66 29 47', 'object2': '30 5 2 28 4'}\n",
            "\n",
            "62/119 Video: 000061\n",
            "{'object1': '30 33 29 11 1', 'relationship': '46 24 29 50 20', 'object2': '2 30 0 5 21'}\n",
            "\n",
            "63/119 Video: 000062\n",
            "{'object1': '30 33 29 15 1', 'relationship': '24 46 29 2 50', 'object2': '2 30 5 29 32'}\n",
            "\n",
            "64/119 Video: 000063\n",
            "{'object1': '30 29 33 11 1', 'relationship': '24 46 29 66 20', 'object2': '2 30 5 28 4'}\n",
            "\n",
            "65/119 Video: 000064\n",
            "{'object1': '9 15 29 30 1', 'relationship': '66 75 8 16 63', 'object2': '9 30 4 0 29'}\n",
            "\n",
            "66/119 Video: 000065\n",
            "{'object1': '29 33 15 30 11', 'relationship': '46 40 29 8 75', 'object2': '29 24 30 15 32'}\n",
            "\n",
            "67/119 Video: 000066\n",
            "{'object1': '29 15 11 24 0', 'relationship': '63 50 70 29 40', 'object2': '29 24 0 17 25'}\n",
            "\n",
            "68/119 Video: 000067\n",
            "{'object1': '29 33 15 30 32', 'relationship': '29 40 8 46 66', 'object2': '29 30 32 24 15'}\n",
            "\n",
            "69/119 Video: 000068\n",
            "{'object1': '34 11 33 1 15', 'relationship': '70 65 79 9 63', 'object2': '34 22 3 1 0'}\n",
            "\n",
            "70/119 Video: 000069\n",
            "{'object1': '29 1 30 15 33', 'relationship': '47 79 66 8 24', 'object2': '30 1 29 5 32'}\n",
            "\n",
            "71/119 Video: 000070\n",
            "{'object1': '33 30 29 11 12', 'relationship': '13 24 30 78 46', 'object2': '33 5 30 18 12'}\n",
            "\n",
            "72/119 Video: 000071\n",
            "{'object1': '29 33 30 11 15', 'relationship': '75 2 35 42 27', 'object2': '30 29 17 0 21'}\n",
            "\n",
            "73/119 Video: 000072\n",
            "{'object1': '33 11 30 15 29', 'relationship': '46 55 15 63 68', 'object2': '30 17 0 18 21'}\n",
            "\n",
            "74/119 Video: 000073\n",
            "{'object1': '33 30 29 15 11', 'relationship': '13 18 30 78 53', 'object2': '33 30 10 18 28'}\n",
            "\n",
            "75/119 Video: 000074\n",
            "{'object1': '32 11 15 33 29', 'relationship': '74 38 3 50 70', 'object2': '32 18 16 11 15'}\n",
            "\n",
            "76/119 Video: 000075\n",
            "{'object1': '33 14 30 29 15', 'relationship': '63 79 65 13 3', 'object2': '14 30 21 24 34'}\n",
            "\n",
            "77/119 Video: 000076\n",
            "{'object1': '33 30 29 14 15', 'relationship': '63 79 65 46 3', 'object2': '14 30 21 24 34'}\n",
            "\n",
            "78/119 Video: 000077\n",
            "{'object1': '15 12 11 33 32', 'relationship': '35 47 66 50 75', 'object2': '12 32 1 20 11'}\n",
            "\n",
            "79/119 Video: 000078\n",
            "{'object1': '11 15 33 29 30', 'relationship': '55 43 35 63 74', 'object2': '11 15 32 0 18'}\n",
            "\n",
            "80/119 Video: 000079\n",
            "{'object1': '34 33 1 11 15', 'relationship': '9 70 65 47 79', 'object2': '34 22 3 1'}\n",
            "\n",
            "81/119 Video: 000080\n",
            "{'object1': '29 33 30 15 11', 'relationship': '70 15 79 3 2', 'object2': '29 30 24 25 4'}\n",
            "\n",
            "82/119 Video: 000081\n",
            "{'object1': '34 33 1 11 15', 'relationship': '9 70 65 47 79', 'object2': '34 22 3'}\n",
            "\n",
            "83/119 Video: 000082\n",
            "{'object1': '33 29 30 11 12', 'relationship': '13 44 46 24 59', 'object2': '5 30 2 12 29'}\n",
            "\n",
            "84/119 Video: 000083\n",
            "{'object1': '30 29 9 15 33', 'relationship': '79 66 17 63 38', 'object2': '30 9 24 29 4'}\n",
            "\n",
            "85/119 Video: 000084\n",
            "{'object1': '33 30 12 11 29', 'relationship': '53 13 30 65 18', 'object2': '33 30 10 28 12'}\n",
            "\n",
            "86/119 Video: 000085\n",
            "{'object1': '11 10 26 30 33', 'relationship': '14 30 13 77 26', 'object2': '10 26 30 7 4'}\n",
            "\n",
            "87/119 Video: 000086\n",
            "{'object1': '29 33 1 30 9', 'relationship': '70 8 17 46 29', 'object2': '29 24 30 1 9'}\n",
            "\n",
            "88/119 Video: 000087\n",
            "{'object1': '29 33 15 1 12', 'relationship': '2 63 75 42 79', 'object2': '29 1 33 18 0'}\n",
            "\n",
            "89/119 Video: 000088\n",
            "{'object1': '29 33 30 15 11', 'relationship': '70 65 46 40 8', 'object2': '30 32 29 17 24'}\n",
            "\n",
            "90/119 Video: 000089\n",
            "{'object1': '20 11 33 15 13', 'relationship': '64 17 50 38 74', 'object2': '20 30 32 25 18'}\n",
            "\n",
            "91/119 Video: 000090\n",
            "{'object1': '13 11 29 15 0', 'relationship': '50 64 74 14 38', 'object2': '13 0 25 24 20'}\n",
            "\n",
            "92/119 Video: 000091\n",
            "{'object1': '29 33 15 30 12', 'relationship': '2 75 79 15 63', 'object2': '29 0 30 25 24'}\n",
            "\n",
            "93/119 Video: 000092\n",
            "{'object1': '29 33 30 32 11', 'relationship': '50 55 65 74 39', 'object2': '30 32 29 33 18'}\n",
            "\n",
            "94/119 Video: 000093\n",
            "{'object1': '30 29 33 1 12', 'relationship': '24 66 46 29 79', 'object2': '2 30 5 4 12'}\n",
            "\n",
            "95/119 Video: 000094\n",
            "{'object1': '10 30 33 11 29', 'relationship': '53 13 11 3 24', 'object2': '10 30 4 5'}\n",
            "\n",
            "96/119 Video: 000095\n",
            "{'object1': '29 33 11 32 12', 'relationship': '42 55 75 63 3', 'object2': '32 29 18 34 30'}\n",
            "\n",
            "97/119 Video: 000096\n",
            "{'object1': '1 33 11 15 34', 'relationship': '75 38 63 42 47', 'object2': '1 25 3 31 22'}\n",
            "\n",
            "98/119 Video: 000097\n",
            "{'object1': '30 29 33 5 11', 'relationship': '46 24 59 13 29', 'object2': '5 30 2 21 28'}\n",
            "\n",
            "99/119 Video: 000098\n",
            "{'object1': '33 29 1 15 12', 'relationship': '24 40 50 2 17', 'object2': '2 29 12 1 33'}\n",
            "\n",
            "100/119 Video: 000099\n",
            "{'object1': '29 30 33 11 15', 'relationship': '66 50 63 40 24', 'object2': '30 29 2 5 0'}\n",
            "\n",
            "101/119 Video: 000100\n",
            "{'object1': '30 29 33 1 11', 'relationship': '24 46 66 63 29', 'object2': '2 30 5 20 23'}\n",
            "\n",
            "102/119 Video: 000101\n",
            "{'object1': '29 33 11 12 15', 'relationship': '15 63 75 27 39', 'object2': '29 0 30 17 21'}\n",
            "\n",
            "103/119 Video: 000102\n",
            "{'object1': '11 32 12 15 33', 'relationship': '19 35 55 74 63', 'object2': '11 32 18 12 0'}\n",
            "\n",
            "104/119 Video: 000103\n",
            "{'object1': '9 30 33 15 11', 'relationship': '38 16 42 63 75', 'object2': '9 30 0 3'}\n",
            "\n",
            "105/119 Video: 000104\n",
            "{'object1': '29 30 11 33 32', 'relationship': '63 50 70 65 10', 'object2': '30 32 29 25 24'}\n",
            "\n",
            "106/119 Video: 000105\n",
            "{'object1': '12 29 33 15 32', 'relationship': '2 75 63 17 68', 'object2': '12 32 18 29 15'}\n",
            "\n",
            "107/119 Video: 000106\n",
            "{'object1': '29 12 32 15 33', 'relationship': '2 75 68 50 63', 'object2': '32 12 18 29 17'}\n",
            "\n",
            "108/119 Video: 000107\n",
            "{'object1': '13 15 11 29 30', 'relationship': '74 39 38 50 55', 'object2': '13 0 25 24 31'}\n",
            "\n",
            "109/119 Video: 000108\n",
            "{'object1': '29 33 30 11 15', 'relationship': '15 75 47 55 3', 'object2': '29 30 17 0 4'}\n",
            "\n",
            "110/119 Video: 000109\n",
            "{'object1': '29 15 11 33 30', 'relationship': '15 75 63 35 2', 'object2': '29 17 0 30 21'}\n",
            "\n",
            "111/119 Video: 000110\n",
            "{'object1': '30 33 11 5 29', 'relationship': '46 24 13 59 30', 'object2': '5 30 2 4 21'}\n",
            "\n",
            "112/119 Video: 000111\n",
            "{'object1': '15 1 6 33 11', 'relationship': '35 75 16 64 47', 'object2': '6 8 3 25 1'}\n",
            "\n",
            "113/119 Video: 000112\n",
            "{'object1': '15 29 32 33 30', 'relationship': '46 3 75 8 39', 'object2': '32 15 29 24 17'}\n",
            "\n",
            "114/119 Video: 000113\n",
            "{'object1': '9 15 33 29 30', 'relationship': '35 79 66 65 16', 'object2': '9 6 8 30 1'}\n",
            "\n",
            "115/119 Video: 000114\n",
            "{'object1': '23 33 11 29 15', 'relationship': '18 78 13 22 75', 'object2': '23 19 0 27 29'}\n",
            "\n",
            "116/119 Video: 000115\n",
            "{'object1': '29 33 30 15 12', 'relationship': '42 8 50 38 3', 'object2': '29 30 24 0 4'}\n",
            "\n",
            "117/119 Video: 000116\n",
            "{'object1': '34 1 33 11 29', 'relationship': '70 65 47 9 63', 'object2': '34 3 1 22 4'}\n",
            "\n",
            "118/119 Video: 000117\n",
            "{'object1': '34 1 33 11 15', 'relationship': '70 47 65 9 79', 'object2': '34 3 22 1 11'}\n",
            "\n",
            "119/119 Video: 000118\n",
            "{'object1': '1 29 33 15 11', 'relationship': '63 79 65 38 17', 'object2': '14 21 24 1 18'}\n",
            "\n"
          ],
          "name": "stdout"
        }
      ]
    },
    {
      "cell_type": "code",
      "metadata": {
        "id": "Dbl77mSY8nGB"
      },
      "source": [
        "# convert to submission format\n",
        "path = '/content/drive/MyDrive/Colab Notebooks/CS5242/datafile/test/'\n",
        "\n",
        "df_submission = pd.DataFrame(columns=['label'])\n",
        "df_submission.index.names = ['ID']\n",
        "id = 0\n",
        "for i in df_pred.index:\n",
        "  for j in df_pred.loc[str(i)]:\n",
        "    df_submission.loc[id] = j\n",
        "    id += 1\n",
        "      \n",
        "df_submission.to_csv(path+ 'submission.csv')"
      ],
      "execution_count": null,
      "outputs": []
    },
    {
      "cell_type": "code",
      "metadata": {
        "id": "j7Wqnig28nGC"
      },
      "source": [
        ""
      ],
      "execution_count": null,
      "outputs": []
    },
    {
      "cell_type": "code",
      "metadata": {
        "id": "WeDlFlJd8nGC"
      },
      "source": [
        ""
      ],
      "execution_count": null,
      "outputs": []
    },
    {
      "cell_type": "code",
      "metadata": {
        "id": "9qKBEzHe8nGC"
      },
      "source": [
        ""
      ],
      "execution_count": null,
      "outputs": []
    }
  ]
}