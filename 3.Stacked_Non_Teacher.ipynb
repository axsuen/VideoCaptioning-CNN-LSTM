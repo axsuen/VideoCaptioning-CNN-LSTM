{
  "nbformat": 4,
  "nbformat_minor": 0,
  "metadata": {
    "accelerator": "TPU",
    "colab": {
      "name": "Stacked_Non-Teacher.ipynb",
      "provenance": [],
      "collapsed_sections": [],
      "toc_visible": true
    },
    "kernelspec": {
      "display_name": "Python 3",
      "name": "python3"
    },
    "language_info": {
      "name": "python"
    }
  },
  "cells": [
    {
      "cell_type": "markdown",
      "metadata": {
        "id": "FZdClSUvC4M1"
      },
      "source": [
        "# Stacked+Non_Teacher_Forcing\n"
      ]
    },
    {
      "cell_type": "code",
      "metadata": {
        "colab": {
          "base_uri": "https://localhost:8080/"
        },
        "id": "lW8wMm83TsZG",
        "outputId": "8eda4163-d653-4b43-a29f-6bdb0efe1fb2"
      },
      "source": [
        "from google.colab import drive\n",
        "drive.mount('/content/drive')"
      ],
      "execution_count": null,
      "outputs": [
        {
          "output_type": "stream",
          "text": [
            "Mounted at /content/drive\n"
          ],
          "name": "stdout"
        }
      ]
    },
    {
      "cell_type": "code",
      "metadata": {
        "colab": {
          "base_uri": "https://localhost:8080/"
        },
        "id": "O1uApi_hOyxX",
        "outputId": "b9318b29-9345-4388-9036-766cab5251dd"
      },
      "source": [
        "%tensorflow_version 2.x\n",
        "import tensorflow as tf\n",
        "print(\"Tensorflow version \" + tf.__version__)\n",
        "\n",
        "try:\n",
        "  tpu = tf.distribute.cluster_resolver.TPUClusterResolver()  # TPU detection\n",
        "  print('Running on TPU ', tpu.cluster_spec().as_dict()['worker'])\n",
        "except ValueError:\n",
        "  raise BaseException('ERROR: Not connected to a TPU runtime; please see the previous cell in this notebook for instructions!')\n",
        "\n",
        "tf.config.experimental_connect_to_cluster(tpu)\n",
        "tf.tpu.experimental.initialize_tpu_system(tpu)\n",
        "tpu_strategy = tf.distribute.experimental.TPUStrategy(tpu)"
      ],
      "execution_count": null,
      "outputs": [
        {
          "output_type": "stream",
          "text": [
            "Tensorflow version 2.4.1\n",
            "Running on TPU  ['10.77.131.130:8470']\n",
            "INFO:tensorflow:Initializing the TPU system: grpc://10.77.131.130:8470\n"
          ],
          "name": "stdout"
        },
        {
          "output_type": "stream",
          "text": [
            "INFO:tensorflow:Initializing the TPU system: grpc://10.77.131.130:8470\n"
          ],
          "name": "stderr"
        },
        {
          "output_type": "stream",
          "text": [
            "INFO:tensorflow:Clearing out eager caches\n"
          ],
          "name": "stdout"
        },
        {
          "output_type": "stream",
          "text": [
            "INFO:tensorflow:Clearing out eager caches\n"
          ],
          "name": "stderr"
        },
        {
          "output_type": "stream",
          "text": [
            "INFO:tensorflow:Finished initializing TPU system.\n"
          ],
          "name": "stdout"
        },
        {
          "output_type": "stream",
          "text": [
            "INFO:tensorflow:Finished initializing TPU system.\n",
            "WARNING:absl:`tf.distribute.experimental.TPUStrategy` is deprecated, please use  the non experimental symbol `tf.distribute.TPUStrategy` instead.\n"
          ],
          "name": "stderr"
        },
        {
          "output_type": "stream",
          "text": [
            "INFO:tensorflow:Found TPU system:\n"
          ],
          "name": "stdout"
        },
        {
          "output_type": "stream",
          "text": [
            "INFO:tensorflow:Found TPU system:\n"
          ],
          "name": "stderr"
        },
        {
          "output_type": "stream",
          "text": [
            "INFO:tensorflow:*** Num TPU Cores: 8\n"
          ],
          "name": "stdout"
        },
        {
          "output_type": "stream",
          "text": [
            "INFO:tensorflow:*** Num TPU Cores: 8\n"
          ],
          "name": "stderr"
        },
        {
          "output_type": "stream",
          "text": [
            "INFO:tensorflow:*** Num TPU Workers: 1\n"
          ],
          "name": "stdout"
        },
        {
          "output_type": "stream",
          "text": [
            "INFO:tensorflow:*** Num TPU Workers: 1\n"
          ],
          "name": "stderr"
        },
        {
          "output_type": "stream",
          "text": [
            "INFO:tensorflow:*** Num TPU Cores Per Worker: 8\n"
          ],
          "name": "stdout"
        },
        {
          "output_type": "stream",
          "text": [
            "INFO:tensorflow:*** Num TPU Cores Per Worker: 8\n"
          ],
          "name": "stderr"
        },
        {
          "output_type": "stream",
          "text": [
            "INFO:tensorflow:*** Available Device: _DeviceAttributes(/job:localhost/replica:0/task:0/device:CPU:0, CPU, 0, 0)\n"
          ],
          "name": "stdout"
        },
        {
          "output_type": "stream",
          "text": [
            "INFO:tensorflow:*** Available Device: _DeviceAttributes(/job:localhost/replica:0/task:0/device:CPU:0, CPU, 0, 0)\n"
          ],
          "name": "stderr"
        },
        {
          "output_type": "stream",
          "text": [
            "INFO:tensorflow:*** Available Device: _DeviceAttributes(/job:worker/replica:0/task:0/device:CPU:0, CPU, 0, 0)\n"
          ],
          "name": "stdout"
        },
        {
          "output_type": "stream",
          "text": [
            "INFO:tensorflow:*** Available Device: _DeviceAttributes(/job:worker/replica:0/task:0/device:CPU:0, CPU, 0, 0)\n"
          ],
          "name": "stderr"
        },
        {
          "output_type": "stream",
          "text": [
            "INFO:tensorflow:*** Available Device: _DeviceAttributes(/job:worker/replica:0/task:0/device:TPU:0, TPU, 0, 0)\n"
          ],
          "name": "stdout"
        },
        {
          "output_type": "stream",
          "text": [
            "INFO:tensorflow:*** Available Device: _DeviceAttributes(/job:worker/replica:0/task:0/device:TPU:0, TPU, 0, 0)\n"
          ],
          "name": "stderr"
        },
        {
          "output_type": "stream",
          "text": [
            "INFO:tensorflow:*** Available Device: _DeviceAttributes(/job:worker/replica:0/task:0/device:TPU:1, TPU, 0, 0)\n"
          ],
          "name": "stdout"
        },
        {
          "output_type": "stream",
          "text": [
            "INFO:tensorflow:*** Available Device: _DeviceAttributes(/job:worker/replica:0/task:0/device:TPU:1, TPU, 0, 0)\n"
          ],
          "name": "stderr"
        },
        {
          "output_type": "stream",
          "text": [
            "INFO:tensorflow:*** Available Device: _DeviceAttributes(/job:worker/replica:0/task:0/device:TPU:2, TPU, 0, 0)\n"
          ],
          "name": "stdout"
        },
        {
          "output_type": "stream",
          "text": [
            "INFO:tensorflow:*** Available Device: _DeviceAttributes(/job:worker/replica:0/task:0/device:TPU:2, TPU, 0, 0)\n"
          ],
          "name": "stderr"
        },
        {
          "output_type": "stream",
          "text": [
            "INFO:tensorflow:*** Available Device: _DeviceAttributes(/job:worker/replica:0/task:0/device:TPU:3, TPU, 0, 0)\n"
          ],
          "name": "stdout"
        },
        {
          "output_type": "stream",
          "text": [
            "INFO:tensorflow:*** Available Device: _DeviceAttributes(/job:worker/replica:0/task:0/device:TPU:3, TPU, 0, 0)\n"
          ],
          "name": "stderr"
        },
        {
          "output_type": "stream",
          "text": [
            "INFO:tensorflow:*** Available Device: _DeviceAttributes(/job:worker/replica:0/task:0/device:TPU:4, TPU, 0, 0)\n"
          ],
          "name": "stdout"
        },
        {
          "output_type": "stream",
          "text": [
            "INFO:tensorflow:*** Available Device: _DeviceAttributes(/job:worker/replica:0/task:0/device:TPU:4, TPU, 0, 0)\n"
          ],
          "name": "stderr"
        },
        {
          "output_type": "stream",
          "text": [
            "INFO:tensorflow:*** Available Device: _DeviceAttributes(/job:worker/replica:0/task:0/device:TPU:5, TPU, 0, 0)\n"
          ],
          "name": "stdout"
        },
        {
          "output_type": "stream",
          "text": [
            "INFO:tensorflow:*** Available Device: _DeviceAttributes(/job:worker/replica:0/task:0/device:TPU:5, TPU, 0, 0)\n"
          ],
          "name": "stderr"
        },
        {
          "output_type": "stream",
          "text": [
            "INFO:tensorflow:*** Available Device: _DeviceAttributes(/job:worker/replica:0/task:0/device:TPU:6, TPU, 0, 0)\n"
          ],
          "name": "stdout"
        },
        {
          "output_type": "stream",
          "text": [
            "INFO:tensorflow:*** Available Device: _DeviceAttributes(/job:worker/replica:0/task:0/device:TPU:6, TPU, 0, 0)\n"
          ],
          "name": "stderr"
        },
        {
          "output_type": "stream",
          "text": [
            "INFO:tensorflow:*** Available Device: _DeviceAttributes(/job:worker/replica:0/task:0/device:TPU:7, TPU, 0, 0)\n"
          ],
          "name": "stdout"
        },
        {
          "output_type": "stream",
          "text": [
            "INFO:tensorflow:*** Available Device: _DeviceAttributes(/job:worker/replica:0/task:0/device:TPU:7, TPU, 0, 0)\n"
          ],
          "name": "stderr"
        },
        {
          "output_type": "stream",
          "text": [
            "INFO:tensorflow:*** Available Device: _DeviceAttributes(/job:worker/replica:0/task:0/device:TPU_SYSTEM:0, TPU_SYSTEM, 0, 0)\n"
          ],
          "name": "stdout"
        },
        {
          "output_type": "stream",
          "text": [
            "INFO:tensorflow:*** Available Device: _DeviceAttributes(/job:worker/replica:0/task:0/device:TPU_SYSTEM:0, TPU_SYSTEM, 0, 0)\n"
          ],
          "name": "stderr"
        },
        {
          "output_type": "stream",
          "text": [
            "INFO:tensorflow:*** Available Device: _DeviceAttributes(/job:worker/replica:0/task:0/device:XLA_CPU:0, XLA_CPU, 0, 0)\n"
          ],
          "name": "stdout"
        },
        {
          "output_type": "stream",
          "text": [
            "INFO:tensorflow:*** Available Device: _DeviceAttributes(/job:worker/replica:0/task:0/device:XLA_CPU:0, XLA_CPU, 0, 0)\n"
          ],
          "name": "stderr"
        }
      ]
    },
    {
      "cell_type": "code",
      "metadata": {
        "id": "jvygDaIBzNuY"
      },
      "source": [
        "import json\n",
        "import numpy as np\n",
        "import os\n",
        "import functools,operator\n",
        "import random\n",
        "import matplotlib.pyplot as plt\n",
        "\n",
        "# tensorflow\n",
        "import tensorflow as tf\n",
        "from tensorflow.keras.layers.experimental.preprocessing import TextVectorization\n",
        "from tensorflow.keras.preprocessing.sequence import pad_sequences\n",
        "from tensorflow.keras.utils import to_categorical\n",
        "\n",
        "from tensorflow.keras.models import Sequential\n",
        "from tensorflow.keras.layers import (LSTM, Embedding, \n",
        "    TimeDistributed, Dense, RepeatVector, \n",
        "    Activation, Flatten, Reshape, concatenate,  \n",
        "    Dropout, BatchNormalization, Bidirectional)\n",
        "from tensorflow.keras.optimizers import Adam, RMSprop\n",
        "from tensorflow.keras import Input, layers\n",
        "from tensorflow.keras import optimizers\n",
        "\n",
        "from tensorflow.keras.models import Model, load_model\n",
        "\n",
        "from tensorflow.keras.layers import add\n",
        "from keras.utils.vis_utils import plot_model\n",
        "from tensorflow.keras.callbacks import EarlyStopping\n",
        "from random import shuffle\n",
        "from collections import OrderedDict \n",
        "from keras.layers import Lambda\n",
        "from keras import backend as K"
      ],
      "execution_count": null,
      "outputs": []
    },
    {
      "cell_type": "code",
      "metadata": {
        "id": "Sx3G6yvC0DKy"
      },
      "source": [
        "with open(\"/content/drive/MyDrive/CS5242/datafile/training_annotation.json\") as file:\n",
        "    training_annotation = json.load(file)\n",
        "\n",
        "with open(\"/content/drive/MyDrive/CS5242/datafile/object1_object2.json\") as file:\n",
        "    object1_object2 = json.load(file)\n",
        "    \n",
        "with open(\"/content/drive/MyDrive/CS5242/datafile/relationship.json\") as file:\n",
        "    relationship = json.load(file)"
      ],
      "execution_count": null,
      "outputs": []
    },
    {
      "cell_type": "code",
      "metadata": {
        "id": "jn-bt0J30Hc7"
      },
      "source": [
        "def get_relationship(val):\n",
        "    for key, value in relationship.items():\n",
        "        if val == value:\n",
        "            return key\n",
        "    return \"relationship key doesn't exist\"\n",
        "\n",
        "def get_object(val):\n",
        "    for key, value in object1_object2.items():\n",
        "        if val == value:\n",
        "            return key\n",
        "    return \"object key doesn't exist\""
      ],
      "execution_count": null,
      "outputs": []
    },
    {
      "cell_type": "code",
      "metadata": {
        "id": "2u5xLy2woiaK"
      },
      "source": [
        "def save_descriptions(training_annotation, filename):\n",
        "  lines = list()\n",
        "  for key in training_annotation.keys():\n",
        "    item = training_annotation[key]\n",
        "    object1 = get_object(item[0])\n",
        "    relationship = get_relationship(item[1])\n",
        "    object2 = get_object(item[2])\n",
        "    lines.append(key + ' ' + object1 + ' ' + relationship + ' ' + object2)\n",
        "\n",
        "  data = '\\n'.join(lines)\n",
        "  file = open(filename, 'w')\n",
        "  file.write(data)\n",
        "  file.close()"
      ],
      "execution_count": null,
      "outputs": []
    },
    {
      "cell_type": "code",
      "metadata": {
        "id": "EVTGJzgSomyO"
      },
      "source": [
        "filename = '/content/drive/MyDrive/CS5242/datafile/train/descriptions.txt'\n",
        "save_descriptions(training_annotation, filename)"
      ],
      "execution_count": null,
      "outputs": []
    },
    {
      "cell_type": "code",
      "metadata": {
        "id": "CC5DYiSCqyRW"
      },
      "source": [
        "file = open(filename, 'r')\n",
        "text = file.read()\n",
        "\n",
        "# process line by line\n",
        "descriptions = {}\n",
        "for line in text.split('\\n'):\n",
        "  tokens = line.split()\n",
        "  image_id, image_desc = tokens[0], tokens[1:]\n",
        "  desc = '<BOS> ' + ' '.join(image_desc) + ' <EOS>'\n",
        "  descriptions[image_id] = desc"
      ],
      "execution_count": null,
      "outputs": []
    },
    {
      "cell_type": "code",
      "metadata": {
        "id": "sfbgWfFxC4NC"
      },
      "source": [
        "# tokenize description\n",
        "\n",
        "output_length = 5\n",
        "\n",
        "vectorizer = TextVectorization(standardize = None, output_sequence_length=output_length)\n",
        "text_ds = tf.data.Dataset.from_tensor_slices([descriptions[i] for i in descriptions])\n",
        "vectorizer.adapt(text_ds)\n",
        "for i in descriptions:\n",
        "  descriptions[i] = vectorizer([[descriptions[i]]])"
      ],
      "execution_count": null,
      "outputs": []
    },
    {
      "cell_type": "code",
      "metadata": {
        "id": "QeKL7_TsC4ND"
      },
      "source": [
        "voc = vectorizer.get_vocabulary()\n",
        "word_index = dict(zip(voc, range(len(voc))))\n",
        "index_word = dict(zip(range(len(voc)), voc))"
      ],
      "execution_count": null,
      "outputs": []
    },
    {
      "cell_type": "code",
      "metadata": {
        "id": "DC2GJxINC4NE"
      },
      "source": [
        "np.random.seed(5242)\n",
        "\n",
        "# Train test split\n",
        "train_split = 0.85\n",
        "\n",
        "descriptions_random = descriptions.copy()\n",
        "descriptions_random = list(descriptions.items())\n",
        "random.shuffle(descriptions_random)\n",
        "training_list = descriptions_random[:int(len(descriptions) * train_split)]\n",
        "validation_list = descriptions_random[int(len(descriptions) * train_split):]\n",
        "\n",
        "training_dict = dict(training_list)\n",
        "validation_dict = dict(validation_list)"
      ],
      "execution_count": null,
      "outputs": []
    },
    {
      "cell_type": "code",
      "metadata": {
        "id": "oZ-VmS_ypUIN"
      },
      "source": [
        "def load_dataset(video_features_path, num_decoder_tokens, training_dict, output_length):\n",
        "  encoder_input_data = []\n",
        "  decoder_input_data = []\n",
        "  decoder_target_data = []\n",
        "\n",
        "  for idx in training_dict:\n",
        "    video_features = np.load(video_features_path + idx + '.npy')\n",
        "    encoder_input_data.append(video_features)\n",
        "    y = to_categorical(training_dict[idx][0], num_decoder_tokens)\n",
        "    decoder_input_data.append(y)\n",
        "    decoder_target_data.append(y)\n",
        "\n",
        "    encoder_input = np.array(encoder_input_data)\n",
        "    decoder_input = np.array(decoder_input_data)\n",
        "    decoder_target = np.array(decoder_target_data)\n",
        "\n",
        "  return encoder_input, decoder_target"
      ],
      "execution_count": null,
      "outputs": []
    },
    {
      "cell_type": "code",
      "metadata": {
        "id": "p8yS6qUWC4NE"
      },
      "source": [
        "# declare variables\n",
        "\n",
        "\"\"\"\n",
        "time_steps_encoder is the number of frames per video we will be using for training\n",
        "num_encoder_tokens is the number of features from each frame\n",
        "latent_dim is the number of hidden features for lstm\n",
        "time_steps_decoder is the maximum length of each sentence\n",
        "num_decoder_tokens is the final number of tokens in the softmax layer\n",
        "\"\"\"\n",
        "\n",
        "#which hyper-params can be latent-dim, optimizer, learning_rate\n",
        "\n",
        "epochs = 1000\n",
        "batch_size = 32\n",
        "time_steps_encoder = 30\n",
        "num_encoder_tokens = 2048\n",
        "latent_dim = 512\n",
        "time_steps_decoder = output_length\n",
        "num_decoder_tokens = len(voc)\n",
        "\n",
        "video_features_path = '/content/drive/MyDrive/CS5242/datafile/train/features/'\n"
      ],
      "execution_count": null,
      "outputs": []
    },
    {
      "cell_type": "code",
      "metadata": {
        "id": "K66AYAtsC4NE"
      },
      "source": [
        "X_train, y_train = load_dataset(video_features_path=video_features_path, num_decoder_tokens=num_decoder_tokens, training_dict=training_dict, output_length=output_length)\n",
        "X_val, y_val = load_dataset(video_features_path=video_features_path, num_decoder_tokens=num_decoder_tokens, training_dict=validation_dict, output_length=output_length)"
      ],
      "execution_count": null,
      "outputs": []
    },
    {
      "cell_type": "code",
      "metadata": {
        "colab": {
          "base_uri": "https://localhost:8080/"
        },
        "id": "a70eT3cvC4NF",
        "outputId": "f57b5717-4a56-499b-86b3-189c8919b41e"
      },
      "source": [
        "print(\"encoder_input shape:\", X_train[0].shape)\n",
        "print(\"decoder_input shape:\", X_train[1].shape)\n",
        "print(\"decoder_target shape:\", y_train.shape)"
      ],
      "execution_count": null,
      "outputs": [
        {
          "output_type": "stream",
          "text": [
            "encoder_input shape: (30, 2048)\n",
            "decoder_input shape: (30, 2048)\n",
            "decoder_target shape: (379, 5, 121)\n"
          ],
          "name": "stdout"
        }
      ]
    },
    {
      "cell_type": "code",
      "metadata": {
        "colab": {
          "base_uri": "https://localhost:8080/"
        },
        "id": "UMte-ChGu47O",
        "outputId": "87c33127-e63d-4363-ad77-84244ce91e43"
      },
      "source": [
        "print(\"decoder_target shape:\", y_val.shape)"
      ],
      "execution_count": null,
      "outputs": [
        {
          "output_type": "stream",
          "text": [
            "decoder_target shape: (68, 5, 121)\n"
          ],
          "name": "stdout"
        }
      ]
    },
    {
      "cell_type": "code",
      "metadata": {
        "id": "4txuJRqd3vNx"
      },
      "source": [
        "decoder_input_data = np.zeros((379, 1, num_decoder_tokens))"
      ],
      "execution_count": null,
      "outputs": []
    },
    {
      "cell_type": "code",
      "metadata": {
        "colab": {
          "base_uri": "https://localhost:8080/"
        },
        "id": "qiYqzS7a3vUr",
        "outputId": "dad4345e-9f1c-4943-c18d-c5d4f2838622"
      },
      "source": [
        "decoder_input_data.shape"
      ],
      "execution_count": null,
      "outputs": [
        {
          "output_type": "execute_result",
          "data": {
            "text/plain": [
              "(379, 1, 121)"
            ]
          },
          "metadata": {
            "tags": []
          },
          "execution_count": 63
        }
      ]
    },
    {
      "cell_type": "code",
      "metadata": {
        "colab": {
          "base_uri": "https://localhost:8080/",
          "height": 1000
        },
        "id": "ehqvMpVOnrLr",
        "outputId": "d1af12c0-55eb-4726-8d99-92fe20dbff5a"
      },
      "source": [
        "from keras.regularizers import l2\n",
        "with tpu_strategy.scope():\n",
        "  # set up encoder\n",
        "  encoder_inputs = Input(shape=(time_steps_encoder, num_encoder_tokens), name='encoder_inputs')\n",
        "  encoder = LSTM(latent_dim, return_state=True, return_sequences=True, name='encoder_lstm', kernel_regularizer=l2(0.01), recurrent_regularizer=l2(0.01), bias_regularizer=l2(0.01))\n",
        "  encoder_1_output, state_h1, state_c1 = encoder(encoder_inputs)\n",
        "  encoder_states = [state_h1, state_c1]\n",
        "  encoder_2 = LSTM(latent_dim, return_state=True, return_sequences=True, name='encoder_lstm_2', kernel_regularizer=l2(0.01), recurrent_regularizer=l2(0.01), bias_regularizer=l2(0.01))\n",
        "  _, state_h2, state_c2 = encoder_2(encoder_1_output)\n",
        "  encoder_states_2 = [state_h2, state_c2]\n",
        "\n",
        "  #set-up decoder with non-teacher forcing\n",
        "  decoder_inputs_1 = Input(shape=(1, num_decoder_tokens), name='decoder_input_1')\n",
        "  decoder_lstm_1 = LSTM(latent_dim, return_sequences=True, return_state=True, name='decoder_lstm_1', kernel_regularizer=l2(0.01), recurrent_regularizer=l2(0.01), bias_regularizer=l2(0.01))\n",
        "  decoder_1_output, h1, c1 = decoder_lstm_1(decoder_inputs_1, initial_state=encoder_states)\n",
        "\n",
        "  decoder_lstm_2 = LSTM(latent_dim, return_sequences=True, return_state=True, name='decoder_lstm_2',kernel_regularizer=l2(0.01), recurrent_regularizer=l2(0.01), bias_regularizer=l2(0.01))\n",
        "  decoder_dense = Dense(num_decoder_tokens, activation='softmax', name='decoder_relu')\n",
        "\n",
        "  all_outputs = []\n",
        "  inputs = decoder_1_output\n",
        "  states = encoder_states_2\n",
        "  i = 0\n",
        "  #try inputting the final output from dense layer\n",
        "  for _ in range(time_steps_decoder):\n",
        "      decoder_outputs_2, h2, c2 = decoder_lstm_2(inputs, initial_state=states)\n",
        "      outputs = decoder_dense(decoder_outputs_2)\n",
        "      # Store the current prediction (we will concatenate all predictions later)\n",
        "      all_outputs.append(outputs)\n",
        "      # Reinject the outputs as inputs for the next loop iteration\n",
        "      # as well as update the states\n",
        "      inputs = decoder_outputs_2\n",
        "      states = [h2, c2]\n",
        "\n",
        "  # Concatenate all predictions\n",
        "  decoder_outputs = Lambda(lambda x: K.concatenate(x, axis=1))(all_outputs)\n",
        "\n",
        "  # Prepare decoder input data that just contains the start character\n",
        "  # Note that we could have made it a constant hard-coded in the model\n",
        "  decoder_input_data = np.zeros((379, 1, num_decoder_tokens))\n",
        "  decoder_input_data[:, 0, word_index['<BOS>']] = 1\n",
        "  decoder_input_data_val = np.zeros((68, 1, num_decoder_tokens))\n",
        "  decoder_input_data_val[:, 0, word_index['<BOS>']] = 1.\n",
        "\n",
        "  ####################\n",
        "\n",
        "  # Define the model that will turn\n",
        "  # `encoder_input_data` & `decoder_input_data` into `decoder_target_data`\n",
        "  model = Model([encoder_inputs, decoder_inputs_1], decoder_outputs)\n",
        "\n",
        "  # Early Stopping\n",
        "  earlystopping = EarlyStopping(monitor='val_loss', patience=10, verbose=1, mode='min')\n",
        "\n",
        "  # Run training\n",
        "  opt = tf.keras.optimizers.Adam(lr=0.001)\n",
        "  x = tf.keras.callbacks.ReduceLROnPlateau(monitor='val_loss', factor=0.1, patience=2, verbose=0, mode=\"auto\")\n",
        "  model.compile(metrics=['accuracy'], optimizer=opt, loss='categorical_crossentropy')\n",
        "\n",
        "model.summary()\n",
        "plot_model(model, to_file='model_train.png', show_shapes=True, show_layer_names=True)"
      ],
      "execution_count": null,
      "outputs": [
        {
          "output_type": "stream",
          "text": [
            "Model: \"model_2\"\n",
            "__________________________________________________________________________________________________\n",
            "Layer (type)                    Output Shape         Param #     Connected to                     \n",
            "==================================================================================================\n",
            "encoder_inputs (InputLayer)     [(None, 30, 2048)]   0                                            \n",
            "__________________________________________________________________________________________________\n",
            "decoder_input_1 (InputLayer)    [(None, 1, 121)]     0                                            \n",
            "__________________________________________________________________________________________________\n",
            "encoder_lstm (LSTM)             [(None, 30, 512), (N 5244928     encoder_inputs[0][0]             \n",
            "__________________________________________________________________________________________________\n",
            "decoder_lstm_1 (LSTM)           [(None, 1, 512), (No 1298432     decoder_input_1[0][0]            \n",
            "                                                                 encoder_lstm[0][1]               \n",
            "                                                                 encoder_lstm[0][2]               \n",
            "__________________________________________________________________________________________________\n",
            "encoder_lstm_2 (LSTM)           [(None, 30, 512), (N 2099200     encoder_lstm[0][0]               \n",
            "__________________________________________________________________________________________________\n",
            "decoder_lstm_2 (LSTM)           [(None, 1, 512), (No 2099200     decoder_lstm_1[0][0]             \n",
            "                                                                 encoder_lstm_2[0][1]             \n",
            "                                                                 encoder_lstm_2[0][2]             \n",
            "                                                                 decoder_lstm_2[0][0]             \n",
            "                                                                 decoder_lstm_2[0][1]             \n",
            "                                                                 decoder_lstm_2[0][2]             \n",
            "                                                                 decoder_lstm_2[1][0]             \n",
            "                                                                 decoder_lstm_2[1][1]             \n",
            "                                                                 decoder_lstm_2[1][2]             \n",
            "                                                                 decoder_lstm_2[2][0]             \n",
            "                                                                 decoder_lstm_2[2][1]             \n",
            "                                                                 decoder_lstm_2[2][2]             \n",
            "                                                                 decoder_lstm_2[3][0]             \n",
            "                                                                 decoder_lstm_2[3][1]             \n",
            "                                                                 decoder_lstm_2[3][2]             \n",
            "__________________________________________________________________________________________________\n",
            "decoder_relu (Dense)            (None, 1, 121)       62073       decoder_lstm_2[0][0]             \n",
            "                                                                 decoder_lstm_2[1][0]             \n",
            "                                                                 decoder_lstm_2[2][0]             \n",
            "                                                                 decoder_lstm_2[3][0]             \n",
            "                                                                 decoder_lstm_2[4][0]             \n",
            "__________________________________________________________________________________________________\n",
            "lambda_2 (Lambda)               (None, 5, 121)       0           decoder_relu[0][0]               \n",
            "                                                                 decoder_relu[1][0]               \n",
            "                                                                 decoder_relu[2][0]               \n",
            "                                                                 decoder_relu[3][0]               \n",
            "                                                                 decoder_relu[4][0]               \n",
            "==================================================================================================\n",
            "Total params: 10,803,833\n",
            "Trainable params: 10,803,833\n",
            "Non-trainable params: 0\n",
            "__________________________________________________________________________________________________\n"
          ],
          "name": "stdout"
        },
        {
          "output_type": "execute_result",
          "data": {
            "image/png": "[encoded data removed]",
            "text/plain": [
              "<IPython.core.display.Image object>"
            ]
          },
          "metadata": {
            "tags": []
          },
          "execution_count": 25
        }
      ]
    },
    {
      "cell_type": "code",
      "metadata": {
        "colab": {
          "base_uri": "https://localhost:8080/"
        },
        "id": "WSUGcNpcC4NF",
        "outputId": "b3504ffd-68bf-4698-ccfb-394287e92cb6"
      },
      "source": [
        "# Training\n",
        "try:\n",
        "  model.fit(x = [X_train, decoder_input_data] , y = y_train, batch_size = batch_size, validation_data = ([X_val,decoder_input_data_val], y_val), validation_steps=(len(validation_dict)//batch_size), epochs=epochs, callbacks=[x,earlystopping])\n",
        "except KeyboardInterrupt:\n",
        "    print(\"\\nW: interrupt received, stopping\")\n",
        "finally:\n",
        "    pass"
      ],
      "execution_count": null,
      "outputs": [
        {
          "output_type": "stream",
          "text": [
            "Epoch 1/1000\n",
            "12/12 [==============================] - 19s 492ms/step - loss: 66.5216 - accuracy: 0.3588 - val_loss: 49.1466 - val_accuracy: 0.4406\n",
            "Epoch 2/1000\n",
            "12/12 [==============================] - 1s 84ms/step - loss: 40.2647 - accuracy: 0.4559 - val_loss: 32.1292 - val_accuracy: 0.4781\n",
            "Epoch 3/1000\n",
            "12/12 [==============================] - 1s 80ms/step - loss: 28.3674 - accuracy: 0.4865 - val_loss: 25.0821 - val_accuracy: 0.5344\n",
            "Epoch 4/1000\n",
            "12/12 [==============================] - 1s 81ms/step - loss: 23.6086 - accuracy: 0.5129 - val_loss: 22.4920 - val_accuracy: 0.4781\n",
            "Epoch 5/1000\n",
            "12/12 [==============================] - 1s 83ms/step - loss: 21.6310 - accuracy: 0.5578 - val_loss: 20.9809 - val_accuracy: 0.6188\n",
            "Epoch 6/1000\n",
            "12/12 [==============================] - 1s 84ms/step - loss: 20.5444 - accuracy: 0.5889 - val_loss: 20.2193 - val_accuracy: 0.6219\n",
            "Epoch 7/1000\n",
            "12/12 [==============================] - 1s 82ms/step - loss: 19.8643 - accuracy: 0.6032 - val_loss: 19.7596 - val_accuracy: 0.6250\n",
            "Epoch 8/1000\n",
            "12/12 [==============================] - 1s 89ms/step - loss: 19.2545 - accuracy: 0.6317 - val_loss: 19.0554 - val_accuracy: 0.6625\n",
            "Epoch 9/1000\n",
            "12/12 [==============================] - 1s 83ms/step - loss: 18.6861 - accuracy: 0.6480 - val_loss: 18.6467 - val_accuracy: 0.6406\n",
            "Epoch 10/1000\n",
            "12/12 [==============================] - 1s 83ms/step - loss: 18.2993 - accuracy: 0.6216 - val_loss: 18.2214 - val_accuracy: 0.6375\n",
            "Epoch 11/1000\n",
            "12/12 [==============================] - 1s 84ms/step - loss: 17.8268 - accuracy: 0.6311 - val_loss: 17.8357 - val_accuracy: 0.6313\n",
            "Epoch 12/1000\n",
            "12/12 [==============================] - 1s 84ms/step - loss: 17.4372 - accuracy: 0.6391 - val_loss: 17.4600 - val_accuracy: 0.6562\n",
            "Epoch 13/1000\n",
            "12/12 [==============================] - 1s 84ms/step - loss: 17.0353 - accuracy: 0.6338 - val_loss: 17.1657 - val_accuracy: 0.6094\n",
            "Epoch 14/1000\n",
            "12/12 [==============================] - 1s 84ms/step - loss: 16.5932 - accuracy: 0.6417 - val_loss: 16.5954 - val_accuracy: 0.6687\n",
            "Epoch 15/1000\n",
            "12/12 [==============================] - 1s 84ms/step - loss: 16.0789 - accuracy: 0.6686 - val_loss: 16.2436 - val_accuracy: 0.6531\n",
            "Epoch 16/1000\n",
            "12/12 [==============================] - 1s 83ms/step - loss: 15.6686 - accuracy: 0.6723 - val_loss: 15.7183 - val_accuracy: 0.7094\n",
            "Epoch 17/1000\n",
            "12/12 [==============================] - 1s 81ms/step - loss: 15.2770 - accuracy: 0.6681 - val_loss: 15.3203 - val_accuracy: 0.7000\n",
            "Epoch 18/1000\n",
            "12/12 [==============================] - 1s 83ms/step - loss: 14.9009 - accuracy: 0.6802 - val_loss: 15.1446 - val_accuracy: 0.6750\n",
            "Epoch 19/1000\n",
            "12/12 [==============================] - 1s 86ms/step - loss: 14.6612 - accuracy: 0.6596 - val_loss: 14.7429 - val_accuracy: 0.6656\n",
            "Epoch 20/1000\n",
            "12/12 [==============================] - 1s 85ms/step - loss: 14.2324 - accuracy: 0.6844 - val_loss: 14.3093 - val_accuracy: 0.6906\n",
            "Epoch 21/1000\n",
            "12/12 [==============================] - 1s 84ms/step - loss: 13.8503 - accuracy: 0.6892 - val_loss: 14.1609 - val_accuracy: 0.6375\n",
            "Epoch 22/1000\n",
            "12/12 [==============================] - 1s 83ms/step - loss: 13.5022 - accuracy: 0.6966 - val_loss: 13.7488 - val_accuracy: 0.6844\n",
            "Epoch 23/1000\n",
            "12/12 [==============================] - 1s 116ms/step - loss: 13.1718 - accuracy: 0.6850 - val_loss: 13.4992 - val_accuracy: 0.6656\n",
            "Epoch 24/1000\n",
            "12/12 [==============================] - 1s 84ms/step - loss: 12.8428 - accuracy: 0.7013 - val_loss: 13.1416 - val_accuracy: 0.6813\n",
            "Epoch 25/1000\n",
            "12/12 [==============================] - 1s 84ms/step - loss: 12.5609 - accuracy: 0.6892 - val_loss: 12.9472 - val_accuracy: 0.6469\n",
            "Epoch 26/1000\n",
            "12/12 [==============================] - 1s 85ms/step - loss: 12.3658 - accuracy: 0.6781 - val_loss: 12.4876 - val_accuracy: 0.7281\n",
            "Epoch 27/1000\n",
            "12/12 [==============================] - 1s 87ms/step - loss: 11.9244 - accuracy: 0.7129 - val_loss: 12.0654 - val_accuracy: 0.7125\n",
            "Epoch 28/1000\n",
            "12/12 [==============================] - 1s 85ms/step - loss: 11.5577 - accuracy: 0.7040 - val_loss: 11.7743 - val_accuracy: 0.7031\n",
            "Epoch 29/1000\n",
            "12/12 [==============================] - 1s 85ms/step - loss: 11.2163 - accuracy: 0.7193 - val_loss: 11.5530 - val_accuracy: 0.7000\n",
            "Epoch 30/1000\n",
            "12/12 [==============================] - 1s 84ms/step - loss: 11.0245 - accuracy: 0.6960 - val_loss: 11.3463 - val_accuracy: 0.6719\n",
            "Epoch 31/1000\n",
            "12/12 [==============================] - 1s 86ms/step - loss: 10.7948 - accuracy: 0.6897 - val_loss: 11.1212 - val_accuracy: 0.6719\n",
            "Epoch 32/1000\n",
            "12/12 [==============================] - 1s 87ms/step - loss: 10.5134 - accuracy: 0.7013 - val_loss: 10.8111 - val_accuracy: 0.6813\n",
            "Epoch 33/1000\n",
            "12/12 [==============================] - 1s 84ms/step - loss: 10.1997 - accuracy: 0.7145 - val_loss: 10.5187 - val_accuracy: 0.7156\n",
            "Epoch 34/1000\n",
            "12/12 [==============================] - 1s 84ms/step - loss: 9.8666 - accuracy: 0.7214 - val_loss: 10.1902 - val_accuracy: 0.7063\n",
            "Epoch 35/1000\n",
            "12/12 [==============================] - 1s 84ms/step - loss: 9.6475 - accuracy: 0.7193 - val_loss: 10.0645 - val_accuracy: 0.6844\n",
            "Epoch 36/1000\n",
            "12/12 [==============================] - 1s 83ms/step - loss: 9.3734 - accuracy: 0.7261 - val_loss: 9.7307 - val_accuracy: 0.7188\n",
            "Epoch 37/1000\n",
            "12/12 [==============================] - 1s 81ms/step - loss: 9.0957 - accuracy: 0.7214 - val_loss: 9.5003 - val_accuracy: 0.6844\n",
            "Epoch 38/1000\n",
            "12/12 [==============================] - 1s 85ms/step - loss: 8.8251 - accuracy: 0.7446 - val_loss: 9.2416 - val_accuracy: 0.7188\n",
            "Epoch 39/1000\n",
            "12/12 [==============================] - 1s 88ms/step - loss: 8.5783 - accuracy: 0.7446 - val_loss: 9.1213 - val_accuracy: 0.6938\n",
            "Epoch 40/1000\n",
            "12/12 [==============================] - 1s 83ms/step - loss: 8.3602 - accuracy: 0.7435 - val_loss: 8.8085 - val_accuracy: 0.7219\n",
            "Epoch 41/1000\n",
            "12/12 [==============================] - 1s 82ms/step - loss: 8.1015 - accuracy: 0.7493 - val_loss: 8.5867 - val_accuracy: 0.6938\n",
            "Epoch 42/1000\n",
            "12/12 [==============================] - 1s 83ms/step - loss: 7.8710 - accuracy: 0.7599 - val_loss: 8.3952 - val_accuracy: 0.6906\n",
            "Epoch 43/1000\n",
            "12/12 [==============================] - 1s 82ms/step - loss: 7.7010 - accuracy: 0.7372 - val_loss: 8.2165 - val_accuracy: 0.7031\n",
            "Epoch 44/1000\n",
            "12/12 [==============================] - 1s 86ms/step - loss: 7.5537 - accuracy: 0.7361 - val_loss: 8.1211 - val_accuracy: 0.6781\n",
            "Epoch 45/1000\n",
            "12/12 [==============================] - 1s 83ms/step - loss: 7.3054 - accuracy: 0.7499 - val_loss: 7.7875 - val_accuracy: 0.7344\n",
            "Epoch 46/1000\n",
            "12/12 [==============================] - 1s 83ms/step - loss: 7.0646 - accuracy: 0.7599 - val_loss: 7.6148 - val_accuracy: 0.7125\n",
            "Epoch 47/1000\n",
            "12/12 [==============================] - 1s 87ms/step - loss: 6.8547 - accuracy: 0.7657 - val_loss: 7.3722 - val_accuracy: 0.7063\n",
            "Epoch 48/1000\n",
            "12/12 [==============================] - 1s 85ms/step - loss: 6.6432 - accuracy: 0.7757 - val_loss: 7.1870 - val_accuracy: 0.7219\n",
            "Epoch 49/1000\n",
            "12/12 [==============================] - 1s 83ms/step - loss: 6.5231 - accuracy: 0.7631 - val_loss: 7.1159 - val_accuracy: 0.6813\n",
            "Epoch 50/1000\n",
            "12/12 [==============================] - 1s 85ms/step - loss: 6.4089 - accuracy: 0.7441 - val_loss: 7.1067 - val_accuracy: 0.6531\n",
            "Epoch 51/1000\n",
            "12/12 [==============================] - 1s 88ms/step - loss: 6.1886 - accuracy: 0.7731 - val_loss: 6.8220 - val_accuracy: 0.6687\n",
            "Epoch 52/1000\n",
            "12/12 [==============================] - 1s 83ms/step - loss: 5.9811 - accuracy: 0.7773 - val_loss: 6.6770 - val_accuracy: 0.7000\n",
            "Epoch 53/1000\n",
            "12/12 [==============================] - 1s 85ms/step - loss: 5.8507 - accuracy: 0.7704 - val_loss: 6.4906 - val_accuracy: 0.7125\n",
            "Epoch 54/1000\n",
            "12/12 [==============================] - 1s 85ms/step - loss: 5.7026 - accuracy: 0.7631 - val_loss: 6.2901 - val_accuracy: 0.7063\n",
            "Epoch 55/1000\n",
            "12/12 [==============================] - 1s 86ms/step - loss: 5.5942 - accuracy: 0.7641 - val_loss: 6.2241 - val_accuracy: 0.7000\n",
            "Epoch 56/1000\n",
            "12/12 [==============================] - 1s 83ms/step - loss: 5.5585 - accuracy: 0.7409 - val_loss: 6.1089 - val_accuracy: 0.6844\n",
            "Epoch 57/1000\n",
            "12/12 [==============================] - 1s 83ms/step - loss: 5.3628 - accuracy: 0.7588 - val_loss: 6.0266 - val_accuracy: 0.6844\n",
            "Epoch 58/1000\n",
            "12/12 [==============================] - 1s 83ms/step - loss: 5.1421 - accuracy: 0.7747 - val_loss: 5.8243 - val_accuracy: 0.6969\n",
            "Epoch 59/1000\n",
            "12/12 [==============================] - 1s 85ms/step - loss: 4.9740 - accuracy: 0.7752 - val_loss: 5.6308 - val_accuracy: 0.7094\n",
            "Epoch 60/1000\n",
            "12/12 [==============================] - 1s 84ms/step - loss: 4.8344 - accuracy: 0.7852 - val_loss: 5.6218 - val_accuracy: 0.6906\n",
            "Epoch 61/1000\n",
            "12/12 [==============================] - 1s 85ms/step - loss: 4.7059 - accuracy: 0.7773 - val_loss: 5.5811 - val_accuracy: 0.6750\n",
            "Epoch 62/1000\n",
            "12/12 [==============================] - 1s 84ms/step - loss: 4.5929 - accuracy: 0.7836 - val_loss: 5.2799 - val_accuracy: 0.7156\n",
            "Epoch 63/1000\n",
            "12/12 [==============================] - 1s 85ms/step - loss: 4.4233 - accuracy: 0.8005 - val_loss: 5.1987 - val_accuracy: 0.7063\n",
            "Epoch 64/1000\n",
            "12/12 [==============================] - 1s 85ms/step - loss: 4.3097 - accuracy: 0.7884 - val_loss: 5.0728 - val_accuracy: 0.7063\n",
            "Epoch 65/1000\n",
            "12/12 [==============================] - 1s 85ms/step - loss: 4.1727 - accuracy: 0.7974 - val_loss: 4.8906 - val_accuracy: 0.7156\n",
            "Epoch 66/1000\n",
            "12/12 [==============================] - 1s 85ms/step - loss: 4.0285 - accuracy: 0.8005 - val_loss: 4.7272 - val_accuracy: 0.7375\n",
            "Epoch 67/1000\n",
            "12/12 [==============================] - 1s 83ms/step - loss: 3.8800 - accuracy: 0.8158 - val_loss: 4.7448 - val_accuracy: 0.6938\n",
            "Epoch 68/1000\n",
            "12/12 [==============================] - 1s 124ms/step - loss: 3.7644 - accuracy: 0.8137 - val_loss: 4.5931 - val_accuracy: 0.7281\n",
            "Epoch 69/1000\n",
            "12/12 [==============================] - 1s 85ms/step - loss: 3.6526 - accuracy: 0.8132 - val_loss: 4.4890 - val_accuracy: 0.6906\n",
            "Epoch 70/1000\n",
            "12/12 [==============================] - 1s 84ms/step - loss: 3.5596 - accuracy: 0.8074 - val_loss: 4.4760 - val_accuracy: 0.7094\n",
            "Epoch 71/1000\n",
            "12/12 [==============================] - 1s 85ms/step - loss: 3.5038 - accuracy: 0.8069 - val_loss: 4.3462 - val_accuracy: 0.7156\n",
            "Epoch 72/1000\n",
            "12/12 [==============================] - 1s 86ms/step - loss: 3.4335 - accuracy: 0.8011 - val_loss: 4.2593 - val_accuracy: 0.7188\n",
            "Epoch 73/1000\n",
            "12/12 [==============================] - 1s 88ms/step - loss: 3.3418 - accuracy: 0.8032 - val_loss: 4.1670 - val_accuracy: 0.7063\n",
            "Epoch 74/1000\n",
            "12/12 [==============================] - 1s 85ms/step - loss: 3.2821 - accuracy: 0.8016 - val_loss: 4.0856 - val_accuracy: 0.7281\n",
            "Epoch 75/1000\n",
            "12/12 [==============================] - 1s 85ms/step - loss: 3.2319 - accuracy: 0.7931 - val_loss: 4.0076 - val_accuracy: 0.7156\n",
            "Epoch 76/1000\n",
            "12/12 [==============================] - 1s 84ms/step - loss: 3.1179 - accuracy: 0.8137 - val_loss: 4.0141 - val_accuracy: 0.6875\n",
            "Epoch 77/1000\n",
            "12/12 [==============================] - 1s 84ms/step - loss: 3.0779 - accuracy: 0.7953 - val_loss: 3.9400 - val_accuracy: 0.6875\n",
            "Epoch 78/1000\n",
            "12/12 [==============================] - 1s 84ms/step - loss: 3.1541 - accuracy: 0.7609 - val_loss: 3.9963 - val_accuracy: 0.6750\n",
            "Epoch 79/1000\n",
            "12/12 [==============================] - 1s 86ms/step - loss: 3.1715 - accuracy: 0.7588 - val_loss: 3.9430 - val_accuracy: 0.6750\n",
            "Epoch 80/1000\n",
            "12/12 [==============================] - 1s 85ms/step - loss: 2.9677 - accuracy: 0.8127 - val_loss: 3.7165 - val_accuracy: 0.7312\n",
            "Epoch 81/1000\n",
            "12/12 [==============================] - 1s 85ms/step - loss: 2.8589 - accuracy: 0.8359 - val_loss: 3.7105 - val_accuracy: 0.7188\n",
            "Epoch 82/1000\n",
            "12/12 [==============================] - 1s 87ms/step - loss: 2.7868 - accuracy: 0.8343 - val_loss: 3.6627 - val_accuracy: 0.7219\n",
            "Epoch 83/1000\n",
            "12/12 [==============================] - 1s 85ms/step - loss: 2.7235 - accuracy: 0.8459 - val_loss: 3.6367 - val_accuracy: 0.7281\n",
            "Epoch 84/1000\n",
            "12/12 [==============================] - 1s 84ms/step - loss: 2.6799 - accuracy: 0.8501 - val_loss: 3.6265 - val_accuracy: 0.7281\n",
            "Epoch 85/1000\n",
            "12/12 [==============================] - 1s 85ms/step - loss: 2.6408 - accuracy: 0.8549 - val_loss: 3.6134 - val_accuracy: 0.7344\n",
            "Epoch 86/1000\n",
            "12/12 [==============================] - 1s 84ms/step - loss: 2.6112 - accuracy: 0.8549 - val_loss: 3.6017 - val_accuracy: 0.7156\n",
            "Epoch 87/1000\n",
            "12/12 [==============================] - 1s 86ms/step - loss: 2.5823 - accuracy: 0.8591 - val_loss: 3.5893 - val_accuracy: 0.7344\n",
            "Epoch 88/1000\n",
            "12/12 [==============================] - 1s 84ms/step - loss: 2.5582 - accuracy: 0.8596 - val_loss: 3.5988 - val_accuracy: 0.7250\n",
            "Epoch 89/1000\n",
            "12/12 [==============================] - 1s 84ms/step - loss: 2.5329 - accuracy: 0.8665 - val_loss: 3.5736 - val_accuracy: 0.7312\n",
            "Epoch 90/1000\n",
            "12/12 [==============================] - 1s 87ms/step - loss: 2.5111 - accuracy: 0.8707 - val_loss: 3.5373 - val_accuracy: 0.7281\n",
            "Epoch 91/1000\n",
            "12/12 [==============================] - 1s 86ms/step - loss: 2.4929 - accuracy: 0.8702 - val_loss: 3.5550 - val_accuracy: 0.7312\n",
            "Epoch 92/1000\n",
            "12/12 [==============================] - 1s 87ms/step - loss: 2.4773 - accuracy: 0.8707 - val_loss: 3.5678 - val_accuracy: 0.7406\n",
            "Epoch 93/1000\n",
            "12/12 [==============================] - 1s 85ms/step - loss: 2.4550 - accuracy: 0.8770 - val_loss: 3.5671 - val_accuracy: 0.7156\n",
            "Epoch 94/1000\n",
            "12/12 [==============================] - 1s 85ms/step - loss: 2.4503 - accuracy: 0.8797 - val_loss: 3.5589 - val_accuracy: 0.7250\n",
            "Epoch 95/1000\n",
            "12/12 [==============================] - 1s 83ms/step - loss: 2.4467 - accuracy: 0.8786 - val_loss: 3.5595 - val_accuracy: 0.7250\n",
            "Epoch 96/1000\n",
            "12/12 [==============================] - 1s 85ms/step - loss: 2.4462 - accuracy: 0.8792 - val_loss: 3.5606 - val_accuracy: 0.7219\n",
            "Epoch 97/1000\n",
            "12/12 [==============================] - 1s 84ms/step - loss: 2.4459 - accuracy: 0.8792 - val_loss: 3.5606 - val_accuracy: 0.7219\n",
            "Epoch 98/1000\n",
            "12/12 [==============================] - 1s 86ms/step - loss: 2.4459 - accuracy: 0.8792 - val_loss: 3.5607 - val_accuracy: 0.7219\n",
            "Epoch 99/1000\n",
            "12/12 [==============================] - 1s 85ms/step - loss: 2.4458 - accuracy: 0.8792 - val_loss: 3.5607 - val_accuracy: 0.7219\n",
            "Epoch 100/1000\n",
            "12/12 [==============================] - 1s 86ms/step - loss: 2.4458 - accuracy: 0.8792 - val_loss: 3.5607 - val_accuracy: 0.7219\n",
            "Epoch 00100: early stopping\n"
          ],
          "name": "stdout"
        }
      ]
    },
    {
      "cell_type": "code",
      "metadata": {
        "colab": {
          "base_uri": "https://localhost:8080/",
          "height": 265
        },
        "id": "7XiWapm3C4NG",
        "outputId": "8cebaaef-73e5-452d-c1da-e9937c093ba8"
      },
      "source": [
        "plt.plot(model.history.history['loss'])\n",
        "plt.plot(model.history.history['val_loss'])\n",
        "plt.legend(['train', 'test'], loc='upper right')\n",
        "plt.savefig('loss.png')\n",
        "plt.show()"
      ],
      "execution_count": null,
      "outputs": [
        {
          "output_type": "display_data",
          "data": {
            "image/png": "[encoded data removed]",
            "text/plain": [
              "<Figure size 432x288 with 1 Axes>"
            ]
          },
          "metadata": {
            "tags": [],
            "needs_background": "light"
          }
        }
      ]
    },
    {
      "cell_type": "code",
      "metadata": {
        "colab": {
          "base_uri": "https://localhost:8080/",
          "height": 267
        },
        "id": "lrGAnVsIC4NH",
        "outputId": "719cc474-89a7-4fe5-b247-94640c31e646"
      },
      "source": [
        "plt.plot(model.history.history['accuracy'])\n",
        "plt.plot(model.history.history['val_accuracy'])\n",
        "plt.legend(['train', 'test'], loc='upper right')\n",
        "plt.savefig('accuracy.png')\n",
        "plt.show()"
      ],
      "execution_count": null,
      "outputs": [
        {
          "output_type": "display_data",
          "data": {
            "image/png": "[encoded data removed]",
            "text/plain": [
              "<Figure size 432x288 with 1 Axes>"
            ]
          },
          "metadata": {
            "tags": [],
            "needs_background": "light"
          }
        }
      ]
    },
    {
      "cell_type": "code",
      "metadata": {
        "id": "1SwKjB0hC4NH"
      },
      "source": [
        "save_model_path = '/content/drive/MyDrive/CS5242/datafile/sid_models'\n",
        "if not os.path.exists(save_model_path):\n",
        "    os.makedirs(save_model_path)\n",
        "\n",
        "encoder_model_name = 'encoder_model_stacked.h5'\n",
        "decoder_model_name = 'decoder_model_stacked.h5'\n",
        "\n",
        "encoder_1_output, state_h1, state_c1 = encoder(encoder_inputs)\n",
        "\n",
        "_, state_h2, state_c2 = encoder_2(encoder_1_output)\n",
        "\n",
        "encoder_model = Model(\n",
        "    [encoder_inputs],\n",
        "    [state_h1, state_c1, state_h2, state_c2])\n",
        "\n",
        "\n",
        "# Saving decoder states and dense layer \n",
        "decoder_state_input_h1 = Input(shape=(latent_dim,))\n",
        "decoder_state_input_c1 = Input(shape=(latent_dim,))\n",
        "\n",
        "decoder_state_input_h2 = Input(shape=(latent_dim,))\n",
        "decoder_state_input_c2 = Input(shape=(latent_dim,))\n",
        "\n",
        "decoder_states_inputs = [decoder_state_input_h1, decoder_state_input_c1]\n",
        "decoder_states_inputs_2 = [decoder_state_input_h2, decoder_state_input_c2]\n",
        "\n",
        "decoder_outputs, state_h1, state_c1 = decoder_lstm_1(decoder_inputs_1, initial_state = decoder_states_inputs)\n",
        "decoder_states = [state_h1, state_c1]\n",
        "decoder_outputs, state_h2, state_c2 = decoder_lstm_2(decoder_outputs, initial_state=decoder_states_inputs_2)\n",
        "decoder_states_2 = [state_h2, state_c2]\n",
        "decoder_states = [state_h1, state_c1, state_h2, state_c2]\n",
        "\n",
        "decoder_outputs_tot = decoder_dense(decoder_outputs)\n",
        "decoder_model = Model(\n",
        "    [decoder_inputs_1] + decoder_states_inputs + decoder_states_inputs_2,\n",
        "    [decoder_outputs_tot]+decoder_states)\n",
        "\n",
        "encoder_model.save(os.path.join(save_model_path, encoder_model_name))\n",
        "decoder_model.save_weights(os.path.join(save_model_path, decoder_model_name))"
      ],
      "execution_count": null,
      "outputs": []
    },
    {
      "cell_type": "code",
      "metadata": {
        "colab": {
          "base_uri": "https://localhost:8080/",
          "height": 546
        },
        "id": "JYp1qGueC4NH",
        "outputId": "1c2ce9e0-ab84-401b-8d0e-f0310983cf32"
      },
      "source": [
        "encoder_model.summary()\n",
        "plot_model(encoder_model, to_file='model_inference_encoder.png', show_shapes=True, show_layer_names=True)"
      ],
      "execution_count": null,
      "outputs": [
        {
          "output_type": "stream",
          "text": [
            "Model: \"model_7\"\n",
            "_________________________________________________________________\n",
            "Layer (type)                 Output Shape              Param #   \n",
            "=================================================================\n",
            "encoder_inputs (InputLayer)  [(None, 30, 2048)]        0         \n",
            "_________________________________________________________________\n",
            "encoder_lstm (LSTM)          [(None, 30, 512), (None,  5244928   \n",
            "_________________________________________________________________\n",
            "encoder_lstm_2 (LSTM)        [(None, 30, 512), (None,  2099200   \n",
            "=================================================================\n",
            "Total params: 7,344,128\n",
            "Trainable params: 7,344,128\n",
            "Non-trainable params: 0\n",
            "_________________________________________________________________\n"
          ],
          "name": "stdout"
        },
        {
          "output_type": "execute_result",
          "data": {
            "image/png": "[encoded data removed]",
            "text/plain": [
              "<IPython.core.display.Image object>"
            ]
          },
          "metadata": {
            "tags": []
          },
          "execution_count": 34
        }
      ]
    },
    {
      "cell_type": "code",
      "metadata": {
        "colab": {
          "base_uri": "https://localhost:8080/",
          "height": 698
        },
        "id": "CyTe7aIyC4NH",
        "outputId": "3970dc22-c199-41cd-968a-9c525adb8797"
      },
      "source": [
        "decoder_model.summary()\n",
        "plot_model(decoder_model, to_file='model_inference_decoder.png', show_shapes=True, show_layer_names=True)"
      ],
      "execution_count": null,
      "outputs": [
        {
          "output_type": "stream",
          "text": [
            "Model: \"model_8\"\n",
            "__________________________________________________________________________________________________\n",
            "Layer (type)                    Output Shape         Param #     Connected to                     \n",
            "==================================================================================================\n",
            "decoder_input_1 (InputLayer)    [(None, 1, 121)]     0                                            \n",
            "__________________________________________________________________________________________________\n",
            "input_13 (InputLayer)           [(None, 512)]        0                                            \n",
            "__________________________________________________________________________________________________\n",
            "input_14 (InputLayer)           [(None, 512)]        0                                            \n",
            "__________________________________________________________________________________________________\n",
            "decoder_lstm_1 (LSTM)           [(None, 1, 512), (No 1298432     decoder_input_1[0][0]            \n",
            "                                                                 input_13[0][0]                   \n",
            "                                                                 input_14[0][0]                   \n",
            "__________________________________________________________________________________________________\n",
            "input_15 (InputLayer)           [(None, 512)]        0                                            \n",
            "__________________________________________________________________________________________________\n",
            "input_16 (InputLayer)           [(None, 512)]        0                                            \n",
            "__________________________________________________________________________________________________\n",
            "decoder_lstm_2 (LSTM)           [(None, 1, 512), (No 2099200     decoder_lstm_1[4][0]             \n",
            "                                                                 input_15[0][0]                   \n",
            "                                                                 input_16[0][0]                   \n",
            "__________________________________________________________________________________________________\n",
            "decoder_relu (Dense)            (None, 1, 121)       62073       decoder_lstm_2[6][0]             \n",
            "==================================================================================================\n",
            "Total params: 3,459,705\n",
            "Trainable params: 3,459,705\n",
            "Non-trainable params: 0\n",
            "__________________________________________________________________________________________________\n"
          ],
          "name": "stdout"
        },
        {
          "output_type": "execute_result",
          "data": {
            "image/png": "[encoded data removed]",
            "text/plain": [
              "<IPython.core.display.Image object>"
            ]
          },
          "metadata": {
            "tags": []
          },
          "execution_count": 35
        }
      ]
    },
    {
      "cell_type": "markdown",
      "metadata": {
        "id": "EzrWsIQKC4NH"
      },
      "source": [
        "### Inference"
      ]
    },
    {
      "cell_type": "code",
      "metadata": {
        "id": "b3xb0Aj5C4NI"
      },
      "source": [
        "# declare variables\n",
        "\n",
        "\"\"\"\n",
        "time_steps_encoder is the number of frames per video we will be using for training\n",
        "num_encoder_tokens is the number of features from each frame\n",
        "latent_dim is the number of hidden features for lstm\n",
        "time_steps_decoder is the maximum length of each sentence\n",
        "num_decoder_tokens is the final number of tokens in the softmax layer\n",
        "\"\"\"\n",
        "epochs = 1000\n",
        "batch_size = 32\n",
        "time_steps_encoder = 30\n",
        "num_encoder_tokens = 2048\n",
        "latent_dim = 512\n",
        "time_steps_decoder = output_length\n",
        "num_decoder_tokens = len(voc)\n",
        "save_model_path = '/content/drive/MyDrive/CS5242/datafile/sid_models'\n",
        "encoder_model_name = 'encoder_model_stacked.h5'\n",
        "decoder_model_name = 'decoder_model_stacked.h5'"
      ],
      "execution_count": null,
      "outputs": []
    },
    {
      "cell_type": "code",
      "metadata": {
        "colab": {
          "base_uri": "https://localhost:8080/"
        },
        "id": "16qUVO92C4NI",
        "outputId": "ffbad5e5-749f-4888-db91-9d24c3acbb4d"
      },
      "source": [
        "# inference encoder model\n",
        "inf_encoder_model = load_model(os.path.join(save_model_path, encoder_model_name))\n",
        "\n",
        "# inference decoder model\n",
        "decoder_inputs = Input(shape=(None, num_decoder_tokens))\n",
        "\n",
        "decoder_state_input_h1 = Input(shape=(latent_dim,))\n",
        "decoder_state_input_c1 = Input(shape=(latent_dim,))\n",
        "\n",
        "decoder_state_input_h2 = Input(shape=(latent_dim,))\n",
        "decoder_state_input_c2 = Input(shape=(latent_dim,))\n",
        "\n",
        "decoder_states_inputs = [decoder_state_input_h1, decoder_state_input_c1]\n",
        "decoder_states_inputs_2 = [decoder_state_input_h2, decoder_state_input_c2]\n",
        "\n",
        "decoder_lstm = LSTM(latent_dim, return_sequences=True, return_state=True)\n",
        "decoder_outputs, state_h1, state_c1 = decoder_lstm(decoder_inputs, initial_state=decoder_states_inputs)\n",
        "\n",
        "decoder_lstm_2 = LSTM(latent_dim, return_sequences=True, return_state=True)\n",
        "decoder_outputs, state_h2, state_c2 = decoder_lstm_2(decoder_outputs, initial_state=decoder_states_inputs_2)\n",
        "\n",
        "decoder_states_2 = [state_h1, state_c1, state_h2, state_c2]\n",
        "\n",
        "decoder_dense = Dense(num_decoder_tokens, activation='softmax')\n",
        "decoder_outputs_tot = decoder_dense(decoder_outputs)\n",
        "\n",
        "inf_decoder_model = Model([decoder_inputs] + decoder_states_inputs+ decoder_states_inputs_2, [decoder_outputs_tot]+decoder_states_2)\n",
        "inf_decoder_model.load_weights(os.path.join(save_model_path, decoder_model_name))"
      ],
      "execution_count": null,
      "outputs": [
        {
          "output_type": "stream",
          "text": [
            "WARNING:tensorflow:No training configuration found in the save file, so the model was *not* compiled. Compile it manually.\n"
          ],
          "name": "stdout"
        },
        {
          "output_type": "stream",
          "text": [
            "WARNING:tensorflow:No training configuration found in the save file, so the model was *not* compiled. Compile it manually.\n"
          ],
          "name": "stderr"
        }
      ]
    },
    {
      "cell_type": "code",
      "metadata": {
        "colab": {
          "base_uri": "https://localhost:8080/",
          "height": 312
        },
        "id": "jrg3Xs1qC4NI",
        "outputId": "9edcf230-09d6-4f8a-dc8a-d1d11a979730"
      },
      "source": [
        "plot_model(inf_encoder_model, to_file='model_inference_decoder.png', show_shapes=True, show_layer_names=True)"
      ],
      "execution_count": null,
      "outputs": [
        {
          "output_type": "execute_result",
          "data": {
            "image/png": "[encoded data removed]",
            "text/plain": [
              "<IPython.core.display.Image object>"
            ]
          },
          "metadata": {
            "tags": []
          },
          "execution_count": 39
        }
      ]
    },
    {
      "cell_type": "code",
      "metadata": {
        "colab": {
          "base_uri": "https://localhost:8080/",
          "height": 235
        },
        "id": "_FqTpOIjC4NI",
        "outputId": "6c122ee6-c47c-4677-9a41-955456c57f92"
      },
      "source": [
        "plot_model(inf_decoder_model, to_file='model_inference_decoder.png', show_shapes=True, show_layer_names=True)"
      ],
      "execution_count": null,
      "outputs": [
        {
          "output_type": "execute_result",
          "data": {
            "image/png": "[encoded data removed]",
            "text/plain": [
              "<IPython.core.display.Image object>"
            ]
          },
          "metadata": {
            "tags": []
          },
          "execution_count": 40
        }
      ]
    },
    {
      "cell_type": "markdown",
      "metadata": {
        "id": "ojnfxkAbmRPm"
      },
      "source": [
        "### Exhaustive Search"
      ]
    },
    {
      "cell_type": "code",
      "metadata": {
        "id": "3xR7ejEYmRPq"
      },
      "source": [
        "def exhaustive_search(video_features):\n",
        "  node = 50\n",
        "  all_candidates = []\n",
        "\n",
        "  # initialise prediction with <BOS>\n",
        "  states_value = inf_encoder_model.predict(video_features)\n",
        "  target_seq = np.zeros((1, 1, num_decoder_tokens))\n",
        "  target_seq[0, 0, word_index['<BOS>']] = 1\n",
        "  output_tokens, h1, c1, h2, c2 = inf_decoder_model.predict([target_seq] + states_value[0:2] + states_value[2:])\n",
        "\n",
        "  output_tokens = output_tokens.reshape((num_decoder_tokens))\n",
        "  sampled_token_index = output_tokens.argsort()[-node:][::-1]\n",
        "  states_value = [h1, c1, h2,c2]\n",
        "\n",
        "\n",
        "  # predict for every node\n",
        "  for i in sampled_token_index:\n",
        "    if (index_word[i] == '<BOS>') or (index_word[i] == '<EOS>') or (index_word[i] not in object1_object2.keys()):\n",
        "      continue\n",
        "    \n",
        "    else:\n",
        "      path = []\n",
        "      score = 0.0\n",
        "\n",
        "      sampled_char = index_word[i]\n",
        "      prob = output_tokens[i]\n",
        "      score = score - np.log(prob)\n",
        "      path.append(sampled_char)\n",
        "\n",
        "      target_seq_2 = np.zeros((1, 1, num_decoder_tokens))\n",
        "      target_seq_2[0, 0, i] = 1\n",
        "      output_tokens_2, h1_2, c1_2, h2_2, c2_2 = inf_decoder_model.predict([target_seq_2] + states_value[0:2] + states_value[2:])\n",
        "      output_tokens_2 = output_tokens_2.reshape((num_decoder_tokens))\n",
        "      sampled_token_index_2 = output_tokens_2.argsort()[-node:][::-1]\n",
        "      states_value_2 = [h1_2, c1_2, h2_2, c2_2]\n",
        "\n",
        "      for i in sampled_token_index_2:\n",
        "        if (index_word[i] == '<BOS>') or (index_word[i] == '<EOS>') or (index_word[i] not in relationship.keys()):\n",
        "          continue\n",
        "        \n",
        "        else:\n",
        "          path_2 = path.copy()\n",
        "          score_2 = score.copy()\n",
        "\n",
        "          sampled_char_2 = index_word[i]\n",
        "          prob_2 = output_tokens_2[i]\n",
        "          score_2 = score - np.log(prob_2)\n",
        "          path_2.append(sampled_char_2)\n",
        "\n",
        "          target_seq_3 = np.zeros((1, 1, num_decoder_tokens))\n",
        "          target_seq_3[0, 0, i] = 1\n",
        "          output_tokens_3, h1_3, c1_3, h2_3, c2_3 = inf_decoder_model.predict([target_seq_3] + states_value[0:2] + states_value[2:])\n",
        "          output_tokens_3 = output_tokens_3.reshape((num_decoder_tokens))\n",
        "          sampled_token_index_3 = output_tokens_3.argsort()[-node:][::-1]\n",
        "          states_value_3 = [h1_3, c1_3, h2_3, c2_3]\n",
        "\n",
        "          for i in sampled_token_index_3:\n",
        "            if (index_word[i] == '<BOS>') or (index_word[i] == '<EOS>') or (index_word[i] not in object1_object2.keys()):\n",
        "              continue\n",
        "            \n",
        "            else:\n",
        "              path_3 = path_2.copy()\n",
        "              score_3 = score_2.copy()\n",
        "\n",
        "              sampled_char_3 = index_word[i]\n",
        "              prob_3 = output_tokens_3[i]\n",
        "              score_3 = score_2 - np.log(prob_3)\n",
        "              path_3.append(sampled_char_3)\n",
        "              \n",
        "              candidate = [path_3, score_3]\n",
        "              all_candidates.append(candidate)\n",
        "\n",
        "  ordered = sorted(all_candidates, key=lambda tup:tup[1])\n",
        "  return ordered"
      ],
      "execution_count": null,
      "outputs": []
    },
    {
      "cell_type": "code",
      "metadata": {
        "id": "N6Djd3NYmRPr"
      },
      "source": [
        "def get_top5_preds(ordered):\n",
        "\n",
        "  top = 5\n",
        "\n",
        "  preds = [lst[0] for lst in ordered]\n",
        "  obj1 = [lst[0] for lst in preds]\n",
        "  rel = [lst[1] for lst in preds]\n",
        "  obj2 = [lst[2] for lst in preds]\n",
        "\n",
        "  obj1_top5 = []\n",
        "  rel_top5 = []\n",
        "  obj2_top5 = []\n",
        "\n",
        "  for i in obj1:\n",
        "    if i not in obj1_top5:\n",
        "      obj1_top5.append(i)\n",
        "    if len(obj1_top5) == top:\n",
        "      break\n",
        "\n",
        "  for i in rel:\n",
        "    if i not in rel_top5:\n",
        "      rel_top5.append(i)\n",
        "    if len(rel_top5) == top:\n",
        "      break\n",
        "\n",
        "  for i in obj2:\n",
        "    if i not in obj2_top5:\n",
        "      obj2_top5.append(i)\n",
        "    if len(obj2_top5) == top:\n",
        "      break\n",
        "\n",
        "  dic_words = {'object1': ' '.join(obj1_top5), 'relationship':' '.join(rel_top5), 'object2:':' '.join(obj2_top5)}\n",
        "\n",
        "  obj1_top5_idx = [str(object1_object2[word]) for word in obj1_top5]\n",
        "  rel_top5_idx = [str(relationship[word]) for word in rel_top5]\n",
        "  obj2_top5_idx = [str(object1_object2[word]) for word in obj2_top5]\n",
        "\n",
        "  dic_idx = {'object1': ' '.join(obj1_top5_idx), 'relationship':' '.join(rel_top5_idx), 'object2':' '.join(obj2_top5_idx)}\n",
        "  \n",
        "  # for validation set format for comparison\n",
        "  val_format = []\n",
        "  val_format.append(object1_object2[obj1_top5[0]])\n",
        "  val_format.append(relationship[rel_top5[0]])\n",
        "  val_format.append(object1_object2[obj2_top5[0]])\n",
        "\n",
        "  return dic_words, dic_idx, val_format"
      ],
      "execution_count": null,
      "outputs": []
    },
    {
      "cell_type": "code",
      "metadata": {
        "colab": {
          "base_uri": "https://localhost:8080/"
        },
        "id": "IYkWxh34mRPr",
        "outputId": "45a9f080-fcaa-44ca-ac84-b4d13e45596c"
      },
      "source": [
        "validation_dict.keys()"
      ],
      "execution_count": null,
      "outputs": [
        {
          "output_type": "execute_result",
          "data": {
            "text/plain": [
              "dict_keys(['000409', '000342', '000430', '000112', '000245', '000408', '000143', '000220', '000018', '000244', '000021', '000243', '000276', '000118', '000070', '000074', '000423', '000100', '000048', '000231', '000285', '000345', '000396', '000177', '000442', '000109', '000286', '000407', '000103', '000328', '000129', '000299', '000416', '000097', '000020', '000262', '000031', '000128', '000157', '000218', '000333', '000140', '000363', '000017', '000192', '000238', '000173', '000210', '000370', '000113', '000145', '000291', '000156', '000180', '000316', '000446', '000204', '000305', '000167', '000385', '000027', '000195', '000029', '000095', '000297', '000170', '000277', '000043'])"
            ]
          },
          "metadata": {
            "tags": []
          },
          "execution_count": 40
        }
      ]
    },
    {
      "cell_type": "code",
      "metadata": {
        "colab": {
          "base_uri": "https://localhost:8080/"
        },
        "id": "DChZU7EDmRPs",
        "outputId": "2e4b028e-5416-46dc-9d28-97a4d3257e9c"
      },
      "source": [
        "video = '000245'\n",
        "video_features = np.load('/content/drive/MyDrive/CS5242/datafile/train/features/' + video + '.npy')\n",
        "video_features = video_features.reshape(-1, video_features.shape[0], video_features.shape[1])\n",
        "ordered = exhaustive_search(video_features)\n",
        "dic_words, dic_idx, val_format = get_top5_preds(ordered)\n",
        "dic_words"
      ],
      "execution_count": null,
      "outputs": [
        {
          "output_type": "execute_result",
          "data": {
            "text/plain": [
              "{'object1': 'car person bus squirrel horse',\n",
              " 'object2:': 'car person bus squirrel airplane',\n",
              " 'relationship': 'move_behind move_front stop_behind move_with larger'}"
            ]
          },
          "metadata": {
            "tags": []
          },
          "execution_count": 43
        }
      ]
    },
    {
      "cell_type": "code",
      "metadata": {
        "colab": {
          "base_uri": "https://localhost:8080/"
        },
        "id": "olSgb9s90957",
        "outputId": "4031cee3-c0ee-4001-d064-6c19adb041ea"
      },
      "source": [
        "ordered"
      ],
      "execution_count": null,
      "outputs": [
        {
          "output_type": "execute_result",
          "data": {
            "text/plain": [
              "[[['person', 'larger', 'car'], 23.523993730545044],\n",
              " [['person', 'stop_right', 'car'], 23.670408010482788],\n",
              " [['person', 'jump_behind', 'car'], 23.883371829986572],\n",
              " [['person', 'run_past', 'car'], 24.052903294563293],\n",
              " [['person', 'move_with', 'car'], 24.05495834350586],\n",
              " [['person', 'creep_right', 'car'], 24.295926570892334],\n",
              " [['bicycle', 'stop_right', 'car'], 24.66064739227295],\n",
              " [['bicycle', 'sit_inside', 'car'], 24.691078662872314],\n",
              " [['person', 'right', 'car'], 24.701833963394165],\n",
              " [['bicycle', 'run_past', 'car'], 24.777371883392334],\n",
              " [['person', 'run_behind', 'car'], 24.783130407333374],\n",
              " [['lizard', 'stop_right', 'car'], 25.004640579223633],\n",
              " [['person', 'sit_inside', 'car'], 25.19068717956543],\n",
              " [['bicycle', 'move_with', 'car'], 25.22612476348877],\n",
              " [['person', 'stop_left', 'car'], 25.259519338607788],\n",
              " [['lizard', 'run_past', 'car'], 25.437540292739868],\n",
              " [['person', 'behind', 'car'], 25.4470431804657],\n",
              " [['airplane', 'stop_right', 'car'], 25.496607542037964],\n",
              " [['cattle', 'run_past', 'car'], 25.58284068107605],\n",
              " [['bear', 'stop_right', 'car'], 25.660985946655273],\n",
              " [['cattle', 'larger', 'car'], 25.662427186965942],\n",
              " [['bicycle', 'jump_behind', 'car'], 25.670942544937134],\n",
              " [['lion', 'stop_right', 'car'], 25.685733318328857],\n",
              " [['airplane', 'move_with', 'car'], 25.71940565109253],\n",
              " [['zebra', 'stop_right', 'car'], 25.73138165473938],\n",
              " [['lizard', 'sit_inside', 'car'], 25.757291793823242],\n",
              " [['motorcycle', 'stop_right', 'car'], 25.76721692085266],\n",
              " [['bicycle', 'larger', 'car'], 25.784656047821045],\n",
              " [['airplane', 'sit_inside', 'car'], 25.79635000228882],\n",
              " [['person', 'move_behind', 'car'], 25.822752475738525],\n",
              " [['zebra', 'run_past', 'car'], 25.839701890945435],\n",
              " [['lion', 'run_past', 'car'], 25.852476358413696],\n",
              " [['lion', 'sit_inside', 'car'], 25.855299472808838],\n",
              " [['person', 'move_right', 'car'], 25.919678688049316],\n",
              " [['cattle', 'stop_right', 'car'], 25.947980165481567],\n",
              " [['motorcycle', 'larger', 'car'], 25.981441736221313],\n",
              " [['motorcycle', 'sit_inside', 'car'], 26.01185965538025],\n",
              " [['person', 'stop_behind', 'car'], 26.049667835235596],\n",
              " [['airplane', 'fly_above', 'car'], 26.102479457855225],\n",
              " [['bear', 'sit_inside', 'car'], 26.104022979736328],\n",
              " [['lizard', 'lie_above', 'car'], 26.129351377487183],\n",
              " [['lizard', 'larger', 'car'], 26.14028239250183],\n",
              " [['bird', 'sit_inside', 'car'], 26.149661540985107],\n",
              " [['motorcycle', 'run_past', 'car'], 26.15307354927063],\n",
              " [['zebra', 'sit_inside', 'car'], 26.182789087295532],\n",
              " [['sheep', 'stop_right', 'car'], 26.191774129867554],\n",
              " [['cattle', 'move_with', 'car'], 26.195476531982422],\n",
              " [['airplane', 'jump_behind', 'car'], 26.230183362960815],\n",
              " [['bicycle', 'swim_right', 'car'], 26.231154441833496],\n",
              " [['lion', 'larger', 'car'], 26.261049032211304],\n",
              " [['bicycle', 'right', 'car'], 26.282657384872437],\n",
              " [['lizard', 'move_with', 'car'], 26.317623615264893],\n",
              " [['cattle', 'sit_inside', 'car'], 26.36715054512024],\n",
              " [['cattle', 'jump_behind', 'car'], 26.38911008834839],\n",
              " [['lizard', 'jump_behind', 'car'], 26.38990044593811],\n",
              " [['bicycle', 'run_behind', 'car'], 26.410856246948242],\n",
              " [['lion', 'move_with', 'car'], 26.411210536956787],\n",
              " [['turtle', 'sit_inside', 'car'], 26.42386031150818],\n",
              " [['motorcycle', 'fly_above', 'car'], 26.43002939224243],\n",
              " [['person', 'move_front', 'car'], 26.43212604522705],\n",
              " [['bear', 'run_past', 'car'], 26.434892416000366],\n",
              " [['turtle', 'stop_right', 'car'], 26.454928874969482],\n",
              " [['airplane', 'larger', 'car'], 26.467931747436523],\n",
              " [['lion', 'jump_behind', 'car'], 26.479331493377686],\n",
              " [['giant_panda', 'run_past', 'car'], 26.506571054458618],\n",
              " [['antelope', 'stop_right', 'car'], 26.513915061950684],\n",
              " [['bird', 'larger', 'car'], 26.51587724685669],\n",
              " [['bus', 'move_with', 'car'], 26.521008014678955],\n",
              " [['bear', 'larger', 'car'], 26.5511372089386],\n",
              " [['sheep', 'run_past', 'car'], 26.55196499824524],\n",
              " [['bus', 'run_past', 'car'], 26.5855929851532],\n",
              " [['giant_panda', 'stop_right', 'car'], 26.59614872932434],\n",
              " [['antelope', 'sit_inside', 'car'], 26.610939741134644],\n",
              " [['motorcycle', 'move_with', 'car'], 26.616985321044922],\n",
              " [['bird', 'move_with', 'car'], 26.619794368743896],\n",
              " [['motorcycle', 'jump_behind', 'car'], 26.629088878631592],\n",
              " [['zebra', 'move_with', 'car'], 26.638801097869873],\n",
              " [['lizard', 'right', 'car'], 26.651610612869263],\n",
              " [['bird', 'fly_above', 'car'], 26.667600393295288],\n",
              " [['bird', 'stop_right', 'car'], 26.734607219696045],\n",
              " [['bird', 'creep_right', 'car'], 26.7366144657135],\n",
              " [['airplane', 'fly_away', 'car'], 26.74605131149292],\n",
              " [['bicycle', 'stop_left', 'car'], 26.770989894866943],\n",
              " [['lizard', 'stop_left', 'car'], 26.77495002746582],\n",
              " [['cattle', 'run_behind', 'car'], 26.83210563659668],\n",
              " [['sheep', 'move_with', 'car'], 26.834240436553955],\n",
              " [['lizard', 'run_behind', 'car'], 26.83516550064087],\n",
              " [['bicycle', 'behind', 'car'], 26.842700004577637],\n",
              " [['turtle', 'run_past', 'car'], 26.863805055618286],\n",
              " [['airplane', 'fly_next_to', 'car'], 26.868239164352417],\n",
              " [['giant_panda', 'sit_inside', 'car'], 26.868970155715942],\n",
              " [['bus', 'larger', 'car'], 26.892431020736694],\n",
              " [['cattle', 'creep_right', 'car'], 26.893691301345825],\n",
              " [['sheep', 'jump_behind', 'car'], 26.93036460876465],\n",
              " [['antelope', 'run_past', 'car'], 26.939714193344116],\n",
              " [['zebra', 'jump_behind', 'car'], 26.96035623550415],\n",
              " [['bear', 'move_with', 'car'], 26.997926712036133],\n",
              " [['lion', 'run_behind', 'car'], 27.021007776260376],\n",
              " [['motorcycle', 'run_behind', 'car'], 27.021758794784546],\n",
              " [['bus', 'stop_right', 'car'], 27.036272525787354],\n",
              " [['bird', 'jump_toward', 'car'], 27.07990837097168],\n",
              " [['sheep', 'larger', 'car'], 27.08996319770813],\n",
              " [['antelope', 'larger', 'car'], 27.096976280212402],\n",
              " [['cattle', 'move_toward', 'car'], 27.11251449584961],\n",
              " [['bear', 'jump_behind', 'car'], 27.139394521713257],\n",
              " [['zebra', 'larger', 'car'], 27.174825429916382],\n",
              " [['zebra', 'run_behind', 'car'], 27.175703287124634],\n",
              " [['lion', 'behind', 'car'], 27.188944816589355],\n",
              " [['airplane', 'stop_left', 'car'], 27.190646171569824],\n",
              " [['sheep', 'sit_inside', 'car'], 27.22131609916687],\n",
              " [['bird', 'jump_left', 'car'], 27.24057674407959],\n",
              " [['bus', 'sit_inside', 'car'], 27.250389099121094],\n",
              " [['lion', 'stop_left', 'car'], 27.263083457946777],\n",
              " [['airplane', 'stop_behind', 'car'], 27.271585941314697],\n",
              " [['bicycle', 'move_behind', 'car'], 27.276397705078125],\n",
              " [['antelope', 'move_with', 'car'], 27.277485370635986],\n",
              " [['lizard', 'move_behind', 'car'], 27.29921007156372],\n",
              " [['airplane', 'jump_left', 'car'], 27.36310601234436],\n",
              " [['person', 'move_with', 'bus'], 27.36838722229004],\n",
              " [['antelope', 'run_with', 'car'], 27.38284993171692],\n",
              " [['zebra', 'behind', 'car'], 27.38400435447693],\n",
              " [['bear', 'creep_right', 'car'], 27.389679431915283],\n",
              " [['motorcycle', 'jump_left', 'car'], 27.400388479232788],\n",
              " [['turtle', 'move_beneath', 'car'], 27.400741815567017],\n",
              " [['lizard', 'move_front', 'car'], 27.42760181427002],\n",
              " [['turtle', 'run_behind', 'car'], 27.451117753982544],\n",
              " [['bus', 'jump_behind', 'car'], 27.451347589492798],\n",
              " [['turtle', 'larger', 'car'], 27.461999893188477],\n",
              " [['lizard', 'move_right', 'car'], 27.490428924560547],\n",
              " [['bus', 'run_behind', 'car'], 27.505417346954346],\n",
              " [['turtle', 'move_with', 'car'], 27.524259090423584],\n",
              " [['giant_panda', 'move_with', 'car'], 27.544010639190674],\n",
              " [['bear', 'stop_left', 'car'], 27.56107521057129],\n",
              " [['motorcycle', 'stop_left', 'car'], 27.568668365478516],\n",
              " [['bus', 'creep_right', 'car'], 27.57315707206726],\n",
              " [['bicycle', 'move_right', 'car'], 27.584505558013916],\n",
              " [['motorcycle', 'jump_beneath', 'car'], 27.587565183639526],\n",
              " [['cattle', 'stop_left', 'car'], 27.6105318069458],\n",
              " [['person', 'larger', 'person'], 27.644997119903564],\n",
              " [['zebra', 'stop_left', 'car'], 27.653712272644043],\n",
              " [['person', 'larger', 'bus'], 27.655442714691162],\n",
              " [['airplane', 'move_behind', 'car'], 27.661375522613525],\n",
              " [['lion', 'stop_behind', 'car'], 27.666725158691406],\n",
              " [['bear', 'swim_right', 'car'], 27.670603036880493],\n",
              " [['airplane', 'move_right', 'car'], 27.67554521560669],\n",
              " [['bird', 'stop_behind', 'car'], 27.680644989013672],\n",
              " [['cattle', 'behind', 'car'], 27.682398796081543],\n",
              " [['lizard', 'stop_behind', 'car'], 27.69406032562256],\n",
              " [['sheep', 'run_behind', 'car'], 27.696150302886963],\n",
              " [['cattle', 'move_front', 'car'], 27.701127529144287],\n",
              " [['sheep', 'move_toward', 'car'], 27.75481915473938],\n",
              " [['giant_panda', 'larger', 'car'], 27.756004810333252],\n",
              " [['sheep', 'stop_behind', 'car'], 27.775338649749756],\n",
              " [['turtle', 'jump_behind', 'car'], 27.79887890815735],\n",
              " [['person', 'move_with', 'person'], 27.799437999725342],\n",
              " [['lion', 'move_front', 'car'], 27.831253051757812],\n",
              " [['bus', 'move_with', 'bus'], 27.832578659057617],\n",
              " [['giant_panda', 'jump_behind', 'car'], 27.834766149520874],\n",
              " [['antelope', 'behind', 'car'], 27.83743906021118],\n",
              " [['person', 'stop_right', 'bus'], 27.840306758880615],\n",
              " [['turtle', 'creep_right', 'car'], 27.854002475738525],\n",
              " [['bicycle', 'stop_behind', 'car'], 27.858633041381836],\n",
              " [['motorcycle', 'stop_behind', 'car'], 27.945231437683105],\n",
              " [['cattle', 'stop_behind', 'car'], 27.952674388885498],\n",
              " [['bicycle', 'move_front', 'car'], 27.97363519668579],\n",
              " [['person', 'stop_right', 'person'], 27.98849058151245],\n",
              " [['antelope', 'run_behind', 'car'], 27.99340319633484],\n",
              " [['sheep', 'jump_left', 'car'], 28.003617763519287],\n",
              " [['bear', 'behind', 'car'], 28.028050184249878],\n",
              " [['bird', 'stop_left', 'car'], 28.051147937774658],\n",
              " [['lion', 'move_right', 'car'], 28.05400562286377],\n",
              " [['motorcycle', 'move_behind', 'car'], 28.082176685333252],\n",
              " [['person', 'jump_behind', 'person'], 28.09529399871826],\n",
              " [['giant_panda', 'stop_left', 'car'], 28.124244213104248],\n",
              " [['person', 'creep_right', 'person'], 28.13924741744995],\n",
              " [['person', 'jump_behind', 'bus'], 28.143860816955566],\n",
              " [['zebra', 'move_behind', 'car'], 28.171382427215576],\n",
              " [['sheep', 'stop_left', 'car'], 28.178278923034668],\n",
              " [['antelope', 'stop_left', 'car'], 28.197055339813232],\n",
              " [['bicycle', 'move_with', 'bus'], 28.264114379882812],\n",
              " [['cattle', 'move_with', 'bus'], 28.270015239715576],\n",
              " [['motorcycle', 'move_front', 'car'], 28.280385971069336],\n",
              " [['cattle', 'move_right', 'car'], 28.3214168548584],\n",
              " [['person', 'creep_right', 'bus'], 28.335404872894287],\n",
              " [['motorcycle', 'move_right', 'car'], 28.34006643295288],\n",
              " [['zebra', 'stop_behind', 'car'], 28.383286476135254],\n",
              " [['giant_panda', 'swim_right', 'car'], 28.3893404006958],\n",
              " [['bear', 'move_behind', 'car'], 28.412343502044678],\n",
              " [['sheep', 'move_behind', 'car'], 28.412521839141846],\n",
              " [['cattle', 'move_behind', 'car'], 28.419922351837158],\n",
              " [['person', 'right', 'person'], 28.44050121307373],\n",
              " [['turtle', 'move_behind', 'car'], 28.450193881988525],\n",
              " [['person', 'stop_left', 'bus'], 28.479101181030273],\n",
              " [['airplane', 'move_with', 'bus'], 28.50343894958496],\n",
              " [['airplane', 'move_front', 'car'], 28.537089824676514],\n",
              " [['lion', 'move_behind', 'car'], 28.559782028198242],\n",
              " [['bicycle', 'stop_right', 'bus'], 28.57040548324585],\n",
              " [['bus', 'stop_left', 'car'], 28.584316730499268],\n",
              " [['antelope', 'move_behind', 'car'], 28.660006046295166],\n",
              " [['turtle', 'stop_left', 'car'], 28.675920486450195],\n",
              " [['lizard', 'stop_right', 'bus'], 28.67984390258789],\n",
              " [['bird', 'move_with', 'bus'], 28.705262660980225],\n",
              " [['bird', 'move_right', 'car'], 28.743338108062744],\n",
              " [['antelope', 'stop_behind', 'car'], 28.7604341506958],\n",
              " [['cattle', 'larger', 'bus'], 28.76420259475708],\n",
              " [['person', 'run_past', 'bus'], 28.770790576934814],\n",
              " [['person', 'move_with', 'fox'], 28.792725563049316],\n",
              " [['bus', 'move_behind', 'car'], 28.81416082382202],\n",
              " [['person', 'run_behind', 'bus'], 28.87321186065674],\n",
              " [['bicycle', 'stop_right', 'person'], 28.88359785079956],\n",
              " [['bear', 'move_right', 'car'], 28.88606595993042],\n",
              " [['bear', 'stop_behind', 'car'], 28.903518676757812],\n",
              " [['bicycle', 'move_with', 'person'], 28.935961723327637],\n",
              " [['bus', 'move_right', 'car'], 28.967298984527588],\n",
              " [['bird', 'move_front', 'car'], 28.992680549621582],\n",
              " [['giant_panda', 'move_behind', 'car'], 29.00368356704712],\n",
              " [['bus', 'larger', 'bus'], 29.01099729537964],\n",
              " [['person', 'run_past', 'person'], 29.016839504241943],\n",
              " [['cattle', 'stop_right', 'bus'], 29.03041410446167],\n",
              " [['person', 'stop_left', 'person'], 29.040224075317383],\n",
              " [['airplane', 'stop_right', 'bus'], 29.04581308364868],\n",
              " [['motorcycle', 'move_with', 'bus'], 29.059035778045654],\n",
              " [['person', 'run_behind', 'person'], 29.06985092163086],\n",
              " [['giant_panda', 'move_right', 'car'], 29.09348487854004],\n",
              " [['lizard', 'move_with', 'bus'], 29.118086338043213],\n",
              " [['lion', 'move_with', 'bus'], 29.133923530578613],\n",
              " [['bird', 'move_behind', 'car'], 29.140850067138672],\n",
              " [['zebra', 'move_right', 'car'], 29.170337677001953],\n",
              " [['sheep', 'move_right', 'car'], 29.187001705169678],\n",
              " [['motorcycle', 'stop_right', 'bus'], 29.187031745910645],\n",
              " [['cattle', 'run_past', 'bus'], 29.19019365310669],\n",
              " [['bicycle', 'run_past', 'bus'], 29.210670948028564],\n",
              " [['turtle', 'move_right', 'car'], 29.225069999694824],\n",
              " [['zebra', 'move_front', 'car'], 29.226745128631592],\n",
              " [['turtle', 'move_front', 'car'], 29.229768753051758],\n",
              " [['turtle', 'stop_behind', 'car'], 29.23029661178589],\n",
              " [['airplane', 'move_with', 'person'], 29.27359962463379],\n",
              " [['bear', 'move_front', 'car'], 29.28118085861206],\n",
              " [['sheep', 'move_front', 'car'], 29.29884147644043],\n",
              " [['bus', 'stop_right', 'bus'], 29.308849334716797],\n",
              " [['bus', 'stop_behind', 'car'], 29.343458652496338],\n",
              " [['bus', 'run_past', 'bus'], 29.382023334503174],\n",
              " [['lion', 'stop_right', 'bus'], 29.38354778289795],\n",
              " [['giant_panda', 'move_past', 'car'], 29.38639783859253],\n",
              " [['zebra', 'move_with', 'bus'], 29.408565998077393],\n",
              " [['motorcycle', 'larger', 'bus'], 29.41096258163452],\n",
              " [['lizard', 'walk_front', 'car'], 29.412538528442383],\n",
              " [['lizard', 'stop_right', 'person'], 29.41678237915039],\n",
              " [['lizard', 'stop_left', 'bus'], 29.419752597808838],\n",
              " [['bicycle', 'sit_inside', 'person'], 29.42159080505371],\n",
              " [['bear', 'stop_right', 'bus'], 29.428959846496582],\n",
              " [['cattle', 'jump_behind', 'bus'], 29.430431365966797],\n",
              " [['zebra', 'stop_right', 'bus'], 29.507484436035156],\n",
              " [['lion', 'walk_front', 'car'], 29.50929021835327],\n",
              " [['giant_panda', 'stop_behind', 'car'], 29.519371509552002],\n",
              " [['cattle', 'move_with', 'person'], 29.540531635284424],\n",
              " [['bird', 'larger', 'bus'], 29.550085067749023],\n",
              " [['bicycle', 'sit_inside', 'bus'], 29.57252597808838],\n",
              " [['airplane', 'stop_right', 'person'], 29.57824468612671],\n",
              " [['cattle', 'stop_left', 'bus'], 29.599160194396973],\n",
              " [['cattle', 'larger', 'person'], 29.60002565383911],\n",
              " [['person', 'right', 'bus'], 29.61188793182373],\n",
              " [['car', 'run_past', 'car'], 29.6396062374115],\n",
              " [['bicycle', 'jump_behind', 'bus'], 29.6480770111084],\n",
              " [['bus', 'jump_behind', 'bus'], 29.65653419494629],\n",
              " [['giant_panda', 'move_front', 'car'], 29.667402744293213],\n",
              " [['antelope', 'move_with', 'bus'], 29.675278663635254],\n",
              " [['bus', 'move_with', 'person'], 29.676199913024902],\n",
              " [['bus', 'stop_left', 'bus'], 29.677128791809082],\n",
              " [['bird', 'creep_right', 'bus'], 29.70345401763916],\n",
              " [['bicycle', 'stop_left', 'bus'], 29.708205223083496],\n",
              " [['lizard', 'larger', 'bus'], 29.71120023727417],\n",
              " [['motorcycle', 'stop_right', 'person'], 29.716797351837158],\n",
              " [['bicycle', 'larger', 'bus'], 29.723670482635498],\n",
              " [['bicycle', 'run_past', 'person'], 29.737893104553223],\n",
              " [['cattle', 'move_toward', 'bus'], 29.739404678344727],\n",
              " [['lizard', 'run_past', 'bus'], 29.74307107925415],\n",
              " [['person', 'sit_inside', 'person'], 29.76590919494629],\n",
              " [['bird', 'stop_right', 'bus'], 29.77833366394043],\n",
              " [['bus', 'creep_right', 'bus'], 29.793363094329834],\n",
              " [['bear', 'move_with', 'bus'], 29.801625728607178],\n",
              " [['airplane', 'stop_left', 'bus'], 29.807734966278076],\n",
              " [['bird', 'move_with', 'person'], 29.81906032562256],\n",
              " [['car', 'sit_inside', 'car'], 29.84095287322998],\n",
              " [['sheep', 'jump_behind', 'sheep'], 29.848803997039795],\n",
              " [['antelope', 'stop_right', 'bus'], 29.851750373840332],\n",
              " [['motorcycle', 'stop_left', 'bus'], 29.85716438293457],\n",
              " [['bear', 'stop_right', 'person'], 29.857462882995605],\n",
              " [['bird', 'jump_toward', 'bus'], 29.868048191070557],\n",
              " [['bicycle', 'jump_behind', 'person'], 29.90230131149292],\n",
              " [['person', 'right', 'fox'], 29.904075145721436],\n",
              " [['cattle', 'stop_right', 'person'], 29.90877628326416],\n",
              " [['motorcycle', 'larger', 'person'], 29.92128896713257],\n",
              " [['bus', 'run_behind', 'bus'], 29.928417205810547],\n",
              " [['airplane', 'jump_behind', 'bus'], 29.929006576538086],\n",
              " [['turtle', 'stop_right', 'bus'], 29.931850910186768],\n",
              " [['lion', 'stop_left', 'bus'], 29.941422939300537],\n",
              " [['sheep', 'move_with', 'bus'], 29.944405555725098],\n",
              " [['cattle', 'creep_right', 'bus'], 29.95616388320923],\n",
              " [['bird', 'stop_left', 'bus'], 29.959254264831543],\n",
              " [['bus', 'move_front', 'car'], 29.966910362243652],\n",
              " [['lion', 'larger', 'bus'], 29.967604637145996],\n",
              " [['turtle', 'stop_right', 'person'], 29.973185539245605],\n",
              " [['bicycle', 'larger', 'person'], 29.975139141082764],\n",
              " [['car', 'stop_right', 'car'], 29.991713047027588],\n",
              " [['cattle', 'run_behind', 'bus'], 30.006043910980225],\n",
              " [['sheep', 'move_with', 'sheep'], 30.019690990447998],\n",
              " [['person', 'behind', 'person'], 30.021982669830322],\n",
              " [['bicycle', 'right', 'person'], 30.027994632720947],\n",
              " [['airplane', 'stop_right', 'airplane'], 30.02815341949463],\n",
              " [['bird', 'jump_left', 'bus'], 30.02837038040161],\n",
              " [['motorcycle', 'move_with', 'person'], 30.030781269073486],\n",
              " [['sheep', 'stop_right', 'sheep'], 30.047691822052002],\n",
              " [['turtle', 'move_with', 'bus'], 30.064974784851074],\n",
              " [['zebra', 'stop_right', 'person'], 30.07957124710083],\n",
              " [['motorcycle', 'jump_behind', 'bus'], 30.083186149597168],\n",
              " [['sheep', 'stop_right', 'bus'], 30.089792728424072],\n",
              " [['zebra', 'run_past', 'bus'], 30.102116107940674],\n",
              " [['motorcycle', 'run_past', 'bus'], 30.106865882873535],\n",
              " [['airplane', 'larger', 'bus'], 30.11072301864624],\n",
              " [['lion', 'stop_right', 'person'], 30.113646507263184],\n",
              " [['lion', 'run_past', 'bus'], 30.12191915512085],\n",
              " [['person', 'move_right', 'bus'], 30.12212085723877],\n",
              " [['lizard', 'jump_behind', 'bus'], 30.137762546539307],\n",
              " [['bird', 'sit_inside', 'bus'], 30.161998748779297],\n",
              " [['antelope', 'move_front', 'car'], 30.163762092590332],\n",
              " [['lizard', 'move_with', 'person'], 30.166529655456543],\n",
              " [['bird', 'creep_right', 'person'], 30.169944763183594],\n",
              " [['bear', 'stop_left', 'bus'], 30.19713544845581],\n",
              " [['giant_panda', 'stop_right', 'bus'], 30.222574710845947],\n",
              " [['giant_panda', 'move_with', 'bus'], 30.224205017089844],\n",
              " [['cattle', 'run_past', 'person'], 30.251673221588135],\n",
              " [['lizard', 'lie_above', 'person'], 30.252326488494873],\n",
              " [['lion', 'jump_behind', 'bus'], 30.254703521728516],\n",
              " [['person', 'sit_inside', 'bus'], 30.25690746307373],\n",
              " [['antelope', 'move_right', 'car'], 30.264902114868164],\n",
              " [['bear', 'larger', 'bus'], 30.271896362304688],\n",
              " [['zebra', 'stop_left', 'bus'], 30.273310661315918],\n",
              " [['airplane', 'jump_behind', 'person'], 30.2762188911438],\n",
              " [['bird', 'larger', 'person'], 30.27751922607422],\n",
              " [['airplane', 'fly_away', 'bus'], 30.284290313720703],\n",
              " [['cattle', 'jump_behind', 'person'], 30.291181564331055],\n",
              " [['sheep', 'move_toward', 'sheep'], 30.311691284179688],\n",
              " [['lizard', 'lie_above', 'bus'], 30.32054853439331],\n",
              " [['motorcycle', 'sit_inside', 'bus'], 30.34410285949707],\n",
              " [['car', 'larger', 'car'], 30.357948303222656],\n",
              " [['airplane', 'fly_next_to', 'airplane'], 30.37077522277832],\n",
              " [['airplane', 'sit_inside', 'bus'], 30.373844146728516],\n",
              " [['antelope', 'larger', 'bus'], 30.3783860206604],\n",
              " [['lizard', 'sit_inside', 'bus'], 30.394997596740723],\n",
              " [['bicycle', 'swim_right', 'person'], 30.39512586593628],\n",
              " [['airplane', 'sit_inside', 'person'], 30.40208339691162],\n",
              " [['cattle', 'sit_inside', 'bus'], 30.404126167297363],\n",
              " [['airplane', 'fly_above', 'person'], 30.418952465057373],\n",
              " [['antelope', 'stop_left', 'bus'], 30.419682502746582],\n",
              " [['bicycle', 'swim_right', 'bus'], 30.42398977279663],\n",
              " [['lizard', 'larger', 'person'], 30.452324867248535],\n",
              " [['turtle', 'move_with', 'person'], 30.454354286193848],\n",
              " [['person', 'move_right', 'person'], 30.458420753479004],\n",
              " [['bus', 'sit_inside', 'bus'], 30.473934650421143],\n",
              " [['bicycle', 'stop_left', 'person'], 30.48695468902588],\n",
              " [['turtle', 'sit_inside', 'person'], 30.497636795043945],\n",
              " [['bird', 'stop_right', 'person'], 30.49942398071289],\n",
              " [['bicycle', 'run_behind', 'bus'], 30.50075340270996],\n",
              " [['cattle', 'creep_right', 'person'], 30.50242519378662],\n",
              " [['motorcycle', 'sit_inside', 'person'], 30.5095796585083],\n",
              " [['antelope', 'stop_right', 'person'], 30.51185131072998],\n",
              " [['airplane', 'larger', 'person'], 30.520967960357666],\n",
              " [['airplane', 'fly_above', 'bus'], 30.53458261489868],\n",
              " [['bird', 'fly_above', 'bus'], 30.541451930999756],\n",
              " [['sheep', 'stop_right', 'person'], 30.541812419891357],\n",
              " [['bird', 'walk_front', 'car'], 30.54201602935791],\n",
              " [['bus', 'larger', 'person'], 30.544240951538086],\n",
              " [['bird', 'sit_inside', 'person'], 30.552340984344482],\n",
              " [['motorcycle', 'jump_behind', 'sheep'], 30.570786952972412],\n",
              " [['motorcycle', 'jump_behind', 'person'], 30.603538036346436],\n",
              " [['lion', 'sit_inside', 'bus'], 30.61030387878418],\n",
              " [['sheep', 'move_with', 'person'], 30.61259937286377],\n",
              " [['antelope', 'move_with', 'person'], 30.617401123046875],\n",
              " [['person', 'behind', 'bus'], 30.620781898498535],\n",
              " [['lizard', 'run_behind', 'bus'], 30.623520851135254],\n",
              " [['bear', 'move_with', 'person'], 30.627312660217285],\n",
              " [['lizard', 'run_past', 'person'], 30.629104614257812],\n",
              " [['motorcycle', 'run_behind', 'bus'], 30.62911891937256],\n",
              " [['airplane', 'fly_next_to', 'bus'], 30.64663600921631],\n",
              " [['lizard', 'right', 'person'], 30.648919105529785],\n",
              " [['motorcycle', 'jump_left', 'bus'], 30.66360330581665],\n",
              " [['giant_panda', 'stop_left', 'bus'], 30.67877769470215],\n",
              " [['person', 'move_behind', 'person'], 30.68336057662964],\n",
              " [['bear', 'larger', 'person'], 30.700438976287842],\n",
              " [['giant_panda', 'run_past', 'bus'], 30.71207571029663],\n",
              " [['lizard', 'sit_inside', 'person'], 30.727535247802734],\n",
              " [['bear', 'run_past', 'bus'], 30.736996173858643],\n",
              " [['car', 'jump_behind', 'car'], 30.74256706237793],\n",
              " [['sheep', 'larger', 'sheep'], 30.743139266967773],\n",
              " [['bird', 'fly_above', 'person'], 30.746360301971436],\n",
              " [['motorcycle', 'fly_above', 'person'], 30.74940824508667],\n",
              " [['bus', 'stop_right', 'person'], 30.76308822631836],\n",
              " [['airplane', 'fly_away', 'person'], 30.76780366897583],\n",
              " [['person', 'stop_behind', 'person'], 30.769593238830566],\n",
              " [['zebra', 'jump_behind', 'bus'], 30.775264263153076],\n",
              " [['airplane', 'stop_left', 'person'], 30.786153316497803],\n",
              " [['airplane', 'jump_left', 'bus'], 30.790381908416748],\n",
              " [['bear', 'sit_inside', 'person'], 30.79191493988037],\n",
              " [['motorcycle', 'fly_above', 'bus'], 30.800861358642578],\n",
              " [['airplane', 'fly_next_to', 'person'], 30.801640510559082],\n",
              " [['zebra', 'larger', 'bus'], 30.80172824859619],\n",
              " [['airplane', 'fly_away', 'airplane'], 30.804625034332275],\n",
              " [['lion', 'run_behind', 'bus'], 30.806352615356445],\n",
              " [['bear', 'sit_inside', 'bus'], 30.8247013092041],\n",
              " [['lion', 'sit_inside', 'person'], 30.8310489654541],\n",
              " [['airplane', 'stop_left', 'airplane'], 30.83554458618164],\n",
              " [['turtle', 'larger', 'bus'], 30.838778495788574],\n",
              " [['antelope', 'run_past', 'bus'], 30.847527980804443],\n",
              " [['cattle', 'sit_inside', 'person'], 30.848949432373047],\n",
              " [['motorcycle', 'run_past', 'person'], 30.84949016571045],\n",
              " [['antelope', 'run_with', 'bus'], 30.850061416625977],\n",
              " [['giant_panda', 'stop_right', 'person'], 30.85197925567627],\n",
              " [['turtle', 'run_past', 'bus'], 30.856132984161377],\n",
              " [['zebra', 'sit_inside', 'bus'], 30.859935760498047],\n",
              " [['turtle', 'larger', 'person'], 30.863627910614014],\n",
              " [['bird', 'jump_left', 'person'], 30.88771677017212],\n",
              " [['turtle', 'sit_inside', 'bus'], 30.906641006469727],\n",
              " [['sheep', 'jump_left', 'sheep'], 30.906731605529785],\n",
              " [['zebra', 'run_past', 'person'], 30.910351276397705],\n",
              " [['bus', 'creep_right', 'person'], 30.91871404647827],\n",
              " [['turtle', 'creep_right', 'person'], 30.932815074920654],\n",
              " [['car', 'behind', 'car'], 30.93659543991089],\n",
              " [['antelope', 'sit_inside', 'bus'], 30.93852424621582],\n",
              " [['motorcycle', 'stop_left', 'person'], 30.944549560546875],\n",
              " [['zebra', 'sit_inside', 'person'], 30.947514533996582],\n",
              " [['bicycle', 'run_behind', 'person'], 30.950852394104004],\n",
              " [['sheep', 'run_past', 'bus'], 30.964773654937744],\n",
              " [['sheep', 'walk_front', 'car'], 30.967379570007324],\n",
              " [['sheep', 'jump_behind', 'bus'], 30.97187089920044],\n",
              " [['sheep', 'stop_behind', 'sheep'], 30.97291660308838],\n",
              " [['cattle', 'stop_left', 'person'], 30.977099418640137],\n",
              " [['bear', 'jump_behind', 'bus'], 30.981419563293457],\n",
              " [['zebra', 'walk_front', 'car'], 30.982670783996582],\n",
              " [['sheep', 'run_past', 'sheep'], 30.98336935043335],\n",
              " [['car', 'fly_above', 'car'], 30.983885288238525],\n",
              " [['sheep', 'larger', 'bus'], 31.00912857055664],\n",
              " [['cattle', 'run_behind', 'person'], 31.010161876678467],\n",
              " [['airplane', 'fly_above', 'airplane'], 31.011544704437256],\n",
              " [['turtle', 'stop_left', 'bus'], 31.017723083496094],\n",
              " [['person', 'move_behind', 'bus'], 31.023622035980225],\n",
              " [['bus', 'run_past', 'person'], 31.023784160614014],\n",
              " [['zebra', 'run_behind', 'bus'], 31.03829526901245],\n",
              " [['turtle', 'run_behind', 'bus'], 31.060792446136475],\n",
              " [['bear', 'creep_right', 'bus'], 31.062864780426025],\n",
              " [['bus', 'walk_front', 'car'], 31.07138681411743],\n",
              " [['giant_panda', 'walk_front', 'car'], 31.0724778175354],\n",
              " [['person', 'stop_behind', 'bus'], 31.087326049804688],\n",
              " [['turtle', 'walk_front', 'car'], 31.09760046005249],\n",
              " [['bus', 'jump_behind', 'person'], 31.099634647369385],\n",
              " [['antelope', 'larger', 'person'], 31.100849151611328],\n",
              " [['bird', 'jump_toward', 'person'], 31.113618850708008],\n",
              " [['sheep', 'stop_left', 'bus'], 31.120808124542236],\n",
              " [['car', 'move_with', 'car'], 31.126280307769775],\n",
              " [['lizard', 'right', 'bus'], 31.161248207092285],\n",
              " [['turtle', 'run_past', 'person'], 31.16498041152954],\n",
              " [['person', 'move_front', 'person'], 31.17077922821045],\n",
              " [['bear', 'stop_left', 'person'], 31.17675495147705],\n",
              " [['turtle', 'creep_right', 'bus'], 31.181039810180664],\n",
              " [['bear', 'creep_right', 'person'], 31.203012943267822],\n",
              " [['sheep', 'stop_left', 'sheep'], 31.206820487976074],\n",
              " [['car', 'run_behind', 'car'], 31.225447416305542],\n",
              " [['antelope', 'walk_front', 'car'], 31.23649549484253],\n",
              " [['motorcycle', 'jump_left', 'person'], 31.251461029052734],\n",
              " [['airplane', 'jump_left', 'airplane'], 31.25615930557251],\n",
              " [['turtle', 'jump_behind', 'bus'], 31.258389949798584],\n",
              " [['bird', 'stop_left', 'person'], 31.258753776550293],\n",
              " [['sheep', 'move_toward', 'bus'], 31.27951192855835],\n",
              " [['airplane', 'jump_left', 'person'], 31.279829502105713],\n",
              " [['motorcycle', 'run_behind', 'person'], 31.28177499771118],\n",
              " [['turtle', 'run_behind', 'person'], 31.30012798309326],\n",
              " [['car', 'move_behind', 'car'], 31.31689739227295],\n",
              " [['bus', 'move_right', 'bus'], 31.319275856018066],\n",
              " [['turtle', 'move_beneath', 'bus'], 31.337079524993896],\n",
              " [['lizard', 'move_right', 'bus'], 31.337486267089844],\n",
              " [['giant_panda', 'larger', 'bus'], 31.338231563568115],\n",
              " [['motorcycle', 'jump_left', 'sheep'], 31.34266233444214],\n",
              " [['bear', 'jump_behind', 'person'], 31.357688903808594],\n",
              " [['bicycle', 'behind', 'person'], 31.372730255126953],\n",
              " [['sheep', 'larger', 'person'], 31.375441074371338],\n",
              " [['bear', 'run_past', 'person'], 31.379004955291748],\n",
              " [['turtle', 'jump_behind', 'person'], 31.379738330841064],\n",
              " [['lizard', 'run_behind', 'person'], 31.400203704833984],\n",
              " [['zebra', 'larger', 'person'], 31.426878929138184],\n",
              " [['airplane', 'move_right', 'bus'], 31.43424892425537],\n",
              " [['zebra', 'stop_left', 'person'], 31.438097953796387],\n",
              " [['bus', 'run_behind', 'person'], 31.49400758743286],\n",
              " [['giant_panda', 'sit_inside', 'bus'], 31.497211456298828],\n",
              " [['bus', 'sit_inside', 'person'], 31.498239517211914],\n",
              " [['antelope', 'run_with', 'person'], 31.505807876586914],\n",
              " [['motorcycle', 'fly_above', 'sheep'], 31.5252103805542],\n",
              " [['motorcycle', 'jump_beneath', 'person'], 31.535847187042236],\n",
              " [['giant_panda', 'jump_behind', 'bus'], 31.541244506835938],\n",
              " [['antelope', 'run_behind', 'bus'], 31.5451717376709],\n",
              " [['giant_panda', 'run_past', 'person'], 31.55419921875],\n",
              " [['cattle', 'move_right', 'bus'], 31.555618286132812],\n",
              " [['sheep', 'run_past', 'person'], 31.55840492248535],\n",
              " [['turtle', 'stop_left', 'person'], 31.627023220062256],\n",
              " [['antelope', 'run_past', 'person'], 31.65715503692627],\n",
              " [['bird', 'stop_behind', 'bus'], 31.67363166809082],\n",
              " [['bicycle', 'move_right', 'bus'], 31.678953170776367],\n",
              " [['bus', 'stop_left', 'person'], 31.68032169342041],\n",
              " [['person', 'move_front', 'bus'], 31.695887565612793],\n",
              " [['bear', 'swim_right', 'bus'], 31.7208309173584],\n",
              " [['bicycle', 'behind', 'bus'], 31.728360176086426],\n",
              " [['cattle', 'behind', 'bus'], 31.72864532470703],\n",
              " [['airplane', 'stop_behind', 'airplane'], 31.741604328155518],\n",
              " [['sheep', 'sit_inside', 'sheep'], 31.7855806350708],\n",
              " [['sheep', 'jump_left', 'bus'], 31.80715322494507],\n",
              " [['zebra', 'run_behind', 'person'], 31.816636562347412],\n",
              " [['car', 'stop_behind', 'car'], 31.82828378677368],\n",
              " [['bear', 'swim_right', 'person'], 31.83251190185547],\n",
              " [['motorcycle', 'jump_beneath', 'bus'], 31.857648372650146],\n",
              " [['sheep', 'run_behind', 'sheep'], 31.860893726348877],\n",
              " [['giant_panda', 'larger', 'person'], 31.894020080566406],\n",
              " [['motorcycle', 'move_right', 'bus'], 31.906471252441406],\n",
              " [['cattle', 'behind', 'person'], 31.91939640045166],\n",
              " [['sheep', 'sit_inside', 'person'], 31.92212200164795],\n",
              " [['turtle', 'move_beneath', 'person'], 31.93309211730957],\n",
              " [['lion', 'move_right', 'bus'], 31.938464164733887],\n",
              " [['bird', 'move_right', 'bus'], 31.948111534118652],\n",
              " [['sheep', 'run_behind', 'bus'], 31.94986581802368],\n",
              " [['person', 'move_behind', 'airplane'], 31.952149868011475],\n",
              " [['lion', 'behind', 'bus'], 31.96070671081543],\n",
              " [['bird', 'stop_behind', 'sheep'], 31.98395538330078],\n",
              " [['sheep', 'sit_inside', 'bus'], 31.985499382019043],\n",
              " [['lizard', 'walk_front', 'bus'], 31.998372077941895],\n",
              " [['cattle', 'move_front', 'bus'], 31.998462677001953],\n",
              " [['car', 'move_front', 'car'], 32.0113582611084],\n",
              " [['turtle', 'move_beneath', 'fox'], 32.021782875061035],\n",
              " [['sheep', 'stop_left', 'person'], 32.02214002609253],\n",
              " [['lion', 'behind', 'person'], 32.02335453033447],\n",
              " [['zebra', 'behind', 'person'], 32.05636024475098],\n",
              " [['cattle', 'stop_behind', 'bus'], 32.082594871520996],\n",
              " [['zebra', 'behind', 'bus'], 32.088003158569336],\n",
              " [['antelope', 'behind', 'bus'], 32.09358787536621],\n",
              " [['cattle', 'move_front', 'person'], 32.12229824066162],\n",
              " [['lion', 'stop_behind', 'sheep'], 32.14321327209473],\n",
              " [['lizard', 'move_behind', 'bus'], 32.17253303527832],\n",
              " [['motorcycle', 'stop_behind', 'sheep'], 32.17451572418213],\n",
              " [['lion', 'walk_front', 'bus'], 32.19502067565918],\n",
              " [['antelope', 'run_behind', 'person'], 32.200833320617676],\n",
              " [['sheep', 'jump_left', 'person'], 32.206525802612305],\n",
              " [['airplane', 'move_right', 'person'], 32.22741508483887],\n",
              " [['car', 'stop_left', 'car'], 32.25943326950073],\n",
              " [['airplane', 'move_right', 'airplane'], 32.26079273223877],\n",
              " [['bus', 'walk_front', 'bus'], 32.277862548828125],\n",
              " [['bicycle', 'move_behind', 'person'], 32.297200202941895],\n",
              " [['bicycle', 'move_right', 'person'], 32.30173587799072],\n",
              " [['sheep', 'run_behind', 'person'], 32.3230938911438],\n",
              " [['bus', 'move_behind', 'bus'], 32.32788372039795],\n",
              " [['lizard', 'move_front', 'bus'], 32.3467435836792],\n",
              " [['airplane', 'move_behind', 'bus'], 32.34703588485718],\n",
              " [['giant_panda', 'swim_right', 'bus'], 32.370229721069336],\n",
              " [['motorcycle', 'stop_behind', 'bus'], 32.391845703125],\n",
              " [['lizard', 'move_right', 'person'], 32.39371681213379],\n",
              " [['bicycle', 'move_behind', 'bus'], 32.41319942474365],\n",
              " [['lizard', 'move_behind', 'person'], 32.43316459655762],\n",
              " [['airplane', 'move_behind', 'person'], 32.484482288360596],\n",
              " [['motorcycle', 'stop_behind', 'person'], 32.501832008361816],\n",
              " [['bear', 'behind', 'person'], 32.53767538070679],\n",
              " [['bicycle', 'stop_behind', 'sheep'], 32.548367500305176],\n",
              " [['bus', 'stop_behind', 'bus'], 32.5624885559082],\n",
              " [['car', 'move_right', 'car'], 32.569743156433105],\n",
              " [['bird', 'walk_front', 'bus'], 32.61480903625488],\n",
              " [['giant_panda', 'swim_right', 'person'], 32.637906074523926],\n",
              " [['bicycle', 'stop_behind', 'person'], 32.659178733825684],\n",
              " [['cattle', 'move_behind', 'bus'], 32.65932655334473],\n",
              " [['motorcycle', 'move_behind', 'bus'], 32.666017055511475],\n",
              " [['bicycle', 'move_front', 'person'], 32.706854820251465],\n",
              " [['bear', 'behind', 'bus'], 32.74041557312012],\n",
              " [['sheep', 'move_behind', 'sheep'], 32.743112564086914],\n",
              " [['airplane', 'move_behind', 'airplane'], 32.749144077301025],\n",
              " [['cattle', 'move_right', 'person'], 32.755120277404785],\n",
              " [['motorcycle', 'move_right', 'person'], 32.76881980895996],\n",
              " [['bear', 'move_right', 'bus'], 32.78228569030762],\n",
              " [['motorcycle', 'move_behind', 'person'], 32.81191110610962],\n",
              " [['turtle', 'move_right', 'bus'], 32.82193851470947],\n",
              " [['giant_panda', 'move_right', 'bus'], 32.82344627380371],\n",
              " [['sheep', 'move_right', 'sheep'], 32.832807540893555],\n",
              " [['turtle', 'move_behind', 'person'], 32.84977865219116],\n",
              " [['motorcycle', 'move_front', 'person'], 32.873374938964844],\n",
              " [['giant_panda', 'move_past', 'bus'], 32.876577377319336],\n",
              " [['zebra', 'stop_behind', 'sheep'], 32.96958923339844],\n",
              " [['turtle', 'move_behind', 'bus'], 32.98568296432495],\n",
              " [['zebra', 'move_right', 'bus'], 32.998467445373535],\n",
              " [['motorcycle', 'move_front', 'bus'], 33.01753520965576],\n",
              " [['zebra', 'move_behind', 'bus'], 33.02250337600708],\n",
              " [['bird', 'move_right', 'person'], 33.06126308441162],\n",
              " [['motorcycle', 'move_right', 'sheep'], 33.06173610687256],\n",
              " [['bus', 'move_right', 'person'], 33.111634254455566],\n",
              " [['cattle', 'move_behind', 'person'], 33.125725746154785],\n",
              " [['airplane', 'move_front', 'person'], 33.184210777282715],\n",
              " [['turtle', 'move_front', 'person'], 33.189842224121094],\n",
              " [['zebra', 'move_behind', 'person'], 33.20619344711304],\n",
              " [['antelope', 'move_behind', 'bus'], 33.21897888183594],\n",
              " [['turtle', 'move_right', 'person'], 33.24242877960205],\n",
              " [['sheep', 'move_right', 'bus'], 33.25530242919922],\n",
              " [['bear', 'move_behind', 'bus'], 33.258540630340576],\n",
              " [['sheep', 'move_front', 'sheep'], 33.267611503601074],\n",
              " [['bird', 'move_behind', 'bus'], 33.27745342254639],\n",
              " [['bird', 'move_front', 'bus'], 33.29252815246582],\n",
              " [['airplane', 'move_front', 'bus'], 33.30306053161621],\n",
              " [['bear', 'move_behind', 'person'], 33.33338785171509],\n",
              " [['bird', 'move_front', 'person'], 33.388129234313965],\n",
              " [['turtle', 'stop_behind', 'person'], 33.39318656921387],\n",
              " [['motorcycle', 'move_behind', 'sheep'], 33.40014696121216],\n",
              " [['antelope', 'move_behind', 'person'], 33.41201305389404],\n",
              " [['bus', 'move_behind', 'person'], 33.42324733734131],\n",
              " [['sheep', 'move_behind', 'bus'], 33.43057823181152],\n",
              " [['lion', 'move_behind', 'bus'], 33.444644927978516],\n",
              " [['sheep', 'move_behind', 'person'], 33.47118854522705],\n",
              " [['bus', 'move_front', 'bus'], 33.47234630584717],\n",
              " [['sheep', 'walk_front', 'sheep'], 33.51259994506836],\n",
              " [['antelope', 'walk_front', 'bus'], 33.526689529418945],\n",
              " [['bear', 'move_right', 'person'], 33.53876781463623],\n",
              " [['bus', 'stop_behind', 'sheep'], 33.57767295837402],\n",
              " [['bear', 'stop_behind', 'bus'], 33.58478260040283],\n",
              " [['turtle', 'walk_front', 'bus'], 33.588711738586426],\n",
              " [['bear', 'stop_behind', 'person'], 33.629886627197266],\n",
              " [['zebra', 'walk_front', 'bus'], 33.63374900817871],\n",
              " [['giant_panda', 'walk_front', 'bus'], 33.63481616973877],\n",
              " [['antelope', 'move_right', 'bus'], 33.70765495300293],\n",
              " [['lion', 'move_behind', 'person'], 33.715704917907715],\n",
              " [['bird', 'move_behind', 'person'], 33.733171463012695],\n",
              " [['car', 'stop_right', 'bus'], 33.7547492980957],\n",
              " [['giant_panda', 'move_behind', 'bus'], 33.80910396575928],\n",
              " [['car', 'run_past', 'bus'], 33.85949897766113],\n",
              " [['car', 'move_with', 'bus'], 33.868123054504395],\n",
              " [['giant_panda', 'stop_behind', 'sheep'], 33.90225791931152],\n",
              " [['car', 'larger', 'bus'], 33.939921855926514],\n",
              " [['sheep', 'walk_front', 'bus'], 33.940443992614746],\n",
              " [['bear', 'move_front', 'person'], 33.9822359085083],\n",
              " [['giant_panda', 'move_behind', 'person'], 34.02292537689209],\n",
              " [['zebra', 'move_front', 'person'], 34.0361442565918],\n",
              " [['bus', 'move_front', 'person'], 34.18793487548828],\n",
              " [['turtle', 'walk_front', 'person'], 34.20417785644531],\n",
              " [['car', 'jump_behind', 'bus'], 34.46301794052124],\n",
              " [['car', 'sit_inside', 'bus'], 34.528215408325195],\n",
              " [['antelope', 'move_front', 'person'], 34.6031379699707],\n",
              " [['car', 'stop_right', 'person'], 34.756103515625],\n",
              " [['car', 'larger', 'person'], 35.00802803039551],\n",
              " [['car', 'stop_left', 'bus'], 35.01816463470459],\n",
              " [['car', 'run_behind', 'bus'], 35.08195114135742],\n",
              " [['car', 'sit_inside', 'person'], 35.12849426269531],\n",
              " [['car', 'jump_behind', 'sheep'], 35.137887954711914],\n",
              " [['car', 'run_past', 'person'], 35.16249752044678],\n",
              " [['car', 'fly_above', 'bus'], 35.64230251312256],\n",
              " [['car', 'behind', 'bus'], 35.704636573791504],\n",
              " [['car', 'behind', 'person'], 35.9415225982666],\n",
              " [['car', 'fly_above', 'person'], 36.08989715576172],\n",
              " [['car', 'move_behind', 'bus'], 36.220285415649414],\n",
              " [['car', 'move_right', 'bus'], 36.48734951019287],\n",
              " [['car', 'stop_behind', 'bus'], 36.488088607788086],\n",
              " [['car', 'stop_behind', 'sheep'], 36.52569389343262],\n",
              " [['car', 'move_behind', 'person'], 36.774919509887695],\n",
              " [['car', 'move_front', 'bus'], 36.96542453765869]]"
            ]
          },
          "metadata": {
            "tags": []
          },
          "execution_count": 36
        }
      ]
    },
    {
      "cell_type": "code",
      "metadata": {
        "colab": {
          "base_uri": "https://localhost:8080/"
        },
        "id": "8zQy_4SxmRPs",
        "outputId": "06c635f1-4743-4bf2-d349-a51365326fa8"
      },
      "source": [
        "for i in validation_dict[video][0].numpy():\n",
        "  print(index_word[i])"
      ],
      "execution_count": null,
      "outputs": [
        {
          "output_type": "stream",
          "text": [
            "<BOS>\n",
            "car\n",
            "move_behind\n",
            "car\n",
            "<EOS>\n"
          ],
          "name": "stdout"
        }
      ]
    },
    {
      "cell_type": "code",
      "metadata": {
        "id": "NhY0dKvGmRPs"
      },
      "source": [
        "# check against validation set\n",
        "count = 0\n",
        "mean_accuracy = []\n",
        "for video in validation_dict.keys():\n",
        "  \n",
        "  video_features = np.load('/content/drive/MyDrive/CS5242/datafile/train/features/' + video + '.npy')\n",
        "  video_features = video_features.reshape(-1, video_features.shape[0], video_features.shape[1])\n",
        "\n",
        "  ordered = exhaustive_search(video_features)\n",
        "  words, idx, val_format = get_top5_preds(ordered)\n",
        "\n",
        "\n",
        "  # validation set comparison\n",
        "  annotation = training_annotation[video]\n",
        "  accuracy = np.mean(np.array(val_format) == np.array(annotation))\n",
        "  mean_accuracy.append(accuracy)\n",
        "  count += 1\n",
        "  print(\"{}. {} Accuracy {}\".format(count, video, accuracy))\n",
        "  print(\"{}\\n\".format(np.array(val_format) == np.array(annotation)))"
      ],
      "execution_count": null,
      "outputs": []
    },
    {
      "cell_type": "code",
      "metadata": {
        "colab": {
          "base_uri": "https://localhost:8080/"
        },
        "id": "rZhAEn8YmRPt",
        "outputId": "09166885-678d-4d60-e0f3-c08a4e3dc9bb"
      },
      "source": [
        "# test set prediction\n",
        "\n",
        "import pandas as pd\n",
        "\n",
        "test_features = os.listdir('/content/drive/MyDrive/CS5242/datafile/test/features')\n",
        "\n",
        "df_pred = pd.DataFrame(columns = ['object1', 'relationship', 'object2'])\n",
        "df_pred.index.names = ['ID']\n",
        "\n",
        "count = 0\n",
        "\n",
        "for i in test_features:\n",
        "  video = i[:-4]\n",
        "  video_features = np.load('/content/drive/MyDrive/CS5242/datafile/test/features/' + video + '.npy')\n",
        "  video_features = video_features.reshape(-1, video_features.shape[0], video_features.shape[1])\n",
        "\n",
        "  ordered = exhaustive_search(video_features)\n",
        "  words, idx, val_format = get_top5_preds(ordered)\n",
        "\n",
        "  df_pred.loc[video] = idx\n",
        "\n",
        "  count += 1\n",
        "  print(\"{}/{} Video: {}\".format(count, len(test_features), video))\n",
        "  print(\"{}\\n\".format(idx))"
      ],
      "execution_count": null,
      "outputs": [
        {
          "output_type": "stream",
          "text": [
            "1/119 Video: 000000\n",
            "{'object1': '29 8 3 12 9', 'relationship': '32 1 60 17 75', 'object2': '29 8 3 12 0'}\n",
            "\n",
            "2/119 Video: 000001\n",
            "{'object1': '29 8 0 9 3', 'relationship': '32 8 1 60 75', 'object2': '29 8 0 9 3'}\n",
            "\n",
            "3/119 Video: 000002\n",
            "{'object1': '2 5 23 29 21', 'relationship': '24 46 29 44 66', 'object2': '2 5 23 30 29'}\n",
            "\n",
            "4/119 Video: 000003\n",
            "{'object1': '2 5 23 21 29', 'relationship': '24 29 46 66 50', 'object2': '2 5 23 30 21'}\n",
            "\n",
            "5/119 Video: 000004\n",
            "{'object1': '2 5 23 21 29', 'relationship': '24 29 46 66 50', 'object2': '2 5 23 30 21'}\n",
            "\n",
            "6/119 Video: 000005\n",
            "{'object1': '2 5 23 21 29', 'relationship': '24 29 46 66 67', 'object2': '2 5 23 30 21'}\n",
            "\n",
            "7/119 Video: 000006\n",
            "{'object1': '29 2 21 0 12', 'relationship': '2 10 42 34 20', 'object2': '29 2 21 30 0'}\n",
            "\n",
            "8/119 Video: 000007\n",
            "{'object1': '29 24 30 18 10', 'relationship': '73 20 40 53 39', 'object2': '29 24 30 18 10'}\n",
            "\n",
            "9/119 Video: 000008\n",
            "{'object1': '15 29 24 32 25', 'relationship': '5 51 71 40 63', 'object2': '15 29 24 32 25'}\n",
            "\n",
            "10/119 Video: 000009\n",
            "{'object1': '13 21 11 29 31', 'relationship': '74 39 68 65 10', 'object2': '13 21 11 29 31'}\n",
            "\n",
            "11/119 Video: 000010\n",
            "{'object1': '16 21 15 18 31', 'relationship': '57 19 64 50 3', 'object2': '16 15 21 18 31'}\n",
            "\n",
            "12/119 Video: 000011\n",
            "{'object1': '29 9 24 3 30', 'relationship': '8 79 1 16 32', 'object2': '29 9 24 30 3'}\n",
            "\n",
            "13/119 Video: 000012\n",
            "{'object1': '2 21 23 29 5', 'relationship': '24 29 46 23 67', 'object2': '2 21 23 29 30'}\n",
            "\n",
            "14/119 Video: 000013\n",
            "{'object1': '2 5 21 23 29', 'relationship': '24 29 46 50 66', 'object2': '2 5 23 21 30'}\n",
            "\n",
            "15/119 Video: 000014\n",
            "{'object1': '2 5 23 21 29', 'relationship': '24 29 46 67 66', 'object2': '2 5 30 23 21'}\n",
            "\n",
            "16/119 Video: 000015\n",
            "{'object1': '13 21 11 29 31', 'relationship': '39 74 68 42 40', 'object2': '13 21 11 29 31'}\n",
            "\n",
            "17/119 Video: 000016\n",
            "{'object1': '20 21 11 12 13', 'relationship': '38 17 79 42 3', 'object2': '20 21 11 12 13'}\n",
            "\n",
            "18/119 Video: 000017\n",
            "{'object1': '20 21 11 12 13', 'relationship': '38 17 79 42 3', 'object2': '20 21 12 11 13'}\n",
            "\n",
            "19/119 Video: 000018\n",
            "{'object1': '0 29 26 24 9', 'relationship': '21 61 76 12 15', 'object2': '29 0 24 26 30'}\n",
            "\n",
            "20/119 Video: 000019\n",
            "{'object1': '29 24 3 0 15', 'relationship': '17 65 35 3 70', 'object2': '29 24 3 0 15'}\n",
            "\n",
            "21/119 Video: 000020\n",
            "{'object1': '3 11 12 1 34', 'relationship': '65 35 17 47 38', 'object2': '3 11 12 1 34'}\n",
            "\n",
            "22/119 Video: 000021\n",
            "{'object1': '2 5 8 9 21', 'relationship': '29 24 46 66 50', 'object2': '2 5 30 8 29'}\n",
            "\n",
            "23/119 Video: 000022\n",
            "{'object1': '2 5 21 23 29', 'relationship': '24 29 46 67 66', 'object2': '2 5 23 30 21'}\n",
            "\n",
            "24/119 Video: 000023\n",
            "{'object1': '2 5 21 23 29', 'relationship': '24 29 46 66 67', 'object2': '2 5 23 30 21'}\n",
            "\n",
            "25/119 Video: 000024\n",
            "{'object1': '2 5 23 21 29', 'relationship': '24 29 46 66 50', 'object2': '2 5 23 30 21'}\n",
            "\n",
            "26/119 Video: 000025\n",
            "{'object1': '2 5 23 21 29', 'relationship': '24 29 46 50 66', 'object2': '2 5 23 21 30'}\n",
            "\n",
            "27/119 Video: 000026\n",
            "{'object1': '2 8 1 9 5', 'relationship': '63 4 29 65 75', 'object2': '8 2 1 9 5'}\n",
            "\n",
            "28/119 Video: 000027\n",
            "{'object1': '29 0 8 31 21', 'relationship': '60 61 8 1 15', 'object2': '29 0 8 31 21'}\n",
            "\n",
            "29/119 Video: 000028\n",
            "{'object1': '34 3 11 14 15', 'relationship': '65 70 35 9 38', 'object2': '34 3 14 11 22'}\n",
            "\n",
            "30/119 Video: 000029\n",
            "{'object1': '9 29 3 5 30', 'relationship': '66 16 79 46 38', 'object2': '9 30 29 3 6'}\n",
            "\n",
            "31/119 Video: 000030\n",
            "{'object1': '9 29 5 3 30', 'relationship': '66 16 46 79 38', 'object2': '9 30 29 3 5'}\n",
            "\n",
            "32/119 Video: 000031\n",
            "{'object1': '9 29 3 5 30', 'relationship': '66 16 79 46 38', 'object2': '9 30 29 3 6'}\n",
            "\n",
            "33/119 Video: 000032\n",
            "{'object1': '9 29 3 5 30', 'relationship': '66 16 79 46 38', 'object2': '9 30 29 3 6'}\n",
            "\n",
            "34/119 Video: 000033\n",
            "{'object1': '9 29 3 5 30', 'relationship': '66 16 79 46 38', 'object2': '9 30 29 3 6'}\n",
            "\n",
            "35/119 Video: 000034\n",
            "{'object1': '14 34 9 23 5', 'relationship': '63 65 9 38 4', 'object2': '14 34 9 23 1'}\n",
            "\n",
            "36/119 Video: 000035\n",
            "{'object1': '14 34 9 1 5', 'relationship': '63 65 9 38 70', 'object2': '14 34 9 1 23'}\n",
            "\n",
            "37/119 Video: 000036\n",
            "{'object1': '14 34 9 23 1', 'relationship': '63 65 9 38 37', 'object2': '14 34 9 23 1'}\n",
            "\n",
            "38/119 Video: 000037\n",
            "{'object1': '5 2 23 29 9', 'relationship': '24 46 29 44 59', 'object2': '5 2 23 30 29'}\n",
            "\n",
            "39/119 Video: 000038\n",
            "{'object1': '2 5 23 21 29', 'relationship': '24 29 46 66 50', 'object2': '2 5 23 30 21'}\n",
            "\n",
            "40/119 Video: 000039\n",
            "{'object1': '15 29 24 0 25', 'relationship': '37 5 48 51 35', 'object2': '15 24 29 25 0'}\n",
            "\n",
            "41/119 Video: 000040\n",
            "{'object1': '34 3 11 14 1', 'relationship': '65 70 35 9 63', 'object2': '34 3 11 14 22'}\n",
            "\n",
            "42/119 Video: 000041\n",
            "{'object1': '13 21 11 20 31', 'relationship': '39 74 40 10 42', 'object2': '13 21 11 29 20'}\n",
            "\n",
            "43/119 Video: 000042\n",
            "{'object1': '1 8 2 12 3', 'relationship': '4 57 75 7 47', 'object2': '1 8 2 12 3'}\n",
            "\n",
            "44/119 Video: 000043\n",
            "{'object1': '11 15 32 31 3', 'relationship': '3 19 55 35 74', 'object2': '11 15 32 31 3'}\n",
            "\n",
            "45/119 Video: 000044\n",
            "{'object1': '5 2 9 23 29', 'relationship': '46 24 44 59 66', 'object2': '5 2 9 30 23'}\n",
            "\n",
            "46/119 Video: 000045\n",
            "{'object1': '5 2 9 23 30', 'relationship': '46 24 59 66 44', 'object2': '5 2 9 30 23'}\n",
            "\n",
            "47/119 Video: 000046\n",
            "{'object1': '2 5 29 9 30', 'relationship': '24 46 29 66 79', 'object2': '2 5 30 29 9'}\n",
            "\n",
            "48/119 Video: 000047\n",
            "{'object1': '29 9 2 12 3', 'relationship': '79 1 75 2 42', 'object2': '29 12 9 30 2'}\n",
            "\n",
            "49/119 Video: 000048\n",
            "{'object1': '29 2 20 12 3', 'relationship': '79 65 75 42 17', 'object2': '29 12 20 2 30'}\n",
            "\n",
            "50/119 Video: 000049\n",
            "{'object1': '29 2 20 12 21', 'relationship': '79 65 42 75 2', 'object2': '29 12 20 2 30'}\n",
            "\n",
            "51/119 Video: 000050\n",
            "{'object1': '29 0 2 21 9', 'relationship': '34 2 10 42 15', 'object2': '29 0 30 2 21'}\n",
            "\n",
            "52/119 Video: 000051\n",
            "{'object1': '29 2 0 21 30', 'relationship': '2 10 34 42 20', 'object2': '29 30 0 21 2'}\n",
            "\n",
            "53/119 Video: 000052\n",
            "{'object1': '29 0 2 21 30', 'relationship': '2 34 10 42 15', 'object2': '29 30 0 2 21'}\n",
            "\n",
            "54/119 Video: 000053\n",
            "{'object1': '7 15 29 9 23', 'relationship': '0 58 25 51 22', 'object2': '7 15 29 23 24'}\n",
            "\n",
            "55/119 Video: 000054\n",
            "{'object1': '7 15 9 23 19', 'relationship': '58 25 0 51 22', 'object2': '7 15 9 19 23'}\n",
            "\n",
            "56/119 Video: 000055\n",
            "{'object1': '34 3 11 14 1', 'relationship': '65 70 9 35 63', 'object2': '34 3 14 11 1'}\n",
            "\n",
            "57/119 Video: 000056\n",
            "{'object1': '2 5 23 21 29', 'relationship': '24 29 46 66 50', 'object2': '2 5 23 30 21'}\n",
            "\n",
            "58/119 Video: 000057\n",
            "{'object1': '2 5 23 21 29', 'relationship': '24 29 46 66 50', 'object2': '2 5 23 30 21'}\n",
            "\n",
            "59/119 Video: 000058\n",
            "{'object1': '2 5 23 21 29', 'relationship': '24 29 46 66 50', 'object2': '2 5 23 30 21'}\n",
            "\n",
            "60/119 Video: 000059\n",
            "{'object1': '5 30 9 2 29', 'relationship': '53 52 46 44 13', 'object2': '30 5 10 9 33'}\n",
            "\n",
            "61/119 Video: 000060\n",
            "{'object1': '5 2 9 29 23', 'relationship': '24 46 29 66 44', 'object2': '5 2 30 9 23'}\n",
            "\n",
            "62/119 Video: 000061\n",
            "{'object1': '2 5 21 23 29', 'relationship': '24 29 46 66 50', 'object2': '2 5 21 30 23'}\n",
            "\n",
            "63/119 Video: 000062\n",
            "{'object1': '2 5 21 23 29', 'relationship': '24 29 46 66 67', 'object2': '2 5 23 30 21'}\n",
            "\n",
            "64/119 Video: 000063\n",
            "{'object1': '2 5 23 21 29', 'relationship': '24 29 46 66 50', 'object2': '2 5 30 23 29'}\n",
            "\n",
            "65/119 Video: 000064\n",
            "{'object1': '9 29 5 3 30', 'relationship': '66 79 38 16 63', 'object2': '9 29 30 3 5'}\n",
            "\n",
            "66/119 Video: 000065\n",
            "{'object1': '29 24 18 9 30', 'relationship': '73 20 39 40 2', 'object2': '29 24 18 30 9'}\n",
            "\n",
            "67/119 Video: 000066\n",
            "{'object1': '29 0 8 31 2', 'relationship': '60 47 8 32 1', 'object2': '29 0 8 31 21'}\n",
            "\n",
            "68/119 Video: 000067\n",
            "{'object1': '29 24 18 30 21', 'relationship': '20 42 73 10 2', 'object2': '29 24 18 30 21'}\n",
            "\n",
            "69/119 Video: 000068\n",
            "{'object1': '34 3 11 1 14', 'relationship': '65 70 35 9 38', 'object2': '34 3 11 1 14'}\n",
            "\n",
            "70/119 Video: 000069\n",
            "{'object1': '29 9 8 5 2', 'relationship': '8 75 1 47 79', 'object2': '29 9 8 5 0'}\n",
            "\n",
            "71/119 Video: 000070\n",
            "{'object1': '33 19 23 2 5', 'relationship': '81 13 78 18 30', 'object2': '33 19 23 30 2'}\n",
            "\n",
            "72/119 Video: 000071\n",
            "{'object1': '29 18 24 21 0', 'relationship': '20 42 2 39 10', 'object2': '29 24 18 30 21'}\n",
            "\n",
            "73/119 Video: 000072\n",
            "{'object1': '19 33 10 26 30', 'relationship': '11 30 18 13 22', 'object2': '19 33 10 30 26'}\n",
            "\n",
            "74/119 Video: 000073\n",
            "{'object1': '33 30 18 19 29', 'relationship': '30 13 52 81 53', 'object2': '33 30 18 19 10'}\n",
            "\n",
            "75/119 Video: 000074\n",
            "{'object1': '18 32 11 15 24', 'relationship': '55 38 68 3 43', 'object2': '18 32 11 15 24'}\n",
            "\n",
            "76/119 Video: 000075\n",
            "{'object1': '14 34 9 23 5', 'relationship': '63 65 9 38 4', 'object2': '14 34 9 23 1'}\n",
            "\n",
            "77/119 Video: 000076\n",
            "{'object1': '14 9 34 5 8', 'relationship': '63 65 9 38 4', 'object2': '14 9 34 5 8'}\n",
            "\n",
            "78/119 Video: 000077\n",
            "{'object1': '12 6 3 11 20', 'relationship': '65 17 38 75 79', 'object2': '12 6 3 29 32'}\n",
            "\n",
            "79/119 Video: 000078\n",
            "{'object1': '11 32 15 18 3', 'relationship': '55 3 19 68 74', 'object2': '11 32 15 18 12'}\n",
            "\n",
            "80/119 Video: 000079\n",
            "{'object1': '34 3 14 11 15', 'relationship': '65 70 9 35 63', 'object2': '34 14 3 11 15'}\n",
            "\n",
            "81/119 Video: 000080\n",
            "{'object1': '29 0 21 24 2', 'relationship': '2 10 34 42 15', 'object2': '29 0 24 21 30'}\n",
            "\n",
            "82/119 Video: 000081\n",
            "{'object1': '34 3 11 14 1', 'relationship': '65 70 35 9 38', 'object2': '34 3 11 14 22'}\n",
            "\n",
            "83/119 Video: 000082\n",
            "{'object1': '5 9 2 29 23', 'relationship': '59 44 46 24 66', 'object2': '5 9 2 29 23'}\n",
            "\n",
            "84/119 Video: 000083\n",
            "{'object1': '29 9 24 30 18', 'relationship': '79 20 73 38 10', 'object2': '29 9 24 30 18'}\n",
            "\n",
            "85/119 Video: 000084\n",
            "{'object1': '33 30 9 29 5', 'relationship': '52 53 13 25 30', 'object2': '33 30 9 10 29'}\n",
            "\n",
            "86/119 Video: 000085\n",
            "{'object1': '10 23 7 19 26', 'relationship': '22 11 26 13 58', 'object2': '10 23 7 19 26'}\n",
            "\n",
            "87/119 Video: 000086\n",
            "{'object1': '29 24 18 30 9', 'relationship': '20 73 42 79 39', 'object2': '29 24 18 30 9'}\n",
            "\n",
            "88/119 Video: 000087\n",
            "{'object1': '2 23 21 29 5', 'relationship': '24 50 26 18 63', 'object2': '2 23 21 29 5'}\n",
            "\n",
            "89/119 Video: 000088\n",
            "{'object1': '29 20 18 12 21', 'relationship': '42 20 79 2 38', 'object2': '29 20 18 30 32'}\n",
            "\n",
            "90/119 Video: 000089\n",
            "{'object1': '20 21 18 29 33', 'relationship': '38 17 42 79 40', 'object2': '20 21 18 33 29'}\n",
            "\n",
            "91/119 Video: 000090\n",
            "{'object1': '0 31 13 21 29', 'relationship': '15 3 47 65 74', 'object2': '0 31 13 29 21'}\n",
            "\n",
            "92/119 Video: 000091\n",
            "{'object1': '29 0 21 2 5', 'relationship': '15 61 34 60 21', 'object2': '29 0 21 2 5'}\n",
            "\n",
            "93/119 Video: 000092\n",
            "{'object1': '29 18 24 21 30', 'relationship': '20 39 40 42 2', 'object2': '29 18 30 24 33'}\n",
            "\n",
            "94/119 Video: 000093\n",
            "{'object1': '2 5 23 21 29', 'relationship': '24 29 46 66 67', 'object2': '2 5 23 30 21'}\n",
            "\n",
            "95/119 Video: 000094\n",
            "{'object1': '10 26 5 30 23', 'relationship': '53 76 22 13 11', 'object2': '10 30 26 5 23'}\n",
            "\n",
            "96/119 Video: 000095\n",
            "{'object1': '29 18 24 32 9', 'relationship': '20 39 73 42 38', 'object2': '29 18 24 32 30'}\n",
            "\n",
            "97/119 Video: 000096\n",
            "{'object1': '1 8 3 11 12', 'relationship': '7 75 4 47 57', 'object2': '1 8 3 12 11'}\n",
            "\n",
            "98/119 Video: 000097\n",
            "{'object1': '5 2 9 23 29', 'relationship': '24 46 59 44 66', 'object2': '5 2 30 9 23'}\n",
            "\n",
            "99/119 Video: 000098\n",
            "{'object1': '29 5 23 2 21', 'relationship': '40 25 33 8 39', 'object2': '29 23 5 7 33'}\n",
            "\n",
            "100/119 Video: 000099\n",
            "{'object1': '2 5 23 21 29', 'relationship': '24 29 46 66 67', 'object2': '2 5 23 30 21'}\n",
            "\n",
            "101/119 Video: 000100\n",
            "{'object1': '2 5 23 21 29', 'relationship': '24 29 46 66 50', 'object2': '2 5 23 30 21'}\n",
            "\n",
            "102/119 Video: 000101\n",
            "{'object1': '29 0 8 2 31', 'relationship': '60 8 32 1 75', 'object2': '29 0 8 3 31'}\n",
            "\n",
            "103/119 Video: 000102\n",
            "{'object1': '11 32 20 3 13', 'relationship': '55 19 74 3 35', 'object2': '11 32 20 3 18'}\n",
            "\n",
            "104/119 Video: 000103\n",
            "{'object1': '9 29 5 8 14', 'relationship': '66 63 16 79 65', 'object2': '9 29 14 5 8'}\n",
            "\n",
            "105/119 Video: 000104\n",
            "{'object1': '29 18 21 24 20', 'relationship': '20 42 2 39 10', 'object2': '29 18 30 24 20'}\n",
            "\n",
            "106/119 Video: 000105\n",
            "{'object1': '12 32 20 11 29', 'relationship': '17 68 65 42 38', 'object2': '12 32 20 11 29'}\n",
            "\n",
            "107/119 Video: 000106\n",
            "{'object1': '20 12 32 29 11', 'relationship': '17 42 68 38 79', 'object2': '20 12 32 29 11'}\n",
            "\n",
            "108/119 Video: 000107\n",
            "{'object1': '13 21 11 31 29', 'relationship': '39 74 68 40 42', 'object2': '13 21 11 29 31'}\n",
            "\n",
            "109/119 Video: 000108\n",
            "{'object1': '29 0 21 2 30', 'relationship': '2 34 10 42 15', 'object2': '29 0 21 30 2'}\n",
            "\n",
            "110/119 Video: 000109\n",
            "{'object1': '29 8 0 9 3', 'relationship': '8 1 32 60 75', 'object2': '29 8 0 9 3'}\n",
            "\n",
            "111/119 Video: 000110\n",
            "{'object1': '5 2 9 23 30', 'relationship': '24 46 59 44 66', 'object2': '5 2 30 9 23'}\n",
            "\n",
            "112/119 Video: 000111\n",
            "{'object1': '6 3 9 8 1', 'relationship': '65 35 47 70 38', 'object2': '6 3 9 8 1'}\n",
            "\n",
            "113/119 Video: 000112\n",
            "{'object1': '29 15 24 18 32', 'relationship': '51 40 8 39 71', 'object2': '29 15 24 18 32'}\n",
            "\n",
            "114/119 Video: 000113\n",
            "{'object1': '9 6 29 3 8', 'relationship': '79 66 65 16 47', 'object2': '9 6 29 3 8'}\n",
            "\n",
            "115/119 Video: 000114\n",
            "{'object1': '23 2 19 5 29', 'relationship': '22 18 33 26 11', 'object2': '23 19 2 7 5'}\n",
            "\n",
            "116/119 Video: 000115\n",
            "{'object1': '29 24 18 30 15', 'relationship': '20 73 42 39 2', 'object2': '29 24 18 30 15'}\n",
            "\n",
            "117/119 Video: 000116\n",
            "{'object1': '34 3 11 14 1', 'relationship': '65 70 35 9 38', 'object2': '34 3 11 14 1'}\n",
            "\n",
            "118/119 Video: 000117\n",
            "{'object1': '34 3 11 14 1', 'relationship': '65 70 35 9 38', 'object2': '34 3 11 14 22'}\n",
            "\n",
            "119/119 Video: 000118\n",
            "{'object1': '34 1 14 2 8', 'relationship': '65 63 4 57 38', 'object2': '34 1 14 8 21'}\n",
            "\n"
          ],
          "name": "stdout"
        }
      ]
    },
    {
      "cell_type": "code",
      "metadata": {
        "id": "4BDtHCG2mRPt"
      },
      "source": [
        "# convert to submission format\n",
        "path = '/content/drive/MyDrive/CS5242/datafile/sid_models/'\n",
        "\n",
        "df_submission = pd.DataFrame(columns=['label'])\n",
        "df_submission.index.names = ['ID']\n",
        "id = 0\n",
        "for i in df_pred.index:\n",
        "  for j in df_pred.loc[str(i)]:\n",
        "    df_submission.loc[id] = j\n",
        "    id += 1    \n",
        "  \n",
        "df_submission.to_csv(path+ 'submission_stacked_non-teacher.csv')"
      ],
      "execution_count": null,
      "outputs": []
    }
  ]
}